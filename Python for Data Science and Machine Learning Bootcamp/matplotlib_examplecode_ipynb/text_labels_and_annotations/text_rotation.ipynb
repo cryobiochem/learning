{
  "cells": [
    {
      "cell_type": "code",
      "execution_count": null,
      "metadata": {
        "collapsed": false
      },
      "outputs": [],
      "source": [
        "%matplotlib inline"
      ]
    },
    {
      "cell_type": "markdown",
      "metadata": {},
      "source": [
        "\n# Default text rotation demonstration\n\n\nThe way Matplotlib does text layout by default is counter-intuitive to some, so\nthis example is designed to make it a little clearer.\n\nThe text is aligned by its bounding box (the rectangular box that surrounds the\nink rectangle).  The order of operations is rotation then alignment.\nBasically, the text is centered at your (x, y) location, rotated around this\npoint, and then aligned according to the bounding box of the rotated text.\n\nSo if you specify left, bottom alignment, the bottom left of the\nbounding box of the rotated text will be at the (x, y) coordinate of the text.\n\nBut a picture is worth a thousand words!\n"
      ]
    },
    {
      "cell_type": "code",
      "execution_count": null,
      "metadata": {
        "collapsed": false
      },
      "outputs": [],
      "source": [
        "import matplotlib.pyplot as plt\nimport numpy as np\n\n\ndef addtext(ax, props):\n    ax.text(0.5, 0.5, 'text 0', props, rotation=0)\n    ax.text(1.5, 0.5, 'text 45', props, rotation=45)\n    ax.text(2.5, 0.5, 'text 135', props, rotation=135)\n    ax.text(3.5, 0.5, 'text 225', props, rotation=225)\n    ax.text(4.5, 0.5, 'text -45', props, rotation=-45)\n    for x in range(0, 5):\n        ax.scatter(x + 0.5, 0.5, color='r', alpha=0.5)\n    ax.set_yticks([0, .5, 1])\n    ax.set_xticks(np.arange(0, 5.1, 0.5))\n    ax.set_xlim(0, 5)\n    ax.grid(True)\n\n\n# the text bounding box\nbbox = {'fc': '0.8', 'pad': 0}\n\nfig, axs = plt.subplots(2, 1, sharex=True)\n\naddtext(axs[0], {'ha': 'center', 'va': 'center', 'bbox': bbox})\naxs[0].set_ylabel('center / center')\n\naddtext(axs[1], {'ha': 'left', 'va': 'bottom', 'bbox': bbox})\naxs[1].set_ylabel('left / bottom')\n\nplt.show()"
      ]
    }
  ],
  "metadata": {
    "kernelspec": {
      "display_name": "Python 3",
      "language": "python",
      "name": "python3"
    },
    "language_info": {
      "codemirror_mode": {
        "name": "ipython",
        "version": 3
      },
      "file_extension": ".py",
      "mimetype": "text/x-python",
      "name": "python",
      "nbconvert_exporter": "python",
      "pygments_lexer": "ipython3",
      "version": "3.8.2"
    }
  },
  "nbformat": 4,
  "nbformat_minor": 0
}