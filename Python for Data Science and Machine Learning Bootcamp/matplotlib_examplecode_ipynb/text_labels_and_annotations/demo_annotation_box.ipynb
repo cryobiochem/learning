{
  "cells": [
    {
      "cell_type": "code",
      "execution_count": null,
      "metadata": {
        "collapsed": false
      },
      "outputs": [],
      "source": [
        "%matplotlib inline"
      ]
    },
    {
      "cell_type": "markdown",
      "metadata": {},
      "source": [
        "# Demo Annotation Box\n\n\nThe AnnotationBbox Artist creates an annotation using an OffsetBox. This\nexample demonstrates three different OffsetBoxes: TextArea, DrawingArea and\nOffsetImage. AnnotationBbox gives more fine-grained control than using the axes\nmethod annotate.\n"
      ]
    },
    {
      "cell_type": "code",
      "execution_count": null,
      "metadata": {
        "collapsed": false
      },
      "outputs": [],
      "source": [
        "import matplotlib.pyplot as plt\nimport numpy as np\n\nfrom matplotlib.patches import Circle\nfrom matplotlib.offsetbox import (TextArea, DrawingArea, OffsetImage,\n                                  AnnotationBbox)\nfrom matplotlib.cbook import get_sample_data\n\n\nfig, ax = plt.subplots()\n\n# Define a 1st position to annotate (display it with a marker)\nxy = (0.5, 0.7)\nax.plot(xy[0], xy[1], \".r\")\n\n# Annotate the 1st position with a text box ('Test 1')\noffsetbox = TextArea(\"Test 1\", minimumdescent=False)\n\nab = AnnotationBbox(offsetbox, xy,\n                    xybox=(-20, 40),\n                    xycoords='data',\n                    boxcoords=\"offset points\",\n                    arrowprops=dict(arrowstyle=\"->\"))\nax.add_artist(ab)\n\n# Annotate the 1st position with another text box ('Test')\noffsetbox = TextArea(\"Test\", minimumdescent=False)\n\nab = AnnotationBbox(offsetbox, xy,\n                    xybox=(1.02, xy[1]),\n                    xycoords='data',\n                    boxcoords=(\"axes fraction\", \"data\"),\n                    box_alignment=(0., 0.5),\n                    arrowprops=dict(arrowstyle=\"->\"))\nax.add_artist(ab)\n\n# Define a 2nd position to annotate (don't display with a marker this time)\nxy = [0.3, 0.55]\n\n# Annotate the 2nd position with a circle patch\nda = DrawingArea(20, 20, 0, 0)\np = Circle((10, 10), 10)\nda.add_artist(p)\n\nab = AnnotationBbox(da, xy,\n                    xybox=(1.02, xy[1]),\n                    xycoords='data',\n                    boxcoords=(\"axes fraction\", \"data\"),\n                    box_alignment=(0., 0.5),\n                    arrowprops=dict(arrowstyle=\"->\"))\n\nax.add_artist(ab)\n\n# Annotate the 2nd position with an image (a generated array of pixels)\narr = np.arange(100).reshape((10, 10))\nim = OffsetImage(arr, zoom=2)\nim.image.axes = ax\n\nab = AnnotationBbox(im, xy,\n                    xybox=(-50., 50.),\n                    xycoords='data',\n                    boxcoords=\"offset points\",\n                    pad=0.3,\n                    arrowprops=dict(arrowstyle=\"->\"))\n\nax.add_artist(ab)\n\n# Annotate the 2nd position with another image (a Grace Hopper portrait)\nwith get_sample_data(\"grace_hopper.png\") as file:\n    arr_img = plt.imread(file, format='png')\n\nimagebox = OffsetImage(arr_img, zoom=0.2)\nimagebox.image.axes = ax\n\nab = AnnotationBbox(imagebox, xy,\n                    xybox=(120., -80.),\n                    xycoords='data',\n                    boxcoords=\"offset points\",\n                    pad=0.5,\n                    arrowprops=dict(\n                        arrowstyle=\"->\",\n                        connectionstyle=\"angle,angleA=0,angleB=90,rad=3\")\n                    )\n\nax.add_artist(ab)\n\n# Fix the display limits to see everything\nax.set_xlim(0, 1)\nax.set_ylim(0, 1)\n\nplt.show()"
      ]
    },
    {
      "cell_type": "markdown",
      "metadata": {},
      "source": [
        "------------\n\nReferences\n\"\"\"\"\"\"\"\"\"\"\n\nThe use of the following functions, methods and classes is shown in this\nexample:\n\n"
      ]
    },
    {
      "cell_type": "code",
      "execution_count": null,
      "metadata": {
        "collapsed": false
      },
      "outputs": [],
      "source": [
        "Circle\nTextArea\nDrawingArea\nOffsetImage\nAnnotationBbox\nget_sample_data\nplt.subplots\nplt.imread\nplt.show"
      ]
    }
  ],
  "metadata": {
    "kernelspec": {
      "display_name": "Python 3",
      "language": "python",
      "name": "python3"
    },
    "language_info": {
      "codemirror_mode": {
        "name": "ipython",
        "version": 3
      },
      "file_extension": ".py",
      "mimetype": "text/x-python",
      "name": "python",
      "nbconvert_exporter": "python",
      "pygments_lexer": "ipython3",
      "version": "3.8.2"
    }
  },
  "nbformat": 4,
  "nbformat_minor": 0
}