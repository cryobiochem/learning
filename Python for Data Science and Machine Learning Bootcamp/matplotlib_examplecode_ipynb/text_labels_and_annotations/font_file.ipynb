{
  "cells": [
    {
      "cell_type": "code",
      "execution_count": null,
      "metadata": {
        "collapsed": false
      },
      "outputs": [],
      "source": [
        "%matplotlib inline"
      ]
    },
    {
      "cell_type": "markdown",
      "metadata": {},
      "source": [
        "\n# Using a ttf font file in Matplotlib\n\n\nAlthough it is usually not a good idea to explicitly point to a single ttf file\nfor a font instance, you can do so using the `.font_manager.FontProperties`\n*fname* argument.\n\nHere, we use the Computer Modern roman font (``cmr10``) shipped with\nMatplotlib.\n\nFor a more flexible solution, see\n:doc:`/gallery/text_labels_and_annotations/font_family_rc_sgskip` and\n:doc:`/gallery/text_labels_and_annotations/fonts_demo`.\n"
      ]
    },
    {
      "cell_type": "code",
      "execution_count": null,
      "metadata": {
        "collapsed": false
      },
      "outputs": [],
      "source": [
        "from pathlib import Path\n\nimport matplotlib as mpl\nfrom matplotlib import font_manager as fm\nimport matplotlib.pyplot as plt\n\nfig, ax = plt.subplots()\n\nfpath = Path(mpl.get_data_path(), \"fonts/ttf/cmr10.ttf\")\nprop = fm.FontProperties(fname=fpath)\nax.set_title(f'This is a special font: {fpath.name}', fontproperties=prop)\nax.set_xlabel('This is the default font')\n\nplt.show()"
      ]
    },
    {
      "cell_type": "markdown",
      "metadata": {},
      "source": [
        "------------\n\nReferences\n\"\"\"\"\"\"\"\"\"\"\n\nThe use of the following functions, methods, classes and modules is shown\nin this example:\n\n"
      ]
    },
    {
      "cell_type": "code",
      "execution_count": null,
      "metadata": {
        "collapsed": false
      },
      "outputs": [],
      "source": [
        "import matplotlib\nmatplotlib.font_manager.FontProperties\nmatplotlib.axes.Axes.set_title"
      ]
    }
  ],
  "metadata": {
    "kernelspec": {
      "display_name": "Python 3",
      "language": "python",
      "name": "python3"
    },
    "language_info": {
      "codemirror_mode": {
        "name": "ipython",
        "version": 3
      },
      "file_extension": ".py",
      "mimetype": "text/x-python",
      "name": "python",
      "nbconvert_exporter": "python",
      "pygments_lexer": "ipython3",
      "version": "3.8.2"
    }
  },
  "nbformat": 4,
  "nbformat_minor": 0
}