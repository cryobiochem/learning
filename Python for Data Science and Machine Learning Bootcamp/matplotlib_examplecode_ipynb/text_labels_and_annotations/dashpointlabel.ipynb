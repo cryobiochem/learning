{
  "cells": [
    {
      "cell_type": "code",
      "execution_count": null,
      "metadata": {
        "collapsed": false
      },
      "outputs": [],
      "source": [
        "%matplotlib inline"
      ]
    },
    {
      "cell_type": "markdown",
      "metadata": {},
      "source": [
        "\n# Dashpoint Label\n\n"
      ]
    },
    {
      "cell_type": "code",
      "execution_count": null,
      "metadata": {
        "collapsed": false
      },
      "outputs": [],
      "source": [
        "import warnings\n\nimport matplotlib.pyplot as plt\n\nwarnings.simplefilter(\"ignore\")  # Ignore deprecation of withdash.\n\nDATA = ((1, 3),\n        (2, 4),\n        (3, 1),\n        (4, 2))\n# dash_style =\n#     direction, length, (text)rotation, dashrotation, push\n# (The parameters are varied to show their effects, not for visual appeal).\ndash_style = (\n    (0, 20, -15, 30, 10),\n    (1, 30, 0, 15, 10),\n    (0, 40, 15, 15, 10),\n    (1, 20, 30, 60, 10))\n\nfig, ax = plt.subplots()\n\n(x, y) = zip(*DATA)\nax.plot(x, y, marker='o')\nfor i in range(len(DATA)):\n    (x, y) = DATA[i]\n    (dd, dl, r, dr, dp) = dash_style[i]\n    t = ax.text(x, y, str((x, y)), withdash=True,\n                dashdirection=dd,\n                dashlength=dl,\n                rotation=r,\n                dashrotation=dr,\n                dashpush=dp,\n                )\n\nax.set_xlim((0, 5))\nax.set_ylim((0, 5))\nax.set(title=\"NOTE: The withdash parameter is deprecated.\")\n\nplt.show()"
      ]
    }
  ],
  "metadata": {
    "kernelspec": {
      "display_name": "Python 3",
      "language": "python",
      "name": "python3"
    },
    "language_info": {
      "codemirror_mode": {
        "name": "ipython",
        "version": 3
      },
      "file_extension": ".py",
      "mimetype": "text/x-python",
      "name": "python",
      "nbconvert_exporter": "python",
      "pygments_lexer": "ipython3",
      "version": "3.8.2"
    }
  },
  "nbformat": 4,
  "nbformat_minor": 0
}