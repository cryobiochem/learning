{
  "cells": [
    {
      "cell_type": "code",
      "execution_count": null,
      "metadata": {
        "collapsed": false
      },
      "outputs": [],
      "source": [
        "%matplotlib inline"
      ]
    },
    {
      "cell_type": "markdown",
      "metadata": {},
      "source": [
        "\n# Date tick labels\n\n\nShow how to make date plots in Matplotlib using date tick locators and\nformatters.  See :doc:`/gallery/ticks_and_spines/major_minor_demo` for more\ninformation on controlling major and minor ticks.\n\nAll matplotlib date plotting is done by converting date instances into days\nsince 0001-01-01 00:00:00 UTC plus one day (for historical reasons).  The\nconversion, tick locating and formatting is done behind the scenes so this\nis most transparent to you.  The dates module provides several converter\nfunctions `matplotlib.dates.date2num` and `matplotlib.dates.num2date`.\nThese can convert between `datetime.datetime` objects and\n:class:`numpy.datetime64` objects.\n"
      ]
    },
    {
      "cell_type": "code",
      "execution_count": null,
      "metadata": {
        "collapsed": false
      },
      "outputs": [],
      "source": [
        "import numpy as np\nimport matplotlib.pyplot as plt\nimport matplotlib.dates as mdates\nimport matplotlib.cbook as cbook\n\nyears = mdates.YearLocator()   # every year\nmonths = mdates.MonthLocator()  # every month\nyears_fmt = mdates.DateFormatter('%Y')\n\n# Load a numpy structured array from yahoo csv data with fields date, open,\n# close, volume, adj_close from the mpl-data/example directory.  This array\n# stores the date as an np.datetime64 with a day unit ('D') in the 'date'\n# column.\nwith cbook.get_sample_data('goog.npz') as datafile:\n    data = np.load(datafile)['price_data']\n\nfig, ax = plt.subplots()\nax.plot('date', 'adj_close', data=data)\n\n# format the ticks\nax.xaxis.set_major_locator(years)\nax.xaxis.set_major_formatter(years_fmt)\nax.xaxis.set_minor_locator(months)\n\n# round to nearest years.\ndatemin = np.datetime64(data['date'][0], 'Y')\ndatemax = np.datetime64(data['date'][-1], 'Y') + np.timedelta64(1, 'Y')\nax.set_xlim(datemin, datemax)\n\n# format the coords message box\nax.format_xdata = mdates.DateFormatter('%Y-%m-%d')\nax.format_ydata = lambda x: '$%1.2f' % x  # format the price.\nax.grid(True)\n\n# rotates and right aligns the x labels, and moves the bottom of the\n# axes up to make room for them\nfig.autofmt_xdate()\n\nplt.show()"
      ]
    }
  ],
  "metadata": {
    "kernelspec": {
      "display_name": "Python 3",
      "language": "python",
      "name": "python3"
    },
    "language_info": {
      "codemirror_mode": {
        "name": "ipython",
        "version": 3
      },
      "file_extension": ".py",
      "mimetype": "text/x-python",
      "name": "python",
      "nbconvert_exporter": "python",
      "pygments_lexer": "ipython3",
      "version": "3.8.2"
    }
  },
  "nbformat": 4,
  "nbformat_minor": 0
}