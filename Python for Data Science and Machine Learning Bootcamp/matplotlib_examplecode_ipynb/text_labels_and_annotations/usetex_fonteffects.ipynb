{
  "cells": [
    {
      "cell_type": "code",
      "execution_count": null,
      "metadata": {
        "collapsed": false
      },
      "outputs": [],
      "source": [
        "%matplotlib inline"
      ]
    },
    {
      "cell_type": "markdown",
      "metadata": {},
      "source": [
        "\n# Usetex Fonteffects\n\n\nThis script demonstrates that font effects specified in your pdftex.map\nare now supported in pdf usetex.\n"
      ]
    },
    {
      "cell_type": "code",
      "execution_count": null,
      "metadata": {
        "collapsed": false
      },
      "outputs": [],
      "source": [
        "import matplotlib\nimport matplotlib.pyplot as plt\nmatplotlib.rc('text', usetex=True)\n\n\ndef setfont(font):\n    return r'\\font\\a %s at 14pt\\a ' % font\n\n\nfor y, font, text in zip(range(5),\n                         ['ptmr8r', 'ptmri8r', 'ptmro8r',\n                          'ptmr8rn', 'ptmrr8re'],\n                         ['Nimbus Roman No9 L ' + x for x in\n                          ['', 'Italics (real italics for comparison)',\n                           '(slanted)', '(condensed)', '(extended)']]):\n    plt.text(0, y, setfont(font) + text)\n\nplt.ylim(-1, 5)\nplt.xlim(-0.2, 0.6)\nplt.setp(plt.gca(), frame_on=False, xticks=(), yticks=())\nplt.title('Usetex font effects')\nplt.savefig('usetex_fonteffects.pdf')"
      ]
    }
  ],
  "metadata": {
    "kernelspec": {
      "display_name": "Python 3",
      "language": "python",
      "name": "python3"
    },
    "language_info": {
      "codemirror_mode": {
        "name": "ipython",
        "version": 3
      },
      "file_extension": ".py",
      "mimetype": "text/x-python",
      "name": "python",
      "nbconvert_exporter": "python",
      "pygments_lexer": "ipython3",
      "version": "3.8.2"
    }
  },
  "nbformat": 4,
  "nbformat_minor": 0
}