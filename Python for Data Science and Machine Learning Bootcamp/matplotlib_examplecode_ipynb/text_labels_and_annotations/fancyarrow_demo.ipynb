{
  "cells": [
    {
      "cell_type": "code",
      "execution_count": null,
      "metadata": {
        "collapsed": false
      },
      "outputs": [],
      "source": [
        "%matplotlib inline"
      ]
    },
    {
      "cell_type": "markdown",
      "metadata": {},
      "source": [
        "\n# Fancyarrow Demo\n\n"
      ]
    },
    {
      "cell_type": "code",
      "execution_count": null,
      "metadata": {
        "collapsed": false
      },
      "outputs": [],
      "source": [
        "import matplotlib.patches as mpatches\nimport matplotlib.pyplot as plt\n\nstyles = mpatches.ArrowStyle.get_styles()\n\nncol = 2\nnrow = (len(styles) + 1) // ncol\nfigheight = (nrow + 0.5)\nfig = plt.figure(figsize=(4 * ncol / 1.5, figheight / 1.5))\nfontsize = 0.2 * 70\n\n\nax = fig.add_axes([0, 0, 1, 1], frameon=False, aspect=1.)\n\nax.set_xlim(0, 4 * ncol)\nax.set_ylim(0, figheight)\n\n\ndef to_texstring(s):\n    s = s.replace(\"<\", r\"$<$\")\n    s = s.replace(\">\", r\"$>$\")\n    s = s.replace(\"|\", r\"$|$\")\n    return s\n\n\nfor i, (stylename, styleclass) in enumerate(sorted(styles.items())):\n    x = 3.2 + (i // nrow) * 4\n    y = (figheight - 0.7 - i % nrow)  # /figheight\n    p = mpatches.Circle((x, y), 0.2)\n    ax.add_patch(p)\n\n    ax.annotate(to_texstring(stylename), (x, y),\n                (x - 1.2, y),\n                ha=\"right\", va=\"center\",\n                size=fontsize,\n                arrowprops=dict(arrowstyle=stylename,\n                                patchB=p,\n                                shrinkA=5,\n                                shrinkB=5,\n                                fc=\"k\", ec=\"k\",\n                                connectionstyle=\"arc3,rad=-0.05\",\n                                ),\n                bbox=dict(boxstyle=\"square\", fc=\"w\"))\n\nax.xaxis.set_visible(False)\nax.yaxis.set_visible(False)\n\nplt.show()"
      ]
    },
    {
      "cell_type": "markdown",
      "metadata": {},
      "source": [
        "------------\n\nReferences\n\"\"\"\"\"\"\"\"\"\"\n\nThe use of the following functions, methods, classes and modules is shown\nin this example:\n\n"
      ]
    },
    {
      "cell_type": "code",
      "execution_count": null,
      "metadata": {
        "collapsed": false
      },
      "outputs": [],
      "source": [
        "import matplotlib\nmatplotlib.patches\nmatplotlib.patches.ArrowStyle\nmatplotlib.patches.ArrowStyle.get_styles\nmatplotlib.axes.Axes.annotate"
      ]
    }
  ],
  "metadata": {
    "kernelspec": {
      "display_name": "Python 3",
      "language": "python",
      "name": "python3"
    },
    "language_info": {
      "codemirror_mode": {
        "name": "ipython",
        "version": 3
      },
      "file_extension": ".py",
      "mimetype": "text/x-python",
      "name": "python",
      "nbconvert_exporter": "python",
      "pygments_lexer": "ipython3",
      "version": "3.8.2"
    }
  },
  "nbformat": 4,
  "nbformat_minor": 0
}