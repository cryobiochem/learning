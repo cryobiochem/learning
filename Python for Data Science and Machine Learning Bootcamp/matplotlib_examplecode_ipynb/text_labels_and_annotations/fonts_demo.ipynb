{
  "cells": [
    {
      "cell_type": "code",
      "execution_count": null,
      "metadata": {
        "collapsed": false
      },
      "outputs": [],
      "source": [
        "%matplotlib inline"
      ]
    },
    {
      "cell_type": "markdown",
      "metadata": {},
      "source": [
        "\n==================================\nFonts demo (object-oriented style)\n==================================\n\nSet font properties using setters.\n\nSee :doc:`fonts_demo_kw` to achieve the same effect using kwargs.\n"
      ]
    },
    {
      "cell_type": "code",
      "execution_count": null,
      "metadata": {
        "collapsed": false
      },
      "outputs": [],
      "source": [
        "from matplotlib.font_manager import FontProperties\nimport matplotlib.pyplot as plt\n\nfont0 = FontProperties()\nalignment = {'horizontalalignment': 'center', 'verticalalignment': 'baseline'}\n# Show family options\n\nfamilies = ['serif', 'sans-serif', 'cursive', 'fantasy', 'monospace']\n\nfont1 = font0.copy()\nfont1.set_size('large')\n\nt = plt.figtext(0.1, 0.9, 'family', fontproperties=font1, **alignment)\n\nyp = [0.8, 0.7, 0.6, 0.5, 0.4, 0.3, 0.2]\n\nfor k, family in enumerate(families):\n    font = font0.copy()\n    font.set_family(family)\n    t = plt.figtext(0.1, yp[k], family, fontproperties=font, **alignment)\n\n# Show style options\n\nstyles = ['normal', 'italic', 'oblique']\n\nt = plt.figtext(0.3, 0.9, 'style', fontproperties=font1, **alignment)\n\nfor k, style in enumerate(styles):\n    font = font0.copy()\n    font.set_family('sans-serif')\n    font.set_style(style)\n    t = plt.figtext(0.3, yp[k], style, fontproperties=font, **alignment)\n\n# Show variant options\n\nvariants = ['normal', 'small-caps']\n\nt = plt.figtext(0.5, 0.9, 'variant', fontproperties=font1, **alignment)\n\nfor k, variant in enumerate(variants):\n    font = font0.copy()\n    font.set_family('serif')\n    font.set_variant(variant)\n    t = plt.figtext(0.5, yp[k], variant, fontproperties=font, **alignment)\n\n# Show weight options\n\nweights = ['light', 'normal', 'medium', 'semibold', 'bold', 'heavy', 'black']\n\nt = plt.figtext(0.7, 0.9, 'weight', fontproperties=font1, **alignment)\n\nfor k, weight in enumerate(weights):\n    font = font0.copy()\n    font.set_weight(weight)\n    t = plt.figtext(0.7, yp[k], weight, fontproperties=font, **alignment)\n\n# Show size options\n\nsizes = ['xx-small', 'x-small', 'small', 'medium', 'large',\n         'x-large', 'xx-large']\n\nt = plt.figtext(0.9, 0.9, 'size', fontproperties=font1, **alignment)\n\nfor k, size in enumerate(sizes):\n    font = font0.copy()\n    font.set_size(size)\n    t = plt.figtext(0.9, yp[k], size, fontproperties=font, **alignment)\n\n# Show bold italic\n\nfont = font0.copy()\nfont.set_style('italic')\nfont.set_weight('bold')\nfont.set_size('x-small')\nt = plt.figtext(0.3, 0.1, 'bold italic', fontproperties=font, **alignment)\n\nfont = font0.copy()\nfont.set_style('italic')\nfont.set_weight('bold')\nfont.set_size('medium')\nt = plt.figtext(0.3, 0.2, 'bold italic', fontproperties=font, **alignment)\n\nfont = font0.copy()\nfont.set_style('italic')\nfont.set_weight('bold')\nfont.set_size('x-large')\nt = plt.figtext(-0.4, 0.3, 'bold italic', fontproperties=font, **alignment)\n\nplt.show()"
      ]
    }
  ],
  "metadata": {
    "kernelspec": {
      "display_name": "Python 3",
      "language": "python",
      "name": "python3"
    },
    "language_info": {
      "codemirror_mode": {
        "name": "ipython",
        "version": 3
      },
      "file_extension": ".py",
      "mimetype": "text/x-python",
      "name": "python",
      "nbconvert_exporter": "python",
      "pygments_lexer": "ipython3",
      "version": "3.8.2"
    }
  },
  "nbformat": 4,
  "nbformat_minor": 0
}