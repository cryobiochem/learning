{
  "cells": [
    {
      "cell_type": "code",
      "execution_count": null,
      "metadata": {
        "collapsed": false
      },
      "outputs": [],
      "source": [
        "%matplotlib inline"
      ]
    },
    {
      "cell_type": "markdown",
      "metadata": {},
      "source": [
        "\n# Arrow Demo\n\n\nArrow drawing example for the new fancy_arrow facilities.\n\nCode contributed by: Rob Knight <rob@spot.colorado.edu>\n\nusage:\n\n  python arrow_demo.py realistic|full|sample|extreme\n"
      ]
    },
    {
      "cell_type": "code",
      "execution_count": null,
      "metadata": {
        "collapsed": false
      },
      "outputs": [],
      "source": [
        "import matplotlib.pyplot as plt\nimport numpy as np\n\nrates_to_bases = {'r1': 'AT', 'r2': 'TA', 'r3': 'GA', 'r4': 'AG', 'r5': 'CA',\n                  'r6': 'AC', 'r7': 'GT', 'r8': 'TG', 'r9': 'CT', 'r10': 'TC',\n                  'r11': 'GC', 'r12': 'CG'}\nnumbered_bases_to_rates = {v: k for k, v in rates_to_bases.items()}\nlettered_bases_to_rates = {v: 'r' + v for k, v in rates_to_bases.items()}\n\n\ndef make_arrow_plot(data, size=4, display='length', shape='right',\n                    max_arrow_width=0.03, arrow_sep=0.02, alpha=0.5,\n                    normalize_data=False, ec=None, labelcolor=None,\n                    head_starts_at_zero=True,\n                    rate_labels=lettered_bases_to_rates,\n                    **kwargs):\n    \"\"\"Makes an arrow plot.\n\n    Parameters\n    ----------\n    data\n        Dict with probabilities for the bases and pair transitions.\n    size\n        Size of the graph in inches.\n    display : {'length', 'width', 'alpha'}\n        The arrow property to change.\n    shape : {'full', 'left', 'right'}\n        For full or half arrows.\n    max_arrow_width : float\n        Maximum width of an arrow, data coordinates.\n    arrow_sep : float\n        Separation between arrows in a pair, data coordinates.\n    alpha : float\n        Maximum opacity of arrows.\n    **kwargs\n        Can be anything allowed by a Arrow object, e.g. *linewidth* or\n        *edgecolor*.\n    \"\"\"\n\n    plt.xlim(-0.5, 1.5)\n    plt.ylim(-0.5, 1.5)\n    plt.gcf().set_size_inches(size, size)\n    plt.xticks([])\n    plt.yticks([])\n    max_text_size = size * 12\n    min_text_size = size\n    label_text_size = size * 2.5\n    text_params = {'ha': 'center', 'va': 'center', 'family': 'sans-serif',\n                   'fontweight': 'bold'}\n    r2 = np.sqrt(2)\n\n    deltas = {\n        'AT': (1, 0),\n        'TA': (-1, 0),\n        'GA': (0, 1),\n        'AG': (0, -1),\n        'CA': (-1 / r2, 1 / r2),\n        'AC': (1 / r2, -1 / r2),\n        'GT': (1 / r2, 1 / r2),\n        'TG': (-1 / r2, -1 / r2),\n        'CT': (0, 1),\n        'TC': (0, -1),\n        'GC': (1, 0),\n        'CG': (-1, 0)}\n\n    colors = {\n        'AT': 'r',\n        'TA': 'k',\n        'GA': 'g',\n        'AG': 'r',\n        'CA': 'b',\n        'AC': 'r',\n        'GT': 'g',\n        'TG': 'k',\n        'CT': 'b',\n        'TC': 'k',\n        'GC': 'g',\n        'CG': 'b'}\n\n    label_positions = {\n        'AT': 'center',\n        'TA': 'center',\n        'GA': 'center',\n        'AG': 'center',\n        'CA': 'left',\n        'AC': 'left',\n        'GT': 'left',\n        'TG': 'left',\n        'CT': 'center',\n        'TC': 'center',\n        'GC': 'center',\n        'CG': 'center'}\n\n    def do_fontsize(k):\n        return float(np.clip(max_text_size * np.sqrt(data[k]),\n                             min_text_size, max_text_size))\n\n    A = plt.text(0, 1, '$A_3$', color='r', size=do_fontsize('A'),\n                 **text_params)\n    T = plt.text(1, 1, '$T_3$', color='k', size=do_fontsize('T'),\n                 **text_params)\n    G = plt.text(0, 0, '$G_3$', color='g', size=do_fontsize('G'),\n                 **text_params)\n    C = plt.text(1, 0, '$C_3$', color='b', size=do_fontsize('C'),\n                 **text_params)\n\n    arrow_h_offset = 0.25  # data coordinates, empirically determined\n    max_arrow_length = 1 - 2 * arrow_h_offset\n    max_head_width = 2.5 * max_arrow_width\n    max_head_length = 2 * max_arrow_width\n    arrow_params = {'length_includes_head': True, 'shape': shape,\n                    'head_starts_at_zero': head_starts_at_zero}\n    sf = 0.6  # max arrow size represents this in data coords\n\n    d = (r2 / 2 + arrow_h_offset - 0.5) / r2  # distance for diags\n    r2v = arrow_sep / r2  # offset for diags\n\n    # tuple of x, y for start position\n    positions = {\n        'AT': (arrow_h_offset, 1 + arrow_sep),\n        'TA': (1 - arrow_h_offset, 1 - arrow_sep),\n        'GA': (-arrow_sep, arrow_h_offset),\n        'AG': (arrow_sep, 1 - arrow_h_offset),\n        'CA': (1 - d - r2v, d - r2v),\n        'AC': (d + r2v, 1 - d + r2v),\n        'GT': (d - r2v, d + r2v),\n        'TG': (1 - d + r2v, 1 - d - r2v),\n        'CT': (1 - arrow_sep, arrow_h_offset),\n        'TC': (1 + arrow_sep, 1 - arrow_h_offset),\n        'GC': (arrow_h_offset, arrow_sep),\n        'CG': (1 - arrow_h_offset, -arrow_sep)}\n\n    if normalize_data:\n        # find maximum value for rates, i.e. where keys are 2 chars long\n        max_val = max((v for k, v in data.items() if len(k) == 2), default=0)\n        # divide rates by max val, multiply by arrow scale factor\n        for k, v in data.items():\n            data[k] = v / max_val * sf\n\n    def draw_arrow(pair, alpha=alpha, ec=ec, labelcolor=labelcolor):\n        # set the length of the arrow\n        if display == 'length':\n            length = (max_head_length\n                      + data[pair] / sf * (max_arrow_length - max_head_length))\n        else:\n            length = max_arrow_length\n        # set the transparency of the arrow\n        if display == 'alpha':\n            alpha = min(data[pair] / sf, alpha)\n\n        # set the width of the arrow\n        if display == 'width':\n            scale = data[pair] / sf\n            width = max_arrow_width * scale\n            head_width = max_head_width * scale\n            head_length = max_head_length * scale\n        else:\n            width = max_arrow_width\n            head_width = max_head_width\n            head_length = max_head_length\n\n        fc = colors[pair]\n        ec = ec or fc\n\n        x_scale, y_scale = deltas[pair]\n        x_pos, y_pos = positions[pair]\n        plt.arrow(x_pos, y_pos, x_scale * length, y_scale * length,\n                  fc=fc, ec=ec, alpha=alpha, width=width,\n                  head_width=head_width, head_length=head_length,\n                  **arrow_params)\n\n        # figure out coordinates for text\n        # if drawing relative to base: x and y are same as for arrow\n        # dx and dy are one arrow width left and up\n        # need to rotate based on direction of arrow, use x_scale and y_scale\n        # as sin x and cos x?\n        sx, cx = y_scale, x_scale\n\n        where = label_positions[pair]\n        if where == 'left':\n            orig_position = 3 * np.array([[max_arrow_width, max_arrow_width]])\n        elif where == 'absolute':\n            orig_position = np.array([[max_arrow_length / 2.0,\n                                       3 * max_arrow_width]])\n        elif where == 'right':\n            orig_position = np.array([[length - 3 * max_arrow_width,\n                                       3 * max_arrow_width]])\n        elif where == 'center':\n            orig_position = np.array([[length / 2.0, 3 * max_arrow_width]])\n        else:\n            raise ValueError(\"Got unknown position parameter %s\" % where)\n\n        M = np.array([[cx, sx], [-sx, cx]])\n        coords = np.dot(orig_position, M) + [[x_pos, y_pos]]\n        x, y = np.ravel(coords)\n        orig_label = rate_labels[pair]\n        label = r'$%s_{_{\\mathrm{%s}}}$' % (orig_label[0], orig_label[1:])\n\n        plt.text(x, y, label, size=label_text_size, ha='center', va='center',\n                 color=labelcolor or fc)\n\n    for p in sorted(positions):\n        draw_arrow(p)\n\n\n# test data\nall_on_max = dict([(i, 1) for i in 'TCAG'] +\n                  [(i + j, 0.6) for i in 'TCAG' for j in 'TCAG'])\n\nrealistic_data = {\n    'A': 0.4,\n    'T': 0.3,\n    'G': 0.5,\n    'C': 0.2,\n    'AT': 0.4,\n    'AC': 0.3,\n    'AG': 0.2,\n    'TA': 0.2,\n    'TC': 0.3,\n    'TG': 0.4,\n    'CT': 0.2,\n    'CG': 0.3,\n    'CA': 0.2,\n    'GA': 0.1,\n    'GT': 0.4,\n    'GC': 0.1}\n\nextreme_data = {\n    'A': 0.75,\n    'T': 0.10,\n    'G': 0.10,\n    'C': 0.05,\n    'AT': 0.6,\n    'AC': 0.3,\n    'AG': 0.1,\n    'TA': 0.02,\n    'TC': 0.3,\n    'TG': 0.01,\n    'CT': 0.2,\n    'CG': 0.5,\n    'CA': 0.2,\n    'GA': 0.1,\n    'GT': 0.4,\n    'GC': 0.2}\n\nsample_data = {\n    'A': 0.2137,\n    'T': 0.3541,\n    'G': 0.1946,\n    'C': 0.2376,\n    'AT': 0.0228,\n    'AC': 0.0684,\n    'AG': 0.2056,\n    'TA': 0.0315,\n    'TC': 0.0629,\n    'TG': 0.0315,\n    'CT': 0.1355,\n    'CG': 0.0401,\n    'CA': 0.0703,\n    'GA': 0.1824,\n    'GT': 0.0387,\n    'GC': 0.1106}\n\n\nif __name__ == '__main__':\n    from sys import argv\n    d = None\n    if len(argv) > 1:\n        if argv[1] == 'full':\n            d = all_on_max\n            scaled = False\n        elif argv[1] == 'extreme':\n            d = extreme_data\n            scaled = False\n        elif argv[1] == 'realistic':\n            d = realistic_data\n            scaled = False\n        elif argv[1] == 'sample':\n            d = sample_data\n            scaled = True\n    if d is None:\n        d = all_on_max\n        scaled = False\n    if len(argv) > 2:\n        display = argv[2]\n    else:\n        display = 'length'\n\n    size = 4\n    plt.figure(figsize=(size, size))\n\n    make_arrow_plot(d, display=display, linewidth=0.001, edgecolor=None,\n                    normalize_data=scaled, head_starts_at_zero=True, size=size)\n\n    plt.show()"
      ]
    }
  ],
  "metadata": {
    "kernelspec": {
      "display_name": "Python 3",
      "language": "python",
      "name": "python3"
    },
    "language_info": {
      "codemirror_mode": {
        "name": "ipython",
        "version": 3
      },
      "file_extension": ".py",
      "mimetype": "text/x-python",
      "name": "python",
      "nbconvert_exporter": "python",
      "pygments_lexer": "ipython3",
      "version": "3.8.2"
    }
  },
  "nbformat": 4,
  "nbformat_minor": 0
}