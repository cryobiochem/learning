{
  "cells": [
    {
      "cell_type": "code",
      "execution_count": null,
      "metadata": {
        "collapsed": false
      },
      "outputs": [],
      "source": [
        "%matplotlib inline"
      ]
    },
    {
      "cell_type": "markdown",
      "metadata": {},
      "source": [
        "\n# Demo Text Rotation Mode\n\n\nThis example illustrates the effect of ``rotation_mode`` on the positioning\nof rotated text.\n\nRotated `.Text`\\s are created by passing the parameter ``rotation`` to\nthe constructor or the axes' method `~.axes.Axes.text`.\n\nThe actual positioning depends on the additional parameters\n``horizontalalignment``, ``verticalalignment`` and ``rotation_mode``.\n``rotation_mode`` determines the order of rotation and alignment:\n\n- ``roation_mode='default'`` (or None) first rotates the text and then aligns\n  the bounding box of the rotated text.\n- ``roation_mode='anchor'`` aligns the unrotated text and then rotates the\n  text around the point of alignment.\n"
      ]
    },
    {
      "cell_type": "code",
      "execution_count": null,
      "metadata": {
        "collapsed": false
      },
      "outputs": [],
      "source": [
        "import matplotlib.pyplot as plt\nfrom mpl_toolkits.axes_grid1.axes_grid import ImageGrid\n\n\ndef test_rotation_mode(fig, mode, subplot_location):\n    ha_list = [\"left\", \"center\", \"right\"]\n    va_list = [\"top\", \"center\", \"baseline\", \"bottom\"]\n    grid = ImageGrid(fig, subplot_location,\n                     nrows_ncols=(len(va_list), len(ha_list)),\n                     share_all=True, aspect=True, cbar_mode=None)\n\n    # labels and title\n    for ha, ax in zip(ha_list, grid.axes_row[-1]):\n        ax.axis[\"bottom\"].label.set_text(ha)\n    for va, ax in zip(va_list, grid.axes_column[0]):\n        ax.axis[\"left\"].label.set_text(va)\n    grid.axes_row[0][1].set_title(f\"rotation_mode='{mode}'\", size=\"large\")\n\n    if mode == \"default\":\n        kw = dict()\n    else:\n        kw = dict(\n            bbox=dict(boxstyle=\"square,pad=0.\", ec=\"none\", fc=\"C1\", alpha=0.3))\n\n    # use a different text alignment in each axes\n    texts = []\n    for (va, ha), ax in zip([(x, y) for x in va_list for y in ha_list], grid):\n        # prepare axes layout\n        for axis in ax.axis.values():\n            axis.toggle(ticks=False, ticklabels=False)\n        ax.axvline(0.5, color=\"skyblue\", zorder=0)\n        ax.axhline(0.5, color=\"skyblue\", zorder=0)\n        ax.plot(0.5, 0.5, color=\"C0\", marker=\"o\", zorder=1)\n\n        # add text with rotation and alignment settings\n        tx = ax.text(0.5, 0.5, \"Tpg\",\n                     size=\"x-large\", rotation=40,\n                     horizontalalignment=ha, verticalalignment=va,\n                     rotation_mode=mode, **kw)\n        texts.append(tx)\n\n    if mode == \"default\":\n        # highlight bbox\n        fig.canvas.draw()\n        for ax, tx in zip(grid, texts):\n            bb = tx.get_window_extent().inverse_transformed(ax.transData)\n            rect = plt.Rectangle((bb.x0, bb.y0), bb.width, bb.height,\n                                 facecolor=\"C1\", alpha=0.3, zorder=2)\n            ax.add_patch(rect)\n\n\nfig = plt.figure(figsize=(8, 6))\ntest_rotation_mode(fig, \"default\", 121)\ntest_rotation_mode(fig, \"anchor\", 122)\nplt.show()"
      ]
    },
    {
      "cell_type": "markdown",
      "metadata": {},
      "source": [
        "------------\n\nReferences\n\"\"\"\"\"\"\"\"\"\"\n\nThe use of the following method is shown in this example:\n\n"
      ]
    },
    {
      "cell_type": "code",
      "execution_count": null,
      "metadata": {
        "collapsed": false
      },
      "outputs": [],
      "source": [
        "import matplotlib\nmatplotlib.axes.Axes.text"
      ]
    }
  ],
  "metadata": {
    "kernelspec": {
      "display_name": "Python 3",
      "language": "python",
      "name": "python3"
    },
    "language_info": {
      "codemirror_mode": {
        "name": "ipython",
        "version": 3
      },
      "file_extension": ".py",
      "mimetype": "text/x-python",
      "name": "python",
      "nbconvert_exporter": "python",
      "pygments_lexer": "ipython3",
      "version": "3.8.2"
    }
  },
  "nbformat": 4,
  "nbformat_minor": 0
}