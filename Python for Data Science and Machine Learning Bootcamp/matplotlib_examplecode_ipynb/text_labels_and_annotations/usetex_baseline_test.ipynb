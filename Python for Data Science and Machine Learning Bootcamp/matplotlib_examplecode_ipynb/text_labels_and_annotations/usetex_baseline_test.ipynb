{
  "cells": [
    {
      "cell_type": "code",
      "execution_count": null,
      "metadata": {
        "collapsed": false
      },
      "outputs": [],
      "source": [
        "%matplotlib inline"
      ]
    },
    {
      "cell_type": "markdown",
      "metadata": {},
      "source": [
        "\n# Usetex Baseline Test\n\n"
      ]
    },
    {
      "cell_type": "code",
      "execution_count": null,
      "metadata": {
        "collapsed": false
      },
      "outputs": [],
      "source": [
        "import matplotlib.pyplot as plt\nimport matplotlib.axes as maxes\n\nfrom matplotlib import rcParams\nrcParams['text.usetex'] = True\n\n\nclass Axes(maxes.Axes):\n    \"\"\"\n    A hackish way to simultaneously draw texts w/ usetex=True and\n    usetex=False in the same figure. It does not work in the ps backend.\n    \"\"\"\n\n    def __init__(self, *args, usetex=False, preview=False, **kwargs):\n        self.usetex = usetex\n        self.preview = preview\n        super().__init__(*args, **kwargs)\n\n    def draw(self, renderer):\n        with plt.rc_context({\"text.usetex\": self.usetex,\n                             \"text.latex.preview\": self.preview}):\n            super().draw(renderer)\n\n\nsubplot = maxes.subplot_class_factory(Axes)\n\n\ndef test_window_extent(ax, usetex, preview):\n\n    va = \"baseline\"\n    ax.xaxis.set_visible(False)\n    ax.yaxis.set_visible(False)\n\n    text_kw = dict(va=va,\n                   size=50,\n                   bbox=dict(pad=0., ec=\"k\", fc=\"none\"))\n\n    test_strings = [\"lg\", r\"$\\frac{1}{2}\\pi$\",\n                    r\"$p^{3^A}$\", r\"$p_{3_2}$\"]\n\n    ax.axvline(0, color=\"r\")\n\n    for i, s in enumerate(test_strings):\n\n        ax.axhline(i, color=\"r\")\n        ax.text(0., 3 - i, s, **text_kw)\n\n    ax.set_xlim(-0.1, 1.1)\n    ax.set_ylim(-.8, 3.9)\n\n    ax.set_title(\"usetex=%s\\npreview=%s\" % (str(usetex), str(preview)))\n\n\nfig = plt.figure(figsize=(2 * 3, 6.5))\n\nfor i, usetex, preview in [[0, False, False],\n                           [1, True, False],\n                           [2, True, True]]:\n    ax = subplot(fig, 1, 3, i + 1, usetex=usetex, preview=preview)\n    fig.add_subplot(ax)\n    fig.subplots_adjust(top=0.85)\n\n    test_window_extent(ax, usetex=usetex, preview=preview)\n\n\nplt.show()"
      ]
    }
  ],
  "metadata": {
    "kernelspec": {
      "display_name": "Python 3",
      "language": "python",
      "name": "python3"
    },
    "language_info": {
      "codemirror_mode": {
        "name": "ipython",
        "version": 3
      },
      "file_extension": ".py",
      "mimetype": "text/x-python",
      "name": "python",
      "nbconvert_exporter": "python",
      "pygments_lexer": "ipython3",
      "version": "3.8.2"
    }
  },
  "nbformat": 4,
  "nbformat_minor": 0
}