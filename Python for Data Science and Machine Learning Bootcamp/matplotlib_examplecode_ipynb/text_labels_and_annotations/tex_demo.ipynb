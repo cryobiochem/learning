{
  "cells": [
    {
      "cell_type": "code",
      "execution_count": null,
      "metadata": {
        "collapsed": false
      },
      "outputs": [],
      "source": [
        "%matplotlib inline"
      ]
    },
    {
      "cell_type": "markdown",
      "metadata": {},
      "source": [
        "\n# Rendering math equation using TeX\n\n\nYou can use TeX to render all of your matplotlib text if the rc\nparameter ``text.usetex`` is set.  This works currently on the agg and ps\nbackends, and requires that you have tex and the other dependencies\ndescribed in the :doc:`/tutorials/text/usetex` tutorial\nproperly installed on your system.  The first time you run a script\nyou will see a lot of output from tex and associated tools.  The next\ntime, the run may be silent, as a lot of the information is cached.\n\nNotice how the label for the y axis is provided using unicode!\n"
      ]
    },
    {
      "cell_type": "code",
      "execution_count": null,
      "metadata": {
        "collapsed": false
      },
      "outputs": [],
      "source": [
        "import numpy as np\nimport matplotlib\nmatplotlib.rcParams['text.usetex'] = True\nimport matplotlib.pyplot as plt\n\n\nt = np.linspace(0.0, 1.0, 100)\ns = np.cos(4 * np.pi * t) + 2\n\nfig, ax = plt.subplots(figsize=(6, 4), tight_layout=True)\nax.plot(t, s)\n\nax.set_xlabel(r'\\textbf{time (s)}')\nax.set_ylabel('\\\\textit{Velocity (\\N{DEGREE SIGN}/sec)}', fontsize=16)\nax.set_title(r'\\TeX\\ is Number $\\displaystyle\\sum_{n=1}^\\infty'\n             r'\\frac{-e^{i\\pi}}{2^n}$!', fontsize=16, color='r')\nplt.show()"
      ]
    }
  ],
  "metadata": {
    "kernelspec": {
      "display_name": "Python 3",
      "language": "python",
      "name": "python3"
    },
    "language_info": {
      "codemirror_mode": {
        "name": "ipython",
        "version": 3
      },
      "file_extension": ".py",
      "mimetype": "text/x-python",
      "name": "python",
      "nbconvert_exporter": "python",
      "pygments_lexer": "ipython3",
      "version": "3.8.2"
    }
  },
  "nbformat": 4,
  "nbformat_minor": 0
}