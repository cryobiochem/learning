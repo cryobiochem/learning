{
  "cells": [
    {
      "cell_type": "code",
      "execution_count": null,
      "metadata": {
        "collapsed": false
      },
      "outputs": [],
      "source": [
        "%matplotlib inline"
      ]
    },
    {
      "cell_type": "markdown",
      "metadata": {},
      "source": [
        "\n# Multiline\n\n"
      ]
    },
    {
      "cell_type": "code",
      "execution_count": null,
      "metadata": {
        "collapsed": false
      },
      "outputs": [],
      "source": [
        "import matplotlib.pyplot as plt\nimport numpy as np\n\nplt.figure(figsize=(7, 4))\nax = plt.subplot(121)\nax.set_aspect(1)\nplt.plot(np.arange(10))\nplt.xlabel('this is a xlabel\\n(with newlines!)')\nplt.ylabel('this is vertical\\ntest', multialignment='center')\nplt.text(2, 7, 'this is\\nyet another test',\n         rotation=45,\n         horizontalalignment='center',\n         verticalalignment='top',\n         multialignment='center')\n\nplt.grid(True)\n\nplt.subplot(122)\n\nplt.text(0.29, 0.4, \"Mat\\nTTp\\n123\", size=18,\n         va=\"baseline\", ha=\"right\", multialignment=\"left\",\n         bbox=dict(fc=\"none\"))\n\nplt.text(0.34, 0.4, \"Mag\\nTTT\\n123\", size=18,\n         va=\"baseline\", ha=\"left\", multialignment=\"left\",\n         bbox=dict(fc=\"none\"))\n\nplt.text(0.95, 0.4, \"Mag\\nTTT$^{A^A}$\\n123\", size=18,\n         va=\"baseline\", ha=\"right\", multialignment=\"left\",\n         bbox=dict(fc=\"none\"))\n\nplt.xticks([0.2, 0.4, 0.6, 0.8, 1.],\n           [\"Jan\\n2009\", \"Feb\\n2009\", \"Mar\\n2009\", \"Apr\\n2009\", \"May\\n2009\"])\n\nplt.axhline(0.4)\nplt.title(\"test line spacing for multiline text\")\n\nplt.subplots_adjust(bottom=0.25, top=0.75)\nplt.show()"
      ]
    }
  ],
  "metadata": {
    "kernelspec": {
      "display_name": "Python 3",
      "language": "python",
      "name": "python3"
    },
    "language_info": {
      "codemirror_mode": {
        "name": "ipython",
        "version": 3
      },
      "file_extension": ".py",
      "mimetype": "text/x-python",
      "name": "python",
      "nbconvert_exporter": "python",
      "pygments_lexer": "ipython3",
      "version": "3.8.2"
    }
  },
  "nbformat": 4,
  "nbformat_minor": 0
}