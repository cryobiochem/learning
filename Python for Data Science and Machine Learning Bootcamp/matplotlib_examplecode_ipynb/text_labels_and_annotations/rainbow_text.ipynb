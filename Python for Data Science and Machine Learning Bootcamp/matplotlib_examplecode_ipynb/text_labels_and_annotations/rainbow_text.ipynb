{
  "cells": [
    {
      "cell_type": "code",
      "execution_count": null,
      "metadata": {
        "collapsed": false
      },
      "outputs": [],
      "source": [
        "%matplotlib inline"
      ]
    },
    {
      "cell_type": "markdown",
      "metadata": {},
      "source": [
        "\n# Rainbow text\n\n\nThe example shows how to string together several text objects.\n\nHistory\n-------\nOn the matplotlib-users list back in February 2012, G\u00f6khan Sever asked the\nfollowing question:\n\n    Is there a way in matplotlib to partially specify the color of a string?\n\n    Example:\n\n    plt.ylabel(\"Today is cloudy.\")\n\n    How can I show \"today\" as red, \"is\" as green and \"cloudy.\" as blue?\n\n    Thanks.\n\nThe solution below is modified from Paul Ivanov's original answer.\n"
      ]
    },
    {
      "cell_type": "code",
      "execution_count": null,
      "metadata": {
        "collapsed": false
      },
      "outputs": [],
      "source": [
        "import matplotlib.pyplot as plt\nfrom matplotlib.transforms import Affine2D\n\n\ndef rainbow_text(x, y, strings, colors, orientation='horizontal',\n                 ax=None, **kwargs):\n    \"\"\"\n    Take a list of *strings* and *colors* and place them next to each\n    other, with text strings[i] being shown in colors[i].\n\n    Parameters\n    ----------\n    x, y : float\n        Text position in data coordinates.\n    strings : list of str\n        The strings to draw.\n    colors : list of color\n        The colors to use.\n    orientation : {'horizontal', 'vertical'}\n    ax : Axes, optional\n        The Axes to draw into. If None, the current axes will be used.\n    **kwargs\n        All other keyword arguments are passed to plt.text(), so you can\n        set the font size, family, etc.\n    \"\"\"\n    if ax is None:\n        ax = plt.gca()\n    t = ax.transData\n    canvas = ax.figure.canvas\n\n    assert orientation in ['horizontal', 'vertical']\n    if orientation == 'vertical':\n        kwargs.update(rotation=90, verticalalignment='bottom')\n\n    for s, c in zip(strings, colors):\n        text = ax.text(x, y, s + \" \", color=c, transform=t, **kwargs)\n\n        # Need to draw to update the text position.\n        text.draw(canvas.get_renderer())\n        ex = text.get_window_extent()\n        if orientation == 'horizontal':\n            t = text.get_transform() + Affine2D().translate(ex.width, 0)\n        else:\n            t = text.get_transform() + Affine2D().translate(0, ex.height)\n\n\nwords = \"all unicorns poop rainbows ! ! !\".split()\ncolors = ['red', 'orange', 'gold', 'lawngreen', 'lightseagreen', 'royalblue',\n          'blueviolet']\nplt.figure(figsize=(6, 6))\nrainbow_text(0.1, 0.05, words, colors, size=18)\nrainbow_text(0.05, 0.1, words, colors, orientation='vertical', size=18)\n\nplt.show()"
      ]
    }
  ],
  "metadata": {
    "kernelspec": {
      "display_name": "Python 3",
      "language": "python",
      "name": "python3"
    },
    "language_info": {
      "codemirror_mode": {
        "name": "ipython",
        "version": 3
      },
      "file_extension": ".py",
      "mimetype": "text/x-python",
      "name": "python",
      "nbconvert_exporter": "python",
      "pygments_lexer": "ipython3",
      "version": "3.8.2"
    }
  },
  "nbformat": 4,
  "nbformat_minor": 0
}