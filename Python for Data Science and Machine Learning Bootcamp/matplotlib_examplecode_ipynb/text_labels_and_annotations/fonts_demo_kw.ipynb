{
  "cells": [
    {
      "cell_type": "code",
      "execution_count": null,
      "metadata": {
        "collapsed": false
      },
      "outputs": [],
      "source": [
        "%matplotlib inline"
      ]
    },
    {
      "cell_type": "markdown",
      "metadata": {},
      "source": [
        "\n===================\nFonts demo (kwargs)\n===================\n\nSet font properties using kwargs.\n\nSee :doc:`fonts_demo` to achieve the same effect using setters.\n"
      ]
    },
    {
      "cell_type": "code",
      "execution_count": null,
      "metadata": {
        "collapsed": false
      },
      "outputs": [],
      "source": [
        "import matplotlib.pyplot as plt\n\nalignment = {'horizontalalignment': 'center', 'verticalalignment': 'baseline'}\n\n# Show family options\n\nfamilies = ['serif', 'sans-serif', 'cursive', 'fantasy', 'monospace']\n\nt = plt.figtext(0.1, 0.9, 'family', size='large', **alignment)\n\nyp = [0.8, 0.7, 0.6, 0.5, 0.4, 0.3, 0.2]\n\nfor k, family in enumerate(families):\n    t = plt.figtext(0.1, yp[k], family, family=family, **alignment)\n\n# Show style options\n\nstyles = ['normal', 'italic', 'oblique']\n\nt = plt.figtext(0.3, 0.9, 'style', **alignment)\n\nfor k, style in enumerate(styles):\n    t = plt.figtext(0.3, yp[k], style, family='sans-serif', style=style,\n                    **alignment)\n\n# Show variant options\n\nvariants = ['normal', 'small-caps']\n\nt = plt.figtext(0.5, 0.9, 'variant', **alignment)\n\nfor k, variant in enumerate(variants):\n    t = plt.figtext(0.5, yp[k], variant, family='serif', variant=variant,\n                    **alignment)\n\n# Show weight options\n\nweights = ['light', 'normal', 'medium', 'semibold', 'bold', 'heavy', 'black']\n\nt = plt.figtext(0.7, 0.9, 'weight', **alignment)\n\nfor k, weight in enumerate(weights):\n    t = plt.figtext(0.7, yp[k], weight, weight=weight, **alignment)\n\n# Show size options\n\nsizes = ['xx-small', 'x-small', 'small', 'medium', 'large',\n         'x-large', 'xx-large']\n\nt = plt.figtext(0.9, 0.9, 'size', **alignment)\n\nfor k, size in enumerate(sizes):\n    t = plt.figtext(0.9, yp[k], size, size=size, **alignment)\n\n# Show bold italic\nt = plt.figtext(0.3, 0.1, 'bold italic', style='italic',\n                weight='bold', size='x-small',\n                **alignment)\nt = plt.figtext(0.3, 0.2, 'bold italic',\n                style='italic', weight='bold', size='medium',\n                **alignment)\nt = plt.figtext(0.3, 0.3, 'bold italic',\n                style='italic', weight='bold', size='x-large',\n                **alignment)\n\nplt.show()"
      ]
    }
  ],
  "metadata": {
    "kernelspec": {
      "display_name": "Python 3",
      "language": "python",
      "name": "python3"
    },
    "language_info": {
      "codemirror_mode": {
        "name": "ipython",
        "version": 3
      },
      "file_extension": ".py",
      "mimetype": "text/x-python",
      "name": "python",
      "nbconvert_exporter": "python",
      "pygments_lexer": "ipython3",
      "version": "3.8.2"
    }
  },
  "nbformat": 4,
  "nbformat_minor": 0
}