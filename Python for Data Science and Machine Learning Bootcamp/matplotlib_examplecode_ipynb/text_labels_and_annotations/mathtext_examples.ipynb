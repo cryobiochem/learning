{
  "cells": [
    {
      "cell_type": "code",
      "execution_count": null,
      "metadata": {
        "collapsed": false
      },
      "outputs": [],
      "source": [
        "%matplotlib inline"
      ]
    },
    {
      "cell_type": "markdown",
      "metadata": {},
      "source": [
        "\n# Mathtext Examples\n\n\nSelected features of Matplotlib's math rendering engine.\n"
      ]
    },
    {
      "cell_type": "code",
      "execution_count": null,
      "metadata": {
        "collapsed": false
      },
      "outputs": [],
      "source": [
        "import matplotlib.pyplot as plt\nimport subprocess\nimport sys\nimport re\n\n# Selection of features following \"Writing mathematical expressions\" tutorial\nmathtext_titles = {\n    0: \"Header demo\",\n    1: \"Subscripts and superscripts\",\n    2: \"Fractions, binomials and stacked numbers\",\n    3: \"Radicals\",\n    4: \"Fonts\",\n    5: \"Accents\",\n    6: \"Greek, Hebrew\",\n    7: \"Delimiters, functions and Symbols\"}\nn_lines = len(mathtext_titles)\n\n# Randomly picked examples\nmathext_demos = {\n    0: r\"$W^{3\\beta}_{\\delta_1 \\rho_1 \\sigma_2} = \"\n    r\"U^{3\\beta}_{\\delta_1 \\rho_1} + \\frac{1}{8 \\pi 2} \"\n    r\"\\int^{\\alpha_2}_{\\alpha_2} d \\alpha^\\prime_2 \\left[\\frac{ \"\n    r\"U^{2\\beta}_{\\delta_1 \\rho_1} - \\alpha^\\prime_2U^{1\\beta}_\"\n    r\"{\\rho_1 \\sigma_2} }{U^{0\\beta}_{\\rho_1 \\sigma_2}}\\right]$\",\n\n    1: r\"$\\alpha_i > \\beta_i,\\ \"\n    r\"\\alpha_{i+1}^j = {\\rm sin}(2\\pi f_j t_i) e^{-5 t_i/\\tau},\\ \"\n    r\"\\ldots$\",\n\n    2: r\"$\\frac{3}{4},\\ \\binom{3}{4},\\ \\genfrac{}{}{0}{}{3}{4},\\ \"\n    r\"\\left(\\frac{5 - \\frac{1}{x}}{4}\\right),\\ \\ldots$\",\n\n    3: r\"$\\sqrt{2},\\ \\sqrt[3]{x},\\ \\ldots$\",\n\n    4: r\"$\\mathrm{Roman}\\ , \\ \\mathit{Italic}\\ , \\ \\mathtt{Typewriter} \\ \"\n    r\"\\mathrm{or}\\ \\mathcal{CALLIGRAPHY}$\",\n\n    5: r\"$\\acute a,\\ \\bar a,\\ \\breve a,\\ \\dot a,\\ \\ddot a, \\ \\grave a, \\ \"\n    r\"\\hat a,\\ \\tilde a,\\ \\vec a,\\ \\widehat{xyz},\\ \\widetilde{xyz},\\ \"\n    r\"\\ldots$\",\n\n    6: r\"$\\alpha,\\ \\beta,\\ \\chi,\\ \\delta,\\ \\lambda,\\ \\mu,\\ \"\n    r\"\\Delta,\\ \\Gamma,\\ \\Omega,\\ \\Phi,\\ \\Pi,\\ \\Upsilon,\\ \\nabla,\\ \"\n    r\"\\aleph,\\ \\beth,\\ \\daleth,\\ \\gimel,\\ \\ldots$\",\n\n    7: r\"$\\coprod,\\ \\int,\\ \\oint,\\ \\prod,\\ \\sum,\\ \"\n    r\"\\log,\\ \\sin,\\ \\approx,\\ \\oplus,\\ \\star,\\ \\varpropto,\\ \"\n    r\"\\infty,\\ \\partial,\\ \\Re,\\ \\leftrightsquigarrow, \\ \\ldots$\"}\n\n\ndef doall():\n    # Colors used in Matplotlib online documentation.\n    mpl_blue_rvb = (191. / 255., 209. / 256., 212. / 255.)\n    mpl_orange_rvb = (202. / 255., 121. / 256., 0. / 255.)\n    mpl_grey_rvb = (51. / 255., 51. / 255., 51. / 255.)\n\n    # Creating figure and axis.\n    plt.figure(figsize=(6, 7))\n    plt.axes([0.01, 0.01, 0.98, 0.90], facecolor=\"white\", frameon=True)\n    plt.gca().set_xlim(0., 1.)\n    plt.gca().set_ylim(0., 1.)\n    plt.gca().set_title(\"Matplotlib's math rendering engine\",\n                        color=mpl_grey_rvb, fontsize=14, weight='bold')\n    plt.gca().set_xticklabels(\"\", visible=False)\n    plt.gca().set_yticklabels(\"\", visible=False)\n\n    # Gap between lines in axes coords\n    line_axesfrac = (1. / (n_lines))\n\n    # Plotting header demonstration formula\n    full_demo = mathext_demos[0]\n    plt.annotate(full_demo,\n                 xy=(0.5, 1. - 0.59 * line_axesfrac),\n                 color=mpl_orange_rvb, ha='center', fontsize=20)\n\n    # Plotting features demonstration formulae\n    for i_line in range(1, n_lines):\n        baseline = 1 - (i_line) * line_axesfrac\n        baseline_next = baseline - line_axesfrac\n        title = mathtext_titles[i_line] + \":\"\n        fill_color = ['white', mpl_blue_rvb][i_line % 2]\n        plt.fill_between([0., 1.], [baseline, baseline],\n                         [baseline_next, baseline_next],\n                         color=fill_color, alpha=0.5)\n        plt.annotate(title,\n                     xy=(0.07, baseline - 0.3 * line_axesfrac),\n                     color=mpl_grey_rvb, weight='bold')\n        demo = mathext_demos[i_line]\n        plt.annotate(demo,\n                     xy=(0.05, baseline - 0.75 * line_axesfrac),\n                     color=mpl_grey_rvb, fontsize=16)\n\n    for i in range(n_lines):\n        s = mathext_demos[i]\n        print(i, s)\n    plt.show()\n\n\nif '--latex' in sys.argv:\n    # Run: python mathtext_examples.py --latex\n    # Need amsmath and amssymb packages.\n    fd = open(\"mathtext_examples.ltx\", \"w\")\n    fd.write(\"\\\\documentclass{article}\\n\")\n    fd.write(\"\\\\usepackage{amsmath, amssymb}\\n\")\n    fd.write(\"\\\\begin{document}\\n\")\n    fd.write(\"\\\\begin{enumerate}\\n\")\n\n    for i in range(n_lines):\n        s = mathext_demos[i]\n        s = re.sub(r\"(?<!\\\\)\\$\", \"$$\", s)\n        fd.write(\"\\\\item %s\\n\" % s)\n\n    fd.write(\"\\\\end{enumerate}\\n\")\n    fd.write(\"\\\\end{document}\\n\")\n    fd.close()\n\n    subprocess.call([\"pdflatex\", \"mathtext_examples.ltx\"])\nelse:\n    doall()"
      ]
    }
  ],
  "metadata": {
    "kernelspec": {
      "display_name": "Python 3",
      "language": "python",
      "name": "python3"
    },
    "language_info": {
      "codemirror_mode": {
        "name": "ipython",
        "version": 3
      },
      "file_extension": ".py",
      "mimetype": "text/x-python",
      "name": "python",
      "nbconvert_exporter": "python",
      "pygments_lexer": "ipython3",
      "version": "3.8.2"
    }
  },
  "nbformat": 4,
  "nbformat_minor": 0
}