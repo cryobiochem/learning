{
  "cells": [
    {
      "cell_type": "code",
      "execution_count": null,
      "metadata": {
        "collapsed": false
      },
      "outputs": [],
      "source": [
        "%matplotlib inline"
      ]
    },
    {
      "cell_type": "markdown",
      "metadata": {},
      "source": [
        "\n# Usetex Demo\n\n\nShows how to use latex in a plot.\n\nAlso refer to the :doc:`/tutorials/text/usetex` guide.\n"
      ]
    },
    {
      "cell_type": "code",
      "execution_count": null,
      "metadata": {
        "collapsed": false
      },
      "outputs": [],
      "source": [
        "import numpy as np\nimport matplotlib.pyplot as plt\nplt.rc('text', usetex=True)\n\n# interface tracking profiles\nN = 500\ndelta = 0.6\nX = np.linspace(-1, 1, N)\nplt.plot(X, (1 - np.tanh(4 * X / delta)) / 2,    # phase field tanh profiles\n         X, (1.4 + np.tanh(4 * X / delta)) / 4, \"C2\",  # composition profile\n         X, X < 0, 'k--')                        # sharp interface\n\n# legend\nplt.legend(('phase field', 'level set', 'sharp interface'),\n           shadow=True, loc=(0.01, 0.48), handlelength=1.5, fontsize=16)\n\n# the arrow\nplt.annotate(\"\", xy=(-delta / 2., 0.1), xytext=(delta / 2., 0.1),\n             arrowprops=dict(arrowstyle=\"<->\", connectionstyle=\"arc3\"))\nplt.text(0, 0.1, r'$\\delta$',\n         {'color': 'black', 'fontsize': 24, 'ha': 'center', 'va': 'center',\n          'bbox': dict(boxstyle=\"round\", fc=\"white\", ec=\"black\", pad=0.2)})\n\n# Use tex in labels\nplt.xticks((-1, 0, 1), ('$-1$', r'$\\pm 0$', '$+1$'), color='k', size=20)\n\n# Left Y-axis labels, combine math mode and text mode\nplt.ylabel(r'\\bf{phase field} $\\phi$', {'color': 'C0', 'fontsize': 20})\nplt.yticks((0, 0.5, 1), (r'\\bf{0}', r'\\bf{.5}', r'\\bf{1}'), color='k', size=20)\n\n# Right Y-axis labels\nplt.text(1.02, 0.5, r\"\\bf{level set} $\\phi$\", {'color': 'C2', 'fontsize': 20},\n         horizontalalignment='left',\n         verticalalignment='center',\n         rotation=90,\n         clip_on=False,\n         transform=plt.gca().transAxes)\n\n# Use multiline environment inside a `text`.\n# level set equations\neq1 = r\"\\begin{eqnarray*}\" + \\\n      r\"|\\nabla\\phi| &=& 1,\\\\\" + \\\n      r\"\\frac{\\partial \\phi}{\\partial t} + U|\\nabla \\phi| &=& 0 \" + \\\n      r\"\\end{eqnarray*}\"\nplt.text(1, 0.9, eq1, {'color': 'C2', 'fontsize': 18}, va=\"top\", ha=\"right\")\n\n# phase field equations\neq2 = r'\\begin{eqnarray*}' + \\\n      r'\\mathcal{F} &=& \\int f\\left( \\phi, c \\right) dV, \\\\ ' + \\\n      r'\\frac{ \\partial \\phi } { \\partial t } &=& -M_{ \\phi } ' + \\\n      r'\\frac{ \\delta \\mathcal{F} } { \\delta \\phi }' + \\\n      r'\\end{eqnarray*}'\nplt.text(0.18, 0.18, eq2, {'color': 'C0', 'fontsize': 16})\n\nplt.text(-1, .30, r'gamma: $\\gamma$', {'color': 'r', 'fontsize': 20})\nplt.text(-1, .18, r'Omega: $\\Omega$', {'color': 'b', 'fontsize': 20})\n\nplt.show()"
      ]
    }
  ],
  "metadata": {
    "kernelspec": {
      "display_name": "Python 3",
      "language": "python",
      "name": "python3"
    },
    "language_info": {
      "codemirror_mode": {
        "name": "ipython",
        "version": 3
      },
      "file_extension": ".py",
      "mimetype": "text/x-python",
      "name": "python",
      "nbconvert_exporter": "python",
      "pygments_lexer": "ipython3",
      "version": "3.8.2"
    }
  },
  "nbformat": 4,
  "nbformat_minor": 0
}