{
  "cells": [
    {
      "cell_type": "code",
      "execution_count": null,
      "metadata": {
        "collapsed": false
      },
      "outputs": [],
      "source": [
        "%matplotlib inline"
      ]
    },
    {
      "cell_type": "markdown",
      "metadata": {},
      "source": [
        "\n# Scatter plot with pie chart markers\n\n\nThis example makes custom 'pie charts' as the markers for a scatter plot.\n\nThanks to Manuel Metz for the example.\n"
      ]
    },
    {
      "cell_type": "code",
      "execution_count": null,
      "metadata": {
        "collapsed": false
      },
      "outputs": [],
      "source": [
        "import numpy as np\nimport matplotlib.pyplot as plt\n\n# first define the ratios\nr1 = 0.2       # 20%\nr2 = r1 + 0.4  # 40%\n\n# define some sizes of the scatter marker\nsizes = np.array([60, 80, 120])\n\n# calculate the points of the first pie marker\n# these are just the origin (0, 0) + some (cos, sin) points on a circle\nx1 = np.cos(2 * np.pi * np.linspace(0, r1))\ny1 = np.sin(2 * np.pi * np.linspace(0, r1))\nxy1 = np.row_stack([[0, 0], np.column_stack([x1, y1])])\ns1 = np.abs(xy1).max()\n\nx2 = np.cos(2 * np.pi * np.linspace(r1, r2))\ny2 = np.sin(2 * np.pi * np.linspace(r1, r2))\nxy2 = np.row_stack([[0, 0], np.column_stack([x2, y2])])\ns2 = np.abs(xy2).max()\n\nx3 = np.cos(2 * np.pi * np.linspace(r2, 1))\ny3 = np.sin(2 * np.pi * np.linspace(r2, 1))\nxy3 = np.row_stack([[0, 0], np.column_stack([x3, y3])])\ns3 = np.abs(xy3).max()\n\nfig, ax = plt.subplots()\nax.scatter(range(3), range(3), marker=xy1, s=s1**2 * sizes, facecolor='blue')\nax.scatter(range(3), range(3), marker=xy2, s=s2**2 * sizes, facecolor='green')\nax.scatter(range(3), range(3), marker=xy3, s=s3**2 * sizes, facecolor='red')\n\nplt.show()"
      ]
    },
    {
      "cell_type": "markdown",
      "metadata": {},
      "source": [
        "------------\n\nReferences\n\"\"\"\"\"\"\"\"\"\"\n\nThe use of the following functions, methods, classes and modules is shown\nin this example:\n\n"
      ]
    },
    {
      "cell_type": "code",
      "execution_count": null,
      "metadata": {
        "collapsed": false
      },
      "outputs": [],
      "source": [
        "import matplotlib\nmatplotlib.axes.Axes.scatter\nmatplotlib.pyplot.scatter"
      ]
    }
  ],
  "metadata": {
    "kernelspec": {
      "display_name": "Python 3",
      "language": "python",
      "name": "python3"
    },
    "language_info": {
      "codemirror_mode": {
        "name": "ipython",
        "version": 3
      },
      "file_extension": ".py",
      "mimetype": "text/x-python",
      "name": "python",
      "nbconvert_exporter": "python",
      "pygments_lexer": "ipython3",
      "version": "3.8.2"
    }
  },
  "nbformat": 4,
  "nbformat_minor": 0
}