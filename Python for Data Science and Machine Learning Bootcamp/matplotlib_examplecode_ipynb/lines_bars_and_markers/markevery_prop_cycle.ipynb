{
  "cells": [
    {
      "cell_type": "code",
      "execution_count": null,
      "metadata": {
        "collapsed": false
      },
      "outputs": [],
      "source": [
        "%matplotlib inline"
      ]
    },
    {
      "cell_type": "markdown",
      "metadata": {},
      "source": [
        "\n# prop_cycle property markevery in rcParams\n\n\nThis example demonstrates a working solution to issue #8576, providing full\nsupport of the markevery property for axes.prop_cycle assignments through\nrcParams. Makes use of the same list of markevery cases from the\n:doc:`markevery demo\n</gallery/lines_bars_and_markers/markevery_demo>`.\n\nRenders a plot with shifted-sine curves along each column with\na unique markevery value for each sine curve.\n"
      ]
    },
    {
      "cell_type": "code",
      "execution_count": null,
      "metadata": {
        "collapsed": false
      },
      "outputs": [],
      "source": [
        "from cycler import cycler\nimport numpy as np\nimport matplotlib as mpl\nimport matplotlib.pyplot as plt\n\n# Define a list of markevery cases and color cases to plot\ncases = [None,\n         8,\n         (30, 8),\n         [16, 24, 30],\n         [0, -1],\n         slice(100, 200, 3),\n         0.1,\n         0.3,\n         1.5,\n         (0.0, 0.1),\n         (0.45, 0.1)]\n\ncolors = ['#1f77b4',\n          '#ff7f0e',\n          '#2ca02c',\n          '#d62728',\n          '#9467bd',\n          '#8c564b',\n          '#e377c2',\n          '#7f7f7f',\n          '#bcbd22',\n          '#17becf',\n          '#1a55FF']\n\n# Configure rcParams axes.prop_cycle to simultaneously cycle cases and colors.\nmpl.rcParams['axes.prop_cycle'] = cycler(markevery=cases, color=colors)\n\n# Create data points and offsets\nx = np.linspace(0, 2 * np.pi)\noffsets = np.linspace(0, 2 * np.pi, 11, endpoint=False)\nyy = np.transpose([np.sin(x + phi) for phi in offsets])\n\n# Set the plot curve with markers and a title\nfig = plt.figure()\nax = fig.add_axes([0.1, 0.1, 0.6, 0.75])\n\nfor i in range(len(cases)):\n    ax.plot(yy[:, i], marker='o', label=str(cases[i]))\n    ax.legend(bbox_to_anchor=(1.05, 1), loc='upper left', borderaxespad=0.)\n\nplt.title('Support for axes.prop_cycle cycler with markevery')\n\nplt.show()"
      ]
    }
  ],
  "metadata": {
    "kernelspec": {
      "display_name": "Python 3",
      "language": "python",
      "name": "python3"
    },
    "language_info": {
      "codemirror_mode": {
        "name": "ipython",
        "version": 3
      },
      "file_extension": ".py",
      "mimetype": "text/x-python",
      "name": "python",
      "nbconvert_exporter": "python",
      "pygments_lexer": "ipython3",
      "version": "3.8.2"
    }
  },
  "nbformat": 4,
  "nbformat_minor": 0
}