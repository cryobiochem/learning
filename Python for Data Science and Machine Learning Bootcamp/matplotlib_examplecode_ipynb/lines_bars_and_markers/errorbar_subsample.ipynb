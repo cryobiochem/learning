{
  "cells": [
    {
      "cell_type": "code",
      "execution_count": null,
      "metadata": {
        "collapsed": false
      },
      "outputs": [],
      "source": [
        "%matplotlib inline"
      ]
    },
    {
      "cell_type": "markdown",
      "metadata": {},
      "source": [
        "\n# Errorbar Subsample\n\n\nDemo for the errorevery keyword to show data full accuracy data plots with\nfew errorbars.\n"
      ]
    },
    {
      "cell_type": "code",
      "execution_count": null,
      "metadata": {
        "collapsed": false
      },
      "outputs": [],
      "source": [
        "import numpy as np\nimport matplotlib.pyplot as plt\n\n# example data\nx = np.arange(0.1, 4, 0.1)\ny1 = np.exp(-1.0 * x)\ny2 = np.exp(-0.5 * x)\n\n# example variable error bar values\ny1err = 0.1 + 0.1 * np.sqrt(x)\ny2err = 0.1 + 0.1 * np.sqrt(x/2)\n\n\n# Now switch to a more OO interface to exercise more features.\nfig, (ax_l, ax_c, ax_r) = plt.subplots(nrows=1, ncols=3,\n                                       sharex=True, figsize=(12, 6))\n\nax_l.set_title('all errorbars')\nax_l.errorbar(x, y1, yerr=y1err)\nax_l.errorbar(x, y2, yerr=y2err)\n\nax_c.set_title('only every 6th errorbar')\nax_c.errorbar(x, y1, yerr=y1err, errorevery=6)\nax_c.errorbar(x, y2, yerr=y2err, errorevery=6)\n\nax_r.set_title('second series shifted by 3')\nax_r.errorbar(x, y1, yerr=y1err, errorevery=(0, 6))\nax_r.errorbar(x, y2, yerr=y2err, errorevery=(3, 6))\n\nfig.suptitle('Errorbar subsampling for better appearance')\nplt.show()"
      ]
    }
  ],
  "metadata": {
    "kernelspec": {
      "display_name": "Python 3",
      "language": "python",
      "name": "python3"
    },
    "language_info": {
      "codemirror_mode": {
        "name": "ipython",
        "version": 3
      },
      "file_extension": ".py",
      "mimetype": "text/x-python",
      "name": "python",
      "nbconvert_exporter": "python",
      "pygments_lexer": "ipython3",
      "version": "3.8.2"
    }
  },
  "nbformat": 4,
  "nbformat_minor": 0
}