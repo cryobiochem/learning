{
  "cells": [
    {
      "cell_type": "code",
      "execution_count": null,
      "metadata": {
        "collapsed": false
      },
      "outputs": [],
      "source": [
        "%matplotlib inline"
      ]
    },
    {
      "cell_type": "markdown",
      "metadata": {},
      "source": [
        "\n# Markevery Demo\n\n\nThis example demonstrates the various options for showing a marker at a\nsubset of data points using the ``markevery`` property of a Line2D object.\n\nInteger arguments are fairly intuitive.  e.g. ``markevery=5`` will plot every\n5th marker starting from the first data point.\n\nFloat arguments allow markers to be spaced at approximately equal distances\nalong the line.  The theoretical distance along the line between markers is\ndetermined by multiplying the display-coordinate distance of the axes\nbounding-box diagonal by the value of ``markevery``.  The data points closest\nto the theoretical distances will be shown.\n\nA slice or list/array can also be used with ``markevery`` to specify the\nmarkers to show.\n"
      ]
    },
    {
      "cell_type": "code",
      "execution_count": null,
      "metadata": {
        "collapsed": false
      },
      "outputs": [],
      "source": [
        "import numpy as np\nimport matplotlib.pyplot as plt\nimport matplotlib.gridspec as gridspec\n\n# define a list of markevery cases to plot\ncases = [None,\n         8,\n         (30, 8),\n         [16, 24, 30], [0, -1],\n         slice(100, 200, 3),\n         0.1, 0.3, 1.5,\n         (0.0, 0.1), (0.45, 0.1)]\n\n# define the figure size and grid layout properties\nfigsize = (10, 8)\ncols = 3\nrows = len(cases) // cols + 1\n# define the data for cartesian plots\ndelta = 0.11\nx = np.linspace(0, 10 - 2 * delta, 200) + delta\ny = np.sin(x) + 1.0 + delta\n\n\ndef trim_axs(axs, N):\n    \"\"\"\n    Reduce *axs* to *N* Axes. All further Axes are removed from the figure.\n    \"\"\"\n    axs = axs.flat\n    for ax in axs[N:]:\n        ax.remove()\n    return axs[:N]"
      ]
    },
    {
      "cell_type": "markdown",
      "metadata": {},
      "source": [
        "Plot each markevery case for linear x and y scales\n\n"
      ]
    },
    {
      "cell_type": "code",
      "execution_count": null,
      "metadata": {
        "collapsed": false
      },
      "outputs": [],
      "source": [
        "fig1, axs = plt.subplots(rows, cols, figsize=figsize, constrained_layout=True)\naxs = trim_axs(axs, len(cases))\nfor ax, case in zip(axs, cases):\n    ax.set_title('markevery=%s' % str(case))\n    ax.plot(x, y, 'o', ls='-', ms=4, markevery=case)"
      ]
    },
    {
      "cell_type": "markdown",
      "metadata": {},
      "source": [
        "Plot each markevery case for log x and y scales\n\n"
      ]
    },
    {
      "cell_type": "code",
      "execution_count": null,
      "metadata": {
        "collapsed": false
      },
      "outputs": [],
      "source": [
        "fig2, axs = plt.subplots(rows, cols, figsize=figsize, constrained_layout=True)\naxs = trim_axs(axs, len(cases))\nfor ax, case in zip(axs, cases):\n    ax.set_title('markevery=%s' % str(case))\n    ax.set_xscale('log')\n    ax.set_yscale('log')\n    ax.plot(x, y, 'o', ls='-', ms=4, markevery=case)"
      ]
    },
    {
      "cell_type": "markdown",
      "metadata": {},
      "source": [
        "Plot each markevery case for linear x and y scales but zoomed in\nnote the behaviour when zoomed in.  When a start marker offset is specified\nit is always interpreted with respect to the first data point which might be\ndifferent to the first visible data point.\n\n"
      ]
    },
    {
      "cell_type": "code",
      "execution_count": null,
      "metadata": {
        "collapsed": false
      },
      "outputs": [],
      "source": [
        "fig3, axs = plt.subplots(rows, cols, figsize=figsize, constrained_layout=True)\naxs = trim_axs(axs, len(cases))\nfor ax, case in zip(axs, cases):\n    ax.set_title('markevery=%s' % str(case))\n    ax.plot(x, y, 'o', ls='-', ms=4, markevery=case)\n    ax.set_xlim((6, 6.7))\n    ax.set_ylim((1.1, 1.7))\n\n# define data for polar plots\nr = np.linspace(0, 3.0, 200)\ntheta = 2 * np.pi * r"
      ]
    },
    {
      "cell_type": "markdown",
      "metadata": {},
      "source": [
        "Plot each markevery case for polar plots\n\n"
      ]
    },
    {
      "cell_type": "code",
      "execution_count": null,
      "metadata": {
        "collapsed": false
      },
      "outputs": [],
      "source": [
        "fig4, axs = plt.subplots(rows, cols, figsize=figsize,\n        subplot_kw={'projection': 'polar'}, constrained_layout=True)\naxs = trim_axs(axs, len(cases))\nfor ax, case in zip(axs, cases):\n    ax.set_title('markevery=%s' % str(case))\n    ax.plot(theta, r, 'o', ls='-', ms=4, markevery=case)\n\nplt.show()"
      ]
    }
  ],
  "metadata": {
    "kernelspec": {
      "display_name": "Python 3",
      "language": "python",
      "name": "python3"
    },
    "language_info": {
      "codemirror_mode": {
        "name": "ipython",
        "version": 3
      },
      "file_extension": ".py",
      "mimetype": "text/x-python",
      "name": "python",
      "nbconvert_exporter": "python",
      "pygments_lexer": "ipython3",
      "version": "3.8.2"
    }
  },
  "nbformat": 4,
  "nbformat_minor": 0
}