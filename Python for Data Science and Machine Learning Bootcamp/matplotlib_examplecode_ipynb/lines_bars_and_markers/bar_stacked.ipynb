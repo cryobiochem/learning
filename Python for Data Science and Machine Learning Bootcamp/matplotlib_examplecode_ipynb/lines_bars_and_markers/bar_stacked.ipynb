{
  "cells": [
    {
      "cell_type": "code",
      "execution_count": null,
      "metadata": {
        "collapsed": false
      },
      "outputs": [],
      "source": [
        "%matplotlib inline"
      ]
    },
    {
      "cell_type": "markdown",
      "metadata": {},
      "source": [
        "\n# Stacked bar chart\n\n\nThis is an example of creating a stacked bar plot with error bars\nusing `~matplotlib.pyplot.bar`.  Note the parameters *yerr* used for\nerror bars, and *bottom* to stack the women's bars on top of the men's\nbars.\n"
      ]
    },
    {
      "cell_type": "code",
      "execution_count": null,
      "metadata": {
        "collapsed": false
      },
      "outputs": [],
      "source": [
        "import numpy as np\nimport matplotlib.pyplot as plt\n\n\nlabels = ['G1', 'G2', 'G3', 'G4', 'G5']\nmen_means = [20, 35, 30, 35, 27]\nwomen_means = [25, 32, 34, 20, 25]\nmen_std = [2, 3, 4, 1, 2]\nwomen_std = [3, 5, 2, 3, 3]\nwidth = 0.35       # the width of the bars: can also be len(x) sequence\n\nfig, ax = plt.subplots()\n\nax.bar(labels, men_means, width, yerr=men_std, label='Men')\nax.bar(labels, women_means, width, yerr=women_std, bottom=men_means,\n       label='Women')\n\nax.set_ylabel('Scores')\nax.set_title('Scores by group and gender')\nax.legend()\n\nplt.show()"
      ]
    }
  ],
  "metadata": {
    "kernelspec": {
      "display_name": "Python 3",
      "language": "python",
      "name": "python3"
    },
    "language_info": {
      "codemirror_mode": {
        "name": "ipython",
        "version": 3
      },
      "file_extension": ".py",
      "mimetype": "text/x-python",
      "name": "python",
      "nbconvert_exporter": "python",
      "pygments_lexer": "ipython3",
      "version": "3.8.2"
    }
  },
  "nbformat": 4,
  "nbformat_minor": 0
}