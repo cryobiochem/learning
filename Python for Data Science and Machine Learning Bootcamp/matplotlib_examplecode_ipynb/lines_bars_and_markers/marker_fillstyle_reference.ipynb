{
  "cells": [
    {
      "cell_type": "code",
      "execution_count": null,
      "metadata": {
        "collapsed": false
      },
      "outputs": [],
      "source": [
        "%matplotlib inline"
      ]
    },
    {
      "cell_type": "markdown",
      "metadata": {},
      "source": [
        "\n# Marker filling-styles\n\n\nReference for marker fill-styles included with Matplotlib.\n\nAlso refer to the\n:doc:`/gallery/lines_bars_and_markers/marker_fillstyle_reference`\nand :doc:`/gallery/shapes_and_collections/marker_path` examples.\n"
      ]
    },
    {
      "cell_type": "code",
      "execution_count": null,
      "metadata": {
        "collapsed": false
      },
      "outputs": [],
      "source": [
        "import numpy as np\nimport matplotlib.pyplot as plt\nfrom matplotlib.lines import Line2D\n\n\npoints = np.ones(5)  # Draw 5 points for each line\nmarker_style = dict(color='tab:blue', linestyle=':', marker='o',\n                    markersize=15, markerfacecoloralt='tab:red')\n\nfig, ax = plt.subplots()\n\n# Plot all fill styles.\nfor y, fill_style in enumerate(Line2D.fillStyles):\n    ax.text(-0.5, y, repr(fill_style),\n            horizontalalignment='center', verticalalignment='center')\n    ax.plot(y * points, fillstyle=fill_style, **marker_style)\n\nax.set_axis_off()\nax.set_title('fill style')\n\nplt.show()"
      ]
    }
  ],
  "metadata": {
    "kernelspec": {
      "display_name": "Python 3",
      "language": "python",
      "name": "python3"
    },
    "language_info": {
      "codemirror_mode": {
        "name": "ipython",
        "version": 3
      },
      "file_extension": ".py",
      "mimetype": "text/x-python",
      "name": "python",
      "nbconvert_exporter": "python",
      "pygments_lexer": "ipython3",
      "version": "3.8.2"
    }
  },
  "nbformat": 4,
  "nbformat_minor": 0
}