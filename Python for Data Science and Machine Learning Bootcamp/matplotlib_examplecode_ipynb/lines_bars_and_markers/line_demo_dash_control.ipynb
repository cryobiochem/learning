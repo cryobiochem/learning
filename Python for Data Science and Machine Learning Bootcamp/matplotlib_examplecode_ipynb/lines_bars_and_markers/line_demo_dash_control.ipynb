{
  "cells": [
    {
      "cell_type": "code",
      "execution_count": null,
      "metadata": {
        "collapsed": false
      },
      "outputs": [],
      "source": [
        "%matplotlib inline"
      ]
    },
    {
      "cell_type": "markdown",
      "metadata": {},
      "source": [
        "\n# Customizing dashed line styles\n\n\nThe dashing of a line is controlled via a dash sequence. It can be modified\nusing `.Line2D.set_dashes`.\n\nThe dash sequence is a series of on/off lengths in points, e.g.\n``[3, 1]`` would be 3pt long lines separated by 1pt spaces.\n\nSome functions like `.Axes.plot` support passing Line properties as keyword\narguments. In such a case, you can already set the dashing when creating the\nline.\n\n*Note*: The dash style can also be configured via a\n:doc:`property_cycle </tutorials/intermediate/color_cycle>`\nby passing a list of dash sequences using the keyword *dashes* to the\ncycler. This is not shown within this example.\n"
      ]
    },
    {
      "cell_type": "code",
      "execution_count": null,
      "metadata": {
        "collapsed": false
      },
      "outputs": [],
      "source": [
        "import numpy as np\nimport matplotlib.pyplot as plt\n\nx = np.linspace(0, 10, 500)\ny = np.sin(x)\n\nfig, ax = plt.subplots()\n\n# Using set_dashes() to modify dashing of an existing line\nline1, = ax.plot(x, y, label='Using set_dashes()')\nline1.set_dashes([2, 2, 10, 2])  # 2pt line, 2pt break, 10pt line, 2pt break\n\n# Using plot(..., dashes=...) to set the dashing when creating a line\nline2, = ax.plot(x, y - 0.2, dashes=[6, 2], label='Using the dashes parameter')\n\nax.legend()\nplt.show()"
      ]
    }
  ],
  "metadata": {
    "kernelspec": {
      "display_name": "Python 3",
      "language": "python",
      "name": "python3"
    },
    "language_info": {
      "codemirror_mode": {
        "name": "ipython",
        "version": 3
      },
      "file_extension": ".py",
      "mimetype": "text/x-python",
      "name": "python",
      "nbconvert_exporter": "python",
      "pygments_lexer": "ipython3",
      "version": "3.8.2"
    }
  },
  "nbformat": 4,
  "nbformat_minor": 0
}