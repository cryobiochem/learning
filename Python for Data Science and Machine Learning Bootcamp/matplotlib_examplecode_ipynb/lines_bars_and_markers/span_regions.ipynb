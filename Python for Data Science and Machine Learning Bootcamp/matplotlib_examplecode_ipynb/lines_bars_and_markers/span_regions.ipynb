{
  "cells": [
    {
      "cell_type": "code",
      "execution_count": null,
      "metadata": {
        "collapsed": false
      },
      "outputs": [],
      "source": [
        "%matplotlib inline"
      ]
    },
    {
      "cell_type": "markdown",
      "metadata": {},
      "source": [
        "\n# Using span_where\n\n\nIllustrate some helper functions for shading regions where a logical\nmask is True.\n\nSee :meth:`matplotlib.collections.BrokenBarHCollection.span_where`\n"
      ]
    },
    {
      "cell_type": "code",
      "execution_count": null,
      "metadata": {
        "collapsed": false
      },
      "outputs": [],
      "source": [
        "import numpy as np\nimport matplotlib.pyplot as plt\nimport matplotlib.collections as collections\n\n\nt = np.arange(0.0, 2, 0.01)\ns1 = np.sin(2*np.pi*t)\ns2 = 1.2*np.sin(4*np.pi*t)\n\n\nfig, ax = plt.subplots()\nax.set_title('using span_where')\nax.plot(t, s1, color='black')\nax.axhline(0, color='black', lw=2)\n\ncollection = collections.BrokenBarHCollection.span_where(\n    t, ymin=0, ymax=1, where=s1 > 0, facecolor='green', alpha=0.5)\nax.add_collection(collection)\n\ncollection = collections.BrokenBarHCollection.span_where(\n    t, ymin=-1, ymax=0, where=s1 < 0, facecolor='red', alpha=0.5)\nax.add_collection(collection)\n\n\nplt.show()"
      ]
    },
    {
      "cell_type": "markdown",
      "metadata": {},
      "source": [
        "------------\n\nReferences\n\"\"\"\"\"\"\"\"\"\"\n\nThe use of the following functions, methods, classes and modules is shown\nin this example:\n\n"
      ]
    },
    {
      "cell_type": "code",
      "execution_count": null,
      "metadata": {
        "collapsed": false
      },
      "outputs": [],
      "source": [
        "import matplotlib\nmatplotlib.collections.BrokenBarHCollection\nmatplotlib.collections.BrokenBarHCollection.span_where\nmatplotlib.axes.Axes.add_collection\nmatplotlib.axes.Axes.axhline"
      ]
    }
  ],
  "metadata": {
    "kernelspec": {
      "display_name": "Python 3",
      "language": "python",
      "name": "python3"
    },
    "language_info": {
      "codemirror_mode": {
        "name": "ipython",
        "version": 3
      },
      "file_extension": ".py",
      "mimetype": "text/x-python",
      "name": "python",
      "nbconvert_exporter": "python",
      "pygments_lexer": "ipython3",
      "version": "3.8.2"
    }
  },
  "nbformat": 4,
  "nbformat_minor": 0
}