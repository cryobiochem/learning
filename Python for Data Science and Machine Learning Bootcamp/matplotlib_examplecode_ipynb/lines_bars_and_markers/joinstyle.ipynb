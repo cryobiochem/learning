{
  "cells": [
    {
      "cell_type": "code",
      "execution_count": null,
      "metadata": {
        "collapsed": false
      },
      "outputs": [],
      "source": [
        "%matplotlib inline"
      ]
    },
    {
      "cell_type": "markdown",
      "metadata": {},
      "source": [
        "\n# Join styles and cap styles\n\n\nThis example demonstrates the available join styles and cap styles.\n\nBoth are used in `.Line2D` and various ``Collections`` from\n`matplotlib.collections` as well as some functions that create these, e.g.\n`~matplotlib.pyplot.plot`.\n\n\nJoin styles\n===========\n\nJoin styles define how the connection between two line segments is drawn.\n\nSee the respective ``solid_joinstyle``, ``dash_joinstyle`` or ``joinstyle``\nparameters.\n"
      ]
    },
    {
      "cell_type": "code",
      "execution_count": null,
      "metadata": {
        "collapsed": false
      },
      "outputs": [],
      "source": [
        "import numpy as np\nimport matplotlib.pyplot as plt\n\n\ndef plot_angle(ax, x, y, angle, style):\n    phi = np.radians(angle)\n    xx = [x + .5, x, x + .5*np.cos(phi)]\n    yy = [y, y, y + .5*np.sin(phi)]\n    ax.plot(xx, yy, lw=12, color='tab:blue', solid_joinstyle=style)\n    ax.plot(xx, yy, lw=1, color='black')\n    ax.plot(xx[1], yy[1], 'o', color='tab:red', markersize=3)\n\n\nfig, ax = plt.subplots(figsize=(8, 6))\nax.set_title('Join style')\n\nfor x, style in enumerate(['miter', 'round', 'bevel']):\n    ax.text(x, 5, style)\n    for y, angle in enumerate([20, 45, 60, 90, 120]):\n        plot_angle(ax, x, y, angle, style)\n        if x == 0:\n            ax.text(-1.3, y, f'{angle} degrees')\nax.text(1, 4.7, '(default)')\n\nax.set_xlim(-1.5, 2.75)\nax.set_ylim(-.5, 5.5)\nax.set_axis_off()\nplt.show()"
      ]
    },
    {
      "cell_type": "markdown",
      "metadata": {},
      "source": [
        "Cap styles\n==========\n\nCap styles define how the the end of a line is drawn.\n\nSee the respective ``solid_capstyle``, ``dash_capstyle`` or ``capstyle``\nparameters.\n\n"
      ]
    },
    {
      "cell_type": "code",
      "execution_count": null,
      "metadata": {
        "collapsed": false
      },
      "outputs": [],
      "source": [
        "fig, ax = plt.subplots(figsize=(8, 2))\nax.set_title('Cap style')\n\nfor x, style in enumerate(['butt', 'round', 'projecting']):\n    ax.text(x+0.25, 1, style, ha='center')\n    xx = [x, x+0.5]\n    yy = [0, 0]\n    ax.plot(xx, yy, lw=12, color='tab:blue', solid_capstyle=style)\n    ax.plot(xx, yy, lw=1, color='black')\n    ax.plot(xx, yy, 'o', color='tab:red', markersize=3)\nax.text(2.25, 0.7, '(default)', ha='center')\n\nax.set_ylim(-.5, 1.5)\nax.set_axis_off()"
      ]
    },
    {
      "cell_type": "markdown",
      "metadata": {},
      "source": [
        "------------\n\nReferences\n\"\"\"\"\"\"\"\"\"\"\n\nThe use of the following functions, methods, classes and modules is shown\nin this example:\n\n"
      ]
    },
    {
      "cell_type": "code",
      "execution_count": null,
      "metadata": {
        "collapsed": false
      },
      "outputs": [],
      "source": [
        "import matplotlib\nmatplotlib.axes.Axes.plot\nmatplotlib.pyplot.plot"
      ]
    }
  ],
  "metadata": {
    "kernelspec": {
      "display_name": "Python 3",
      "language": "python",
      "name": "python3"
    },
    "language_info": {
      "codemirror_mode": {
        "name": "ipython",
        "version": 3
      },
      "file_extension": ".py",
      "mimetype": "text/x-python",
      "name": "python",
      "nbconvert_exporter": "python",
      "pygments_lexer": "ipython3",
      "version": "3.8.2"
    }
  },
  "nbformat": 4,
  "nbformat_minor": 0
}