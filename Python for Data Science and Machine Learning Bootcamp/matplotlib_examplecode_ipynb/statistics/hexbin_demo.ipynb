{
  "cells": [
    {
      "cell_type": "code",
      "execution_count": null,
      "metadata": {
        "collapsed": false
      },
      "outputs": [],
      "source": [
        "%matplotlib inline"
      ]
    },
    {
      "cell_type": "markdown",
      "metadata": {},
      "source": [
        "\n# Hexbin Demo\n\n\nPlotting hexbins with Matplotlib.\n\nHexbin is an axes method or pyplot function that is essentially\na pcolor of a 2-D histogram with hexagonal cells.  It can be\nmuch more informative than a scatter plot. In the first plot\nbelow, try substituting 'scatter' for 'hexbin'.\n"
      ]
    },
    {
      "cell_type": "code",
      "execution_count": null,
      "metadata": {
        "collapsed": false
      },
      "outputs": [],
      "source": [
        "import numpy as np\nimport matplotlib.pyplot as plt\n\n# Fixing random state for reproducibility\nnp.random.seed(19680801)\n\nn = 100000\nx = np.random.standard_normal(n)\ny = 2.0 + 3.0 * x + 4.0 * np.random.standard_normal(n)\nxmin = x.min()\nxmax = x.max()\nymin = y.min()\nymax = y.max()\n\nfig, axs = plt.subplots(ncols=2, sharey=True, figsize=(7, 4))\nfig.subplots_adjust(hspace=0.5, left=0.07, right=0.93)\nax = axs[0]\nhb = ax.hexbin(x, y, gridsize=50, cmap='inferno')\nax.set(xlim=(xmin, xmax), ylim=(ymin, ymax))\nax.set_title(\"Hexagon binning\")\ncb = fig.colorbar(hb, ax=ax)\ncb.set_label('counts')\n\nax = axs[1]\nhb = ax.hexbin(x, y, gridsize=50, bins='log', cmap='inferno')\nax.set(xlim=(xmin, xmax), ylim=(ymin, ymax))\nax.set_title(\"With a log color scale\")\ncb = fig.colorbar(hb, ax=ax)\ncb.set_label('log10(N)')\n\nplt.show()"
      ]
    }
  ],
  "metadata": {
    "kernelspec": {
      "display_name": "Python 3",
      "language": "python",
      "name": "python3"
    },
    "language_info": {
      "codemirror_mode": {
        "name": "ipython",
        "version": 3
      },
      "file_extension": ".py",
      "mimetype": "text/x-python",
      "name": "python",
      "nbconvert_exporter": "python",
      "pygments_lexer": "ipython3",
      "version": "3.8.2"
    }
  },
  "nbformat": 4,
  "nbformat_minor": 0
}