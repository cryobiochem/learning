{
  "cells": [
    {
      "cell_type": "code",
      "execution_count": null,
      "metadata": {
        "collapsed": false
      },
      "outputs": [],
      "source": [
        "%matplotlib inline"
      ]
    },
    {
      "cell_type": "markdown",
      "metadata": {},
      "source": [
        "\n# Using histograms to plot a cumulative distribution\n\n\nThis shows how to plot a cumulative, normalized histogram as a\nstep function in order to visualize the empirical cumulative\ndistribution function (CDF) of a sample. We also show the theoretical CDF.\n\nA couple of other options to the ``hist`` function are demonstrated.\nNamely, we use the ``normed`` parameter to normalize the histogram and\na couple of different options to the ``cumulative`` parameter.\nThe ``normed`` parameter takes a boolean value. When ``True``, the bin\nheights are scaled such that the total area of the histogram is 1. The\n``cumulative`` kwarg is a little more nuanced. Like ``normed``, you\ncan pass it True or False, but you can also pass it -1 to reverse the\ndistribution.\n\nSince we're showing a normalized and cumulative histogram, these curves\nare effectively the cumulative distribution functions (CDFs) of the\nsamples. In engineering, empirical CDFs are sometimes called\n\"non-exceedance\" curves. In other words, you can look at the\ny-value for a given-x-value to get the probability of and observation\nfrom the sample not exceeding that x-value. For example, the value of\n225 on the x-axis corresponds to about 0.85 on the y-axis, so there's an\n85% chance that an observation in the sample does not exceed 225.\nConversely, setting, ``cumulative`` to -1 as is done in the\nlast series for this example, creates a \"exceedance\" curve.\n\nSelecting different bin counts and sizes can significantly affect the\nshape of a histogram. The Astropy docs have a great section on how to\nselect these parameters:\nhttp://docs.astropy.org/en/stable/visualization/histogram.html\n"
      ]
    },
    {
      "cell_type": "code",
      "execution_count": null,
      "metadata": {
        "collapsed": false
      },
      "outputs": [],
      "source": [
        "import numpy as np\nimport matplotlib.pyplot as plt\n\nnp.random.seed(19680801)\n\nmu = 200\nsigma = 25\nn_bins = 50\nx = np.random.normal(mu, sigma, size=100)\n\nfig, ax = plt.subplots(figsize=(8, 4))\n\n# plot the cumulative histogram\nn, bins, patches = ax.hist(x, n_bins, density=True, histtype='step',\n                           cumulative=True, label='Empirical')\n\n# Add a line showing the expected distribution.\ny = ((1 / (np.sqrt(2 * np.pi) * sigma)) *\n     np.exp(-0.5 * (1 / sigma * (bins - mu))**2))\ny = y.cumsum()\ny /= y[-1]\n\nax.plot(bins, y, 'k--', linewidth=1.5, label='Theoretical')\n\n# Overlay a reversed cumulative histogram.\nax.hist(x, bins=bins, density=True, histtype='step', cumulative=-1,\n        label='Reversed emp.')\n\n# tidy up the figure\nax.grid(True)\nax.legend(loc='right')\nax.set_title('Cumulative step histograms')\nax.set_xlabel('Annual rainfall (mm)')\nax.set_ylabel('Likelihood of occurrence')\n\nplt.show()"
      ]
    }
  ],
  "metadata": {
    "kernelspec": {
      "display_name": "Python 3",
      "language": "python",
      "name": "python3"
    },
    "language_info": {
      "codemirror_mode": {
        "name": "ipython",
        "version": 3
      },
      "file_extension": ".py",
      "mimetype": "text/x-python",
      "name": "python",
      "nbconvert_exporter": "python",
      "pygments_lexer": "ipython3",
      "version": "3.8.2"
    }
  },
  "nbformat": 4,
  "nbformat_minor": 0
}