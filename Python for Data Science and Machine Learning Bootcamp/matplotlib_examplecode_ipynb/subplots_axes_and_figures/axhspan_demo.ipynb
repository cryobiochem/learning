{
  "cells": [
    {
      "cell_type": "code",
      "execution_count": null,
      "metadata": {
        "collapsed": false
      },
      "outputs": [],
      "source": [
        "%matplotlib inline"
      ]
    },
    {
      "cell_type": "markdown",
      "metadata": {},
      "source": [
        "\n# axhspan Demo\n\n\nCreate lines or rectangles that span the axes in either the horizontal or\nvertical direction.\n"
      ]
    },
    {
      "cell_type": "code",
      "execution_count": null,
      "metadata": {
        "collapsed": false
      },
      "outputs": [],
      "source": [
        "import numpy as np\nimport matplotlib.pyplot as plt\n\nt = np.arange(-1, 2, .01)\ns = np.sin(2 * np.pi * t)\n\nplt.plot(t, s)\n# Draw a thick red hline at y=0 that spans the xrange\nplt.axhline(linewidth=8, color='#d62728')\n\n# Draw a default hline at y=1 that spans the xrange\nplt.axhline(y=1)\n\n# Draw a default vline at x=1 that spans the yrange\nplt.axvline(x=1)\n\n# Draw a thick blue vline at x=0 that spans the upper quadrant of the yrange\nplt.axvline(x=0, ymin=0.75, linewidth=8, color='#1f77b4')\n\n# Draw a default hline at y=.5 that spans the middle half of the axes\nplt.axhline(y=.5, xmin=0.25, xmax=0.75)\n\nplt.axhspan(0.25, 0.75, facecolor='0.5', alpha=0.5)\n\nplt.axvspan(1.25, 1.55, facecolor='#2ca02c', alpha=0.5)\n\nplt.show()"
      ]
    }
  ],
  "metadata": {
    "kernelspec": {
      "display_name": "Python 3",
      "language": "python",
      "name": "python3"
    },
    "language_info": {
      "codemirror_mode": {
        "name": "ipython",
        "version": 3
      },
      "file_extension": ".py",
      "mimetype": "text/x-python",
      "name": "python",
      "nbconvert_exporter": "python",
      "pygments_lexer": "ipython3",
      "version": "3.8.2"
    }
  },
  "nbformat": 4,
  "nbformat_minor": 0
}