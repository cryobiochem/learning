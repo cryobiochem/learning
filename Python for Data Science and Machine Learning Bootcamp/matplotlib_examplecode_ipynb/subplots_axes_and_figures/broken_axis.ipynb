{
  "cells": [
    {
      "cell_type": "code",
      "execution_count": null,
      "metadata": {
        "collapsed": false
      },
      "outputs": [],
      "source": [
        "%matplotlib inline"
      ]
    },
    {
      "cell_type": "markdown",
      "metadata": {},
      "source": [
        "\n# Broken Axis\n\n\nBroken axis example, where the y-axis will have a portion cut out.\n"
      ]
    },
    {
      "cell_type": "code",
      "execution_count": null,
      "metadata": {
        "collapsed": false
      },
      "outputs": [],
      "source": [
        "import matplotlib.pyplot as plt\nimport numpy as np\n\n\n# 30 points between [0, 0.2) originally made using np.random.rand(30)*.2\npts = np.array([\n    0.015, 0.166, 0.133, 0.159, 0.041, 0.024, 0.195, 0.039, 0.161, 0.018,\n    0.143, 0.056, 0.125, 0.096, 0.094, 0.051, 0.043, 0.021, 0.138, 0.075,\n    0.109, 0.195, 0.050, 0.074, 0.079, 0.155, 0.020, 0.010, 0.061, 0.008])\n\n# Now let's make two outlier points which are far away from everything.\npts[[3, 14]] += .8\n\n# If we were to simply plot pts, we'd lose most of the interesting\n# details due to the outliers. So let's 'break' or 'cut-out' the y-axis\n# into two portions - use the top (ax) for the outliers, and the bottom\n# (ax2) for the details of the majority of our data\nf, (ax, ax2) = plt.subplots(2, 1, sharex=True)\n\n# plot the same data on both axes\nax.plot(pts)\nax2.plot(pts)\n\n# zoom-in / limit the view to different portions of the data\nax.set_ylim(.78, 1.)  # outliers only\nax2.set_ylim(0, .22)  # most of the data\n\n# hide the spines between ax and ax2\nax.spines['bottom'].set_visible(False)\nax2.spines['top'].set_visible(False)\nax.xaxis.tick_top()\nax.tick_params(labeltop=False)  # don't put tick labels at the top\nax2.xaxis.tick_bottom()\n\n# This looks pretty good, and was fairly painless, but you can get that\n# cut-out diagonal lines look with just a bit more work. The important\n# thing to know here is that in axes coordinates, which are always\n# between 0-1, spine endpoints are at these locations (0, 0), (0, 1),\n# (1, 0), and (1, 1).  Thus, we just need to put the diagonals in the\n# appropriate corners of each of our axes, and so long as we use the\n# right transform and disable clipping.\n\nd = .015  # how big to make the diagonal lines in axes coordinates\n# arguments to pass to plot, just so we don't keep repeating them\nkwargs = dict(transform=ax.transAxes, color='k', clip_on=False)\nax.plot((-d, +d), (-d, +d), **kwargs)        # top-left diagonal\nax.plot((1 - d, 1 + d), (-d, +d), **kwargs)  # top-right diagonal\n\nkwargs.update(transform=ax2.transAxes)  # switch to the bottom axes\nax2.plot((-d, +d), (1 - d, 1 + d), **kwargs)  # bottom-left diagonal\nax2.plot((1 - d, 1 + d), (1 - d, 1 + d), **kwargs)  # bottom-right diagonal\n\n# What's cool about this is that now if we vary the distance between\n# ax and ax2 via f.subplots_adjust(hspace=...) or plt.subplot_tool(),\n# the diagonal lines will move accordingly, and stay right at the tips\n# of the spines they are 'breaking'\n\nplt.show()"
      ]
    }
  ],
  "metadata": {
    "kernelspec": {
      "display_name": "Python 3",
      "language": "python",
      "name": "python3"
    },
    "language_info": {
      "codemirror_mode": {
        "name": "ipython",
        "version": 3
      },
      "file_extension": ".py",
      "mimetype": "text/x-python",
      "name": "python",
      "nbconvert_exporter": "python",
      "pygments_lexer": "ipython3",
      "version": "3.8.2"
    }
  },
  "nbformat": 4,
  "nbformat_minor": 0
}