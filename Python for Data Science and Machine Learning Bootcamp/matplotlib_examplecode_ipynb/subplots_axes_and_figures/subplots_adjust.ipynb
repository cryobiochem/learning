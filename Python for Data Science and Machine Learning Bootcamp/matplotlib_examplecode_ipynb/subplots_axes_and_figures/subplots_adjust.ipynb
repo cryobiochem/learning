{
  "cells": [
    {
      "cell_type": "code",
      "execution_count": null,
      "metadata": {
        "collapsed": false
      },
      "outputs": [],
      "source": [
        "%matplotlib inline"
      ]
    },
    {
      "cell_type": "markdown",
      "metadata": {},
      "source": [
        "\n# Subplots Adjust\n\n\nAdjusting the spacing of margins and subplots using\n:func:`~matplotlib.pyplot.subplots_adjust`.\n"
      ]
    },
    {
      "cell_type": "code",
      "execution_count": null,
      "metadata": {
        "collapsed": false
      },
      "outputs": [],
      "source": [
        "import matplotlib.pyplot as plt\nimport numpy as np\n\n# Fixing random state for reproducibility\nnp.random.seed(19680801)\n\n\nplt.subplot(211)\nplt.imshow(np.random.random((100, 100)), cmap=plt.cm.BuPu_r)\nplt.subplot(212)\nplt.imshow(np.random.random((100, 100)), cmap=plt.cm.BuPu_r)\n\nplt.subplots_adjust(bottom=0.1, right=0.8, top=0.9)\ncax = plt.axes([0.85, 0.1, 0.075, 0.8])\nplt.colorbar(cax=cax)\nplt.show()"
      ]
    }
  ],
  "metadata": {
    "kernelspec": {
      "display_name": "Python 3",
      "language": "python",
      "name": "python3"
    },
    "language_info": {
      "codemirror_mode": {
        "name": "ipython",
        "version": 3
      },
      "file_extension": ".py",
      "mimetype": "text/x-python",
      "name": "python",
      "nbconvert_exporter": "python",
      "pygments_lexer": "ipython3",
      "version": "3.8.2"
    }
  },
  "nbformat": 4,
  "nbformat_minor": 0
}