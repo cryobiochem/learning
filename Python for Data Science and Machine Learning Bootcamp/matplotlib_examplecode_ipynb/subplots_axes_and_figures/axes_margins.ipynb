{
  "cells": [
    {
      "cell_type": "code",
      "execution_count": null,
      "metadata": {
        "collapsed": false
      },
      "outputs": [],
      "source": [
        "%matplotlib inline"
      ]
    },
    {
      "cell_type": "markdown",
      "metadata": {},
      "source": [
        "\n# Controlling view limits using margins and sticky_edges\n\n\nThe first figure in this example shows how to zoom in and out of a\nplot using `~.Axes.margins` instead of `~.Axes.set_xlim` and\n`~.Axes.set_ylim`. The second figure demonstrates the concept of\nedge \"stickiness\" introduced by certain methods and artists and how\nto effectively work around that.\n"
      ]
    },
    {
      "cell_type": "code",
      "execution_count": null,
      "metadata": {
        "collapsed": false
      },
      "outputs": [],
      "source": [
        "import numpy as np\nimport matplotlib.pyplot as plt\n\n\ndef f(t):\n    return np.exp(-t) * np.cos(2*np.pi*t)\n\n\nt1 = np.arange(0.0, 3.0, 0.01)\n\nax1 = plt.subplot(212)\nax1.margins(0.05)           # Default margin is 0.05, value 0 means fit\nax1.plot(t1, f(t1))\n\nax2 = plt.subplot(221)\nax2.margins(2, 2)           # Values >0.0 zoom out\nax2.plot(t1, f(t1))\nax2.set_title('Zoomed out')\n\nax3 = plt.subplot(222)\nax3.margins(x=0, y=-0.25)   # Values in (-0.5, 0.0) zooms in to center\nax3.plot(t1, f(t1))\nax3.set_title('Zoomed in')\n\nplt.show()"
      ]
    },
    {
      "cell_type": "markdown",
      "metadata": {},
      "source": [
        "On the \"stickiness\" of certain plotting methods\n\"\"\"\"\"\"\"\"\"\"\"\"\"\"\"\"\"\"\"\"\"\"\"\"\"\"\"\"\"\"\"\"\"\"\"\"\"\"\"\"\"\"\"\"\"\"\"\n\nSome plotting functions make the axis limits \"sticky\" or immune to the will\nof the `~.Axes.margins` methods. For instance, `~.Axes.imshow` and\n`~.Axes.pcolor` expect the user to want the limits to be tight around the\npixels shown in the plot. If this behavior is not desired, you need to set\n`~.Axes.use_sticky_edges` to `False`. Consider the following example:\n\n"
      ]
    },
    {
      "cell_type": "code",
      "execution_count": null,
      "metadata": {
        "collapsed": false
      },
      "outputs": [],
      "source": [
        "y, x = np.mgrid[:5, 1:6]\npoly_coords = [\n    (0.25, 2.75), (3.25, 2.75),\n    (2.25, 0.75), (0.25, 0.75)\n]\nfig, (ax1, ax2) = plt.subplots(ncols=2)\n\n# Here we set the stickiness of the axes object...\n# ax1 we'll leave as the default, which uses sticky edges\n# and we'll turn off stickiness for ax2\nax2.use_sticky_edges = False\n\nfor ax, status in zip((ax1, ax2), ('Is', 'Is Not')):\n    cells = ax.pcolor(x, y, x+y, cmap='inferno')  # sticky\n    ax.add_patch(\n        plt.Polygon(poly_coords, color='forestgreen', alpha=0.5)\n    )  # not sticky\n    ax.margins(x=0.1, y=0.05)\n    ax.set_aspect('equal')\n    ax.set_title('{} Sticky'.format(status))\n\nplt.show()"
      ]
    },
    {
      "cell_type": "markdown",
      "metadata": {},
      "source": [
        "------------\n\nReferences\n\"\"\"\"\"\"\"\"\"\"\n\nThe use of the following functions, methods is shown\nin this example:\n\n"
      ]
    },
    {
      "cell_type": "code",
      "execution_count": null,
      "metadata": {
        "collapsed": false
      },
      "outputs": [],
      "source": [
        "import matplotlib\nmatplotlib.axes.Axes.margins\nmatplotlib.pyplot.margins\nmatplotlib.axes.Axes.use_sticky_edges\nmatplotlib.axes.Axes.pcolor\nmatplotlib.pyplot.pcolor\nmatplotlib.pyplot.Polygon"
      ]
    }
  ],
  "metadata": {
    "kernelspec": {
      "display_name": "Python 3",
      "language": "python",
      "name": "python3"
    },
    "language_info": {
      "codemirror_mode": {
        "name": "ipython",
        "version": 3
      },
      "file_extension": ".py",
      "mimetype": "text/x-python",
      "name": "python",
      "nbconvert_exporter": "python",
      "pygments_lexer": "ipython3",
      "version": "3.8.2"
    }
  },
  "nbformat": 4,
  "nbformat_minor": 0
}