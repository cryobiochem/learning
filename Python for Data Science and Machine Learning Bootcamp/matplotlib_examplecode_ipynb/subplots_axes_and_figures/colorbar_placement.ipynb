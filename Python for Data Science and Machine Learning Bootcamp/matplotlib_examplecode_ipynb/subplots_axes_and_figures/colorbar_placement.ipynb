{
  "cells": [
    {
      "cell_type": "code",
      "execution_count": null,
      "metadata": {
        "collapsed": false
      },
      "outputs": [],
      "source": [
        "%matplotlib inline"
      ]
    },
    {
      "cell_type": "markdown",
      "metadata": {},
      "source": [
        "\n# Placing Colorbars\n\n\nColorbars indicate the quantitative extent of image data.  Placing in\na figure is non-trivial because room needs to be made for them.\n\nThe simplest case is just attaching a colorbar to each axes:\n"
      ]
    },
    {
      "cell_type": "code",
      "execution_count": null,
      "metadata": {
        "collapsed": false
      },
      "outputs": [],
      "source": [
        "import matplotlib.pyplot as plt\nimport numpy as np\n\nfig, axs = plt.subplots(2, 2)\ncm = ['RdBu_r', 'viridis']\nfor col in range(2):\n    for row in range(2):\n        ax = axs[row, col]\n        pcm = ax.pcolormesh(np.random.random((20, 20)) * (col + 1),\n                            cmap=cm[col])\n        fig.colorbar(pcm, ax=ax)\nplt.show()"
      ]
    },
    {
      "cell_type": "markdown",
      "metadata": {},
      "source": [
        "The first column has the same type of data in both rows, so it may\nbe desirable to combine the colorbar which we do by calling\n`.Figure.colorbar` with a list of axes instead of a single axes.\n\n"
      ]
    },
    {
      "cell_type": "code",
      "execution_count": null,
      "metadata": {
        "collapsed": false
      },
      "outputs": [],
      "source": [
        "fig, axs = plt.subplots(2, 2)\ncm = ['RdBu_r', 'viridis']\nfor col in range(2):\n    for row in range(2):\n        ax = axs[row, col]\n        pcm = ax.pcolormesh(np.random.random((20, 20)) * (col + 1),\n                            cmap=cm[col])\n    fig.colorbar(pcm, ax=axs[:, col], shrink=0.6)\nplt.show()"
      ]
    },
    {
      "cell_type": "markdown",
      "metadata": {},
      "source": [
        "Relatively complicated colorbar layouts are possible using this\nparadigm.  Note that this example works far better with\n``constrained_layout=True``\n\n"
      ]
    },
    {
      "cell_type": "code",
      "execution_count": null,
      "metadata": {
        "collapsed": false
      },
      "outputs": [],
      "source": [
        "fig, axs = plt.subplots(3, 3, constrained_layout=True)\nfor ax in axs.flat:\n    pcm = ax.pcolormesh(np.random.random((20, 20)))\n\nfig.colorbar(pcm, ax=axs[0, :2], shrink=0.6, location='bottom')\nfig.colorbar(pcm, ax=[axs[0, 2]], location='bottom')\nfig.colorbar(pcm, ax=axs[1:, :], location='right', shrink=0.6)\nfig.colorbar(pcm, ax=[axs[2, 1]], location='left')\n\n\nplt.show()"
      ]
    }
  ],
  "metadata": {
    "kernelspec": {
      "display_name": "Python 3",
      "language": "python",
      "name": "python3"
    },
    "language_info": {
      "codemirror_mode": {
        "name": "ipython",
        "version": 3
      },
      "file_extension": ".py",
      "mimetype": "text/x-python",
      "name": "python",
      "nbconvert_exporter": "python",
      "pygments_lexer": "ipython3",
      "version": "3.8.2"
    }
  },
  "nbformat": 4,
  "nbformat_minor": 0
}