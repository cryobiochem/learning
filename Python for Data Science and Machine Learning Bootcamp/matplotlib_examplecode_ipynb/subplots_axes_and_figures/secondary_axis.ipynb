{
  "cells": [
    {
      "cell_type": "code",
      "execution_count": null,
      "metadata": {
        "collapsed": false
      },
      "outputs": [],
      "source": [
        "%matplotlib inline"
      ]
    },
    {
      "cell_type": "markdown",
      "metadata": {},
      "source": [
        "\n# Secondary Axis\n\n\nSometimes we want a secondary axis on a plot, for instance to convert\nradians to degrees on the same plot.  We can do this by making a child\naxes with only one axis visible via `.axes.Axes.secondary_xaxis` and\n`.axes.Axes.secondary_yaxis`.  This secondary axis can have a different scale\nthan the main axis by providing both a forward and an inverse conversion\nfunction in a tuple to the ``functions`` kwarg:\n"
      ]
    },
    {
      "cell_type": "code",
      "execution_count": null,
      "metadata": {
        "collapsed": false
      },
      "outputs": [],
      "source": [
        "import matplotlib.pyplot as plt\nimport numpy as np\nimport datetime\nimport matplotlib.dates as mdates\nfrom matplotlib.transforms import Transform\nfrom matplotlib.ticker import (\n    AutoLocator, AutoMinorLocator)\n\nfig, ax = plt.subplots(constrained_layout=True)\nx = np.arange(0, 360, 1)\ny = np.sin(2 * x * np.pi / 180)\nax.plot(x, y)\nax.set_xlabel('angle [degrees]')\nax.set_ylabel('signal')\nax.set_title('Sine wave')\n\n\ndef deg2rad(x):\n    return x * np.pi / 180\n\n\ndef rad2deg(x):\n    return x * 180 / np.pi\n\n\nsecax = ax.secondary_xaxis('top', functions=(deg2rad, rad2deg))\nsecax.set_xlabel('angle [rad]')\nplt.show()"
      ]
    },
    {
      "cell_type": "markdown",
      "metadata": {},
      "source": [
        "Here is the case of converting from wavenumber to wavelength in a\nlog-log scale.\n\n.. note ::\n\n  In this case, the xscale of the parent is logarithmic, so the child is\n  made logarithmic as well.\n\n"
      ]
    },
    {
      "cell_type": "code",
      "execution_count": null,
      "metadata": {
        "collapsed": false
      },
      "outputs": [],
      "source": [
        "fig, ax = plt.subplots(constrained_layout=True)\nx = np.arange(0.02, 1, 0.02)\nnp.random.seed(19680801)\ny = np.random.randn(len(x)) ** 2\nax.loglog(x, y)\nax.set_xlabel('f [Hz]')\nax.set_ylabel('PSD')\nax.set_title('Random spectrum')\n\n\ndef forward(x):\n    return 1 / x\n\n\ndef inverse(x):\n    return 1 / x\n\n\nsecax = ax.secondary_xaxis('top', functions=(forward, inverse))\nsecax.set_xlabel('period [s]')\nplt.show()"
      ]
    },
    {
      "cell_type": "markdown",
      "metadata": {},
      "source": [
        "Sometime we want to relate the axes in a transform that is ad-hoc from\nthe data, and is derived empirically.  In that case we can set the\nforward and inverse transforms functions to be linear interpolations from the\none data set to the other.\n\n"
      ]
    },
    {
      "cell_type": "code",
      "execution_count": null,
      "metadata": {
        "collapsed": false
      },
      "outputs": [],
      "source": [
        "fig, ax = plt.subplots(constrained_layout=True)\nxdata = np.arange(1, 11, 0.4)\nydata = np.random.randn(len(xdata))\nax.plot(xdata, ydata, label='Plotted data')\n\nxold = np.arange(0, 11, 0.2)\n# fake data set relating x co-ordinate to another data-derived co-ordinate.\n# xnew must be monotonic, so we sort...\nxnew = np.sort(10 * np.exp(-xold / 4) + np.random.randn(len(xold)) / 3)\n\nax.plot(xold[3:], xnew[3:], label='Transform data')\nax.set_xlabel('X [m]')\nax.legend()\n\n\ndef forward(x):\n    return np.interp(x, xold, xnew)\n\n\ndef inverse(x):\n    return np.interp(x, xnew, xold)\n\n\nsecax = ax.secondary_xaxis('top', functions=(forward, inverse))\nsecax.xaxis.set_minor_locator(AutoMinorLocator())\nsecax.set_xlabel('$X_{other}$')\n\nplt.show()"
      ]
    },
    {
      "cell_type": "markdown",
      "metadata": {},
      "source": [
        "A final example translates np.datetime64 to yearday on the x axis and\nfrom Celsius to Farenheit on the y axis:\n\n"
      ]
    },
    {
      "cell_type": "code",
      "execution_count": null,
      "metadata": {
        "collapsed": false
      },
      "outputs": [],
      "source": [
        "dates = [datetime.datetime(2018, 1, 1) + datetime.timedelta(hours=k * 6)\n         for k in range(240)]\ntemperature = np.random.randn(len(dates))\nfig, ax = plt.subplots(constrained_layout=True)\n\nax.plot(dates, temperature)\nax.set_ylabel(r'$T\\ [^oC]$')\nplt.xticks(rotation=70)\n\n\ndef date2yday(x):\n    \"\"\"Convert matplotlib datenum to days since 2018-01-01.\"\"\"\n    y = x - mdates.date2num(datetime.datetime(2018, 1, 1))\n    return y\n\n\ndef yday2date(x):\n    \"\"\"Return a matplotlib datenum for *x* days after 2018-01-01.\"\"\"\n    y = x + mdates.date2num(datetime.datetime(2018, 1, 1))\n    return y\n\n\nsecaxx = ax.secondary_xaxis('top', functions=(date2yday, yday2date))\nsecaxx.set_xlabel('yday [2018]')\n\n\ndef CtoF(x):\n    return x * 1.8 + 32\n\n\ndef FtoC(x):\n    return (x - 32) / 1.8\n\n\nsecaxy = ax.secondary_yaxis('right', functions=(CtoF, FtoC))\nsecaxy.set_ylabel(r'$T\\ [^oF]$')\n\nplt.show()"
      ]
    },
    {
      "cell_type": "markdown",
      "metadata": {},
      "source": [
        "------------\n\nReferences\n\"\"\"\"\"\"\"\"\"\"\n\nThe use of the following functions and methods is shown in this example:\n\n"
      ]
    },
    {
      "cell_type": "code",
      "execution_count": null,
      "metadata": {
        "collapsed": false
      },
      "outputs": [],
      "source": [
        "import matplotlib\n\nmatplotlib.axes.Axes.secondary_xaxis\nmatplotlib.axes.Axes.secondary_yaxis"
      ]
    }
  ],
  "metadata": {
    "kernelspec": {
      "display_name": "Python 3",
      "language": "python",
      "name": "python3"
    },
    "language_info": {
      "codemirror_mode": {
        "name": "ipython",
        "version": 3
      },
      "file_extension": ".py",
      "mimetype": "text/x-python",
      "name": "python",
      "nbconvert_exporter": "python",
      "pygments_lexer": "ipython3",
      "version": "3.8.2"
    }
  },
  "nbformat": 4,
  "nbformat_minor": 0
}