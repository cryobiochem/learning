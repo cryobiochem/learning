{
  "cells": [
    {
      "cell_type": "code",
      "execution_count": null,
      "metadata": {
        "collapsed": false
      },
      "outputs": [],
      "source": [
        "%matplotlib inline"
      ]
    },
    {
      "cell_type": "markdown",
      "metadata": {},
      "source": [
        "\n# CanvasAgg demo\n\n\nThis example shows how to use the agg backend directly to create images, which\nmay be of use to web application developers who want full control over their\ncode without using the pyplot interface to manage figures, figure closing etc.\n\n<div class=\"alert alert-info\"><h4>Note</h4><p>It is not necessary to avoid using the pyplot interface in order to\n    create figures without a graphical front-end - simply setting\n    the backend to \"Agg\" would be sufficient.</p></div>\n\nIn this example, we show how to save the contents of the agg canvas to a file,\nand how to extract them to a string, which can in turn be passed off to PIL or\nput in a numpy array.  The latter functionality allows e.g. to use Matplotlib\ninside a cgi-script *without* needing to write a figure to disk.\n"
      ]
    },
    {
      "cell_type": "code",
      "execution_count": null,
      "metadata": {
        "collapsed": false
      },
      "outputs": [],
      "source": [
        "from matplotlib.backends.backend_agg import FigureCanvasAgg\nfrom matplotlib.figure import Figure\nimport numpy as np\n\nfig = Figure(figsize=(5, 4), dpi=100)\n# A canvas must be manually attached to the figure (pyplot would automatically\n# do it).  This is done by instantiating the canvas with the figure as\n# argument.\ncanvas = FigureCanvasAgg(fig)\n\n# Do some plotting.\nax = fig.add_subplot(111)\nax.plot([1, 2, 3])\n\n# Option 1: Save the figure to a file; can also be a file-like object (BytesIO,\n# etc.).\nfig.savefig(\"test.png\")\n\n# Option 2: Retrieve a view on the renderer buffer...\ncanvas.draw()\nbuf = canvas.buffer_rgba()\n# ... convert to a NumPy array ...\nX = np.asarray(buf)\n# ... and pass it to PIL.\nfrom PIL import Image\nim = Image.fromarray(X)\n\n# Uncomment this line to display the image using ImageMagick's `display` tool.\n# im.show()"
      ]
    },
    {
      "cell_type": "markdown",
      "metadata": {},
      "source": [
        "------------\n\nReferences\n\"\"\"\"\"\"\"\"\"\"\n\nThe use of the following functions, methods, classes and modules is shown\nin this example:\n\n"
      ]
    },
    {
      "cell_type": "code",
      "execution_count": null,
      "metadata": {
        "collapsed": false
      },
      "outputs": [],
      "source": [
        "import matplotlib\nmatplotlib.backends.backend_agg.FigureCanvasAgg\nmatplotlib.figure.Figure\nmatplotlib.figure.Figure.add_subplot\nmatplotlib.figure.Figure.savefig\nmatplotlib.axes.Axes.plot"
      ]
    }
  ],
  "metadata": {
    "kernelspec": {
      "display_name": "Python 3",
      "language": "python",
      "name": "python3"
    },
    "language_info": {
      "codemirror_mode": {
        "name": "ipython",
        "version": 3
      },
      "file_extension": ".py",
      "mimetype": "text/x-python",
      "name": "python",
      "nbconvert_exporter": "python",
      "pygments_lexer": "ipython3",
      "version": "3.8.2"
    }
  },
  "nbformat": 4,
  "nbformat_minor": 0
}