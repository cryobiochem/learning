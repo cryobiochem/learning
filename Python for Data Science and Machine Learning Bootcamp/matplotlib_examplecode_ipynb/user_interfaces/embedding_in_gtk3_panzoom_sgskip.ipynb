{
  "cells": [
    {
      "cell_type": "code",
      "execution_count": null,
      "metadata": {
        "collapsed": false
      },
      "outputs": [],
      "source": [
        "%matplotlib inline"
      ]
    },
    {
      "cell_type": "markdown",
      "metadata": {},
      "source": [
        "\n# Embedding in GTK3 with a navigation toolbar\n\n\nDemonstrate NavigationToolbar with GTK3 accessed via pygobject.\n"
      ]
    },
    {
      "cell_type": "code",
      "execution_count": null,
      "metadata": {
        "collapsed": false
      },
      "outputs": [],
      "source": [
        "import gi\ngi.require_version('Gtk', '3.0')\nfrom gi.repository import Gtk\n\nfrom matplotlib.backends.backend_gtk3 import (\n    NavigationToolbar2GTK3 as NavigationToolbar)\nfrom matplotlib.backends.backend_gtk3agg import (\n    FigureCanvasGTK3Agg as FigureCanvas)\nfrom matplotlib.figure import Figure\nimport numpy as np\n\nwin = Gtk.Window()\nwin.connect(\"delete-event\", Gtk.main_quit)\nwin.set_default_size(400, 300)\nwin.set_title(\"Embedding in GTK\")\n\nf = Figure(figsize=(5, 4), dpi=100)\na = f.add_subplot(1, 1, 1)\nt = np.arange(0.0, 3.0, 0.01)\ns = np.sin(2*np.pi*t)\na.plot(t, s)\n\nvbox = Gtk.VBox()\nwin.add(vbox)\n\n# Add canvas to vbox\ncanvas = FigureCanvas(f)  # a Gtk.DrawingArea\nvbox.pack_start(canvas, True, True, 0)\n\n# Create toolbar\ntoolbar = NavigationToolbar(canvas, win)\nvbox.pack_start(toolbar, False, False, 0)\n\nwin.show_all()\nGtk.main()"
      ]
    }
  ],
  "metadata": {
    "kernelspec": {
      "display_name": "Python 3",
      "language": "python",
      "name": "python3"
    },
    "language_info": {
      "codemirror_mode": {
        "name": "ipython",
        "version": 3
      },
      "file_extension": ".py",
      "mimetype": "text/x-python",
      "name": "python",
      "nbconvert_exporter": "python",
      "pygments_lexer": "ipython3",
      "version": "3.8.2"
    }
  },
  "nbformat": 4,
  "nbformat_minor": 0
}