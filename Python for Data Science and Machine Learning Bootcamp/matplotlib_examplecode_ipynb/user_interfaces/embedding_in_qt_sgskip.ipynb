{
  "cells": [
    {
      "cell_type": "code",
      "execution_count": null,
      "metadata": {
        "collapsed": false
      },
      "outputs": [],
      "source": [
        "%matplotlib inline"
      ]
    },
    {
      "cell_type": "markdown",
      "metadata": {},
      "source": [
        "\n# Embedding in Qt\n\n\nSimple Qt application embedding Matplotlib canvases.  This program will work\nequally well using Qt4 and Qt5.  Either version of Qt can be selected (for\nexample) by setting the ``MPLBACKEND`` environment variable to \"Qt4Agg\" or\n\"Qt5Agg\", or by first importing the desired version of PyQt.\n"
      ]
    },
    {
      "cell_type": "code",
      "execution_count": null,
      "metadata": {
        "collapsed": false
      },
      "outputs": [],
      "source": [
        "import sys\nimport time\n\nimport numpy as np\n\nfrom matplotlib.backends.qt_compat import QtCore, QtWidgets, is_pyqt5\nif is_pyqt5():\n    from matplotlib.backends.backend_qt5agg import (\n        FigureCanvas, NavigationToolbar2QT as NavigationToolbar)\nelse:\n    from matplotlib.backends.backend_qt4agg import (\n        FigureCanvas, NavigationToolbar2QT as NavigationToolbar)\nfrom matplotlib.figure import Figure\n\n\nclass ApplicationWindow(QtWidgets.QMainWindow):\n    def __init__(self):\n        super().__init__()\n        self._main = QtWidgets.QWidget()\n        self.setCentralWidget(self._main)\n        layout = QtWidgets.QVBoxLayout(self._main)\n\n        static_canvas = FigureCanvas(Figure(figsize=(5, 3)))\n        layout.addWidget(static_canvas)\n        self.addToolBar(NavigationToolbar(static_canvas, self))\n\n        dynamic_canvas = FigureCanvas(Figure(figsize=(5, 3)))\n        layout.addWidget(dynamic_canvas)\n        self.addToolBar(QtCore.Qt.BottomToolBarArea,\n                        NavigationToolbar(dynamic_canvas, self))\n\n        self._static_ax = static_canvas.figure.subplots()\n        t = np.linspace(0, 10, 501)\n        self._static_ax.plot(t, np.tan(t), \".\")\n\n        self._dynamic_ax = dynamic_canvas.figure.subplots()\n        self._timer = dynamic_canvas.new_timer(\n            50, [(self._update_canvas, (), {})])\n        self._timer.start()\n\n    def _update_canvas(self):\n        self._dynamic_ax.clear()\n        t = np.linspace(0, 10, 101)\n        # Use fixed vertical limits to prevent autoscaling changing the scale\n        # of the axis.\n        self._dynamic_ax.set_ylim(-1.1, 1.1)\n        # Shift the sinusoid as a function of time.\n        self._dynamic_ax.plot(t, np.sin(t + time.time()))\n        self._dynamic_ax.figure.canvas.draw()\n\n\nif __name__ == \"__main__\":\n    # Check whether there is already a running QApplication (e.g., if running\n    # from an IDE).\n    qapp = QtWidgets.QApplication.instance()\n    if not qapp:\n        qapp = QtWidgets.QApplication(sys.argv)\n\n    app = ApplicationWindow()\n    app.show()\n    app.activateWindow()\n    app.raise_()\n    qapp.exec_()"
      ]
    }
  ],
  "metadata": {
    "kernelspec": {
      "display_name": "Python 3",
      "language": "python",
      "name": "python3"
    },
    "language_info": {
      "codemirror_mode": {
        "name": "ipython",
        "version": 3
      },
      "file_extension": ".py",
      "mimetype": "text/x-python",
      "name": "python",
      "nbconvert_exporter": "python",
      "pygments_lexer": "ipython3",
      "version": "3.8.2"
    }
  },
  "nbformat": 4,
  "nbformat_minor": 0
}