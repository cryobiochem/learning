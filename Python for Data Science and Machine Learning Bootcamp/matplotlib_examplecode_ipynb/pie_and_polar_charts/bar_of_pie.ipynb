{
  "cells": [
    {
      "cell_type": "code",
      "execution_count": null,
      "metadata": {
        "collapsed": false
      },
      "outputs": [],
      "source": [
        "%matplotlib inline"
      ]
    },
    {
      "cell_type": "markdown",
      "metadata": {},
      "source": [
        "\n# Bar of pie\n\n\nMake a \"bar of pie\" chart where the first slice of the pie is\n\"exploded\" into a bar chart with a further breakdown of said slice's\ncharacteristics. The example demonstrates using a figure with multiple\nsets of axes and using the axes patches list to add two ConnectionPatches\nto link the subplot charts.\n"
      ]
    },
    {
      "cell_type": "code",
      "execution_count": null,
      "metadata": {
        "collapsed": false
      },
      "outputs": [],
      "source": [
        "import matplotlib.pyplot as plt\nfrom matplotlib.patches import ConnectionPatch\nimport numpy as np\n\n# make figure and assign axis objects\nfig = plt.figure(figsize=(9, 5))\nax1 = fig.add_subplot(121)\nax2 = fig.add_subplot(122)\nfig.subplots_adjust(wspace=0)\n\n# pie chart parameters\nratios = [.27, .56, .17]\nlabels = ['Approve', 'Disapprove', 'Undecided']\nexplode = [0.1, 0, 0]\n# rotate so that first wedge is split by the x-axis\nangle = -180 * ratios[0]\nax1.pie(ratios, autopct='%1.1f%%', startangle=angle,\n        labels=labels, explode=explode)\n\n# bar chart parameters\n\nxpos = 0\nbottom = 0\nratios = [.33, .54, .07, .06]\nwidth = .2\ncolors = [[.1, .3, .5], [.1, .3, .3], [.1, .3, .7], [.1, .3, .9]]\n\nfor j in range(len(ratios)):\n    height = ratios[j]\n    ax2.bar(xpos, height, width, bottom=bottom, color=colors[j])\n    ypos = bottom + ax2.patches[j].get_height() / 2\n    bottom += height\n    ax2.text(xpos, ypos, \"%d%%\" % (ax2.patches[j].get_height() * 100),\n             ha='center')\n\nax2.set_title('Age of approvers')\nax2.legend(('50-65', 'Over 65', '35-49', 'Under 35'))\nax2.axis('off')\nax2.set_xlim(- 2.5 * width, 2.5 * width)\n\n# use ConnectionPatch to draw lines between the two plots\n# get the wedge data\ntheta1, theta2 = ax1.patches[0].theta1, ax1.patches[0].theta2\ncenter, r = ax1.patches[0].center, ax1.patches[0].r\nbar_height = sum([item.get_height() for item in ax2.patches])\n\n# draw top connecting line\nx = r * np.cos(np.pi / 180 * theta2) + center[0]\ny = np.sin(np.pi / 180 * theta2) + center[1]\ncon = ConnectionPatch(xyA=(-width / 2, bar_height), coordsA=ax2.transData,\n                      xyB=(x, y), coordsB=ax1.transData)\ncon.set_color([0, 0, 0])\ncon.set_linewidth(4)\nax2.add_artist(con)\n\n# draw bottom connecting line\nx = r * np.cos(np.pi / 180 * theta1) + center[0]\ny = np.sin(np.pi / 180 * theta1) + center[1]\ncon = ConnectionPatch(xyA=(-width / 2, 0), coordsA=ax2.transData,\n                      xyB=(x, y), coordsB=ax1.transData)\ncon.set_color([0, 0, 0])\nax2.add_artist(con)\ncon.set_linewidth(4)\n\nplt.show()"
      ]
    },
    {
      "cell_type": "markdown",
      "metadata": {},
      "source": [
        "------------\n\nReferences\n\"\"\"\"\"\"\"\"\"\"\n\nThe use of the following functions, methods, classes and modules is shown\nin this example:\n\n"
      ]
    },
    {
      "cell_type": "code",
      "execution_count": null,
      "metadata": {
        "collapsed": false
      },
      "outputs": [],
      "source": [
        "import matplotlib\nmatplotlib.axes.Axes.pie\nmatplotlib.axes.Axes.bar\nmatplotlib.pyplot\nmatplotlib.patches.ConnectionPatch"
      ]
    }
  ],
  "metadata": {
    "kernelspec": {
      "display_name": "Python 3",
      "language": "python",
      "name": "python3"
    },
    "language_info": {
      "codemirror_mode": {
        "name": "ipython",
        "version": 3
      },
      "file_extension": ".py",
      "mimetype": "text/x-python",
      "name": "python",
      "nbconvert_exporter": "python",
      "pygments_lexer": "ipython3",
      "version": "3.8.2"
    }
  },
  "nbformat": 4,
  "nbformat_minor": 0
}