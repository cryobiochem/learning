{
  "cells": [
    {
      "cell_type": "code",
      "execution_count": null,
      "metadata": {
        "collapsed": false
      },
      "outputs": [],
      "source": [
        "%matplotlib inline"
      ]
    },
    {
      "cell_type": "markdown",
      "metadata": {},
      "source": [
        "\n# Pie Demo2\n\n\nMake a pie charts using :meth:`~.axes.Axes.pie`.\n\nThis example demonstrates some pie chart features like labels, varying size,\nautolabeling the percentage, offsetting a slice and adding a shadow.\n"
      ]
    },
    {
      "cell_type": "code",
      "execution_count": null,
      "metadata": {
        "collapsed": false
      },
      "outputs": [],
      "source": [
        "import matplotlib.pyplot as plt\n\n# Some data\nlabels = 'Frogs', 'Hogs', 'Dogs', 'Logs'\nfracs = [15, 30, 45, 10]\n\n# Make figure and axes\nfig, axs = plt.subplots(2, 2)\n\n# A standard pie plot\naxs[0, 0].pie(fracs, labels=labels, autopct='%1.1f%%', shadow=True)\n\n# Shift the second slice using explode\naxs[0, 1].pie(fracs, labels=labels, autopct='%.0f%%', shadow=True,\n              explode=(0, 0.1, 0, 0))\n\n# Adapt radius and text size for a smaller pie\npatches, texts, autotexts = axs[1, 0].pie(fracs, labels=labels,\n                                          autopct='%.0f%%',\n                                          textprops={'size': 'smaller'},\n                                          shadow=True, radius=0.5)\n# Make percent texts even smaller\nplt.setp(autotexts, size='x-small')\nautotexts[0].set_color('white')\n\n# Use a smaller explode and turn of the shadow for better visibility\npatches, texts, autotexts = axs[1, 1].pie(fracs, labels=labels,\n                                          autopct='%.0f%%',\n                                          textprops={'size': 'smaller'},\n                                          shadow=False, radius=0.5,\n                                          explode=(0, 0.05, 0, 0))\nplt.setp(autotexts, size='x-small')\nautotexts[0].set_color('white')\n\nplt.show()"
      ]
    },
    {
      "cell_type": "markdown",
      "metadata": {},
      "source": [
        "------------\n\nReferences\n\"\"\"\"\"\"\"\"\"\"\n\nThe use of the following functions, methods, classes and modules is shown\nin this example:\n\n"
      ]
    },
    {
      "cell_type": "code",
      "execution_count": null,
      "metadata": {
        "collapsed": false
      },
      "outputs": [],
      "source": [
        "import matplotlib\nmatplotlib.axes.Axes.pie\nmatplotlib.pyplot.pie"
      ]
    }
  ],
  "metadata": {
    "kernelspec": {
      "display_name": "Python 3",
      "language": "python",
      "name": "python3"
    },
    "language_info": {
      "codemirror_mode": {
        "name": "ipython",
        "version": 3
      },
      "file_extension": ".py",
      "mimetype": "text/x-python",
      "name": "python",
      "nbconvert_exporter": "python",
      "pygments_lexer": "ipython3",
      "version": "3.8.2"
    }
  },
  "nbformat": 4,
  "nbformat_minor": 0
}