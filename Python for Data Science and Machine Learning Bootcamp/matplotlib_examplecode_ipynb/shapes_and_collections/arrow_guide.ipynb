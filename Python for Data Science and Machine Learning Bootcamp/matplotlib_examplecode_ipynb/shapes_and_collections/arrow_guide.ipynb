{
  "cells": [
    {
      "cell_type": "code",
      "execution_count": null,
      "metadata": {
        "collapsed": false
      },
      "outputs": [],
      "source": [
        "%matplotlib inline"
      ]
    },
    {
      "cell_type": "markdown",
      "metadata": {},
      "source": [
        "\n# Arrow guide\n\n\nAdding arrow patches to plots.\n\nArrows are often used to annotate plots. This tutorial shows how to plot arrows\nthat behave differently when the data limits on a plot are changed. In general,\npoints on a plot can either be fixed in \"data space\" or \"display space\".\nSomething plotted in data space moves when the data limits are altered - an\nexample would the points in a scatter plot. Something plotted in display space\nstays static when data limits are altered - an example would be a figure title\nor the axis labels.\n\nArrows consist of a head (and possibly a tail) and a stem drawn between a\nstart point and end point, called 'anchor points' from now on.\nHere we show three use cases for plotting arrows, depending on whether the\nhead or anchor points need to be fixed in data or display space:\n\n    1. Head shape fixed in display space, anchor points fixed in data space\n    2. Head shape and anchor points fixed in display space\n    3. Entire patch fixed in data space\n\nBelow each use case is presented in turn.\n"
      ]
    },
    {
      "cell_type": "code",
      "execution_count": null,
      "metadata": {
        "collapsed": false
      },
      "outputs": [],
      "source": [
        "import matplotlib.patches as mpatches\nimport matplotlib.pyplot as plt\nx_tail = 0.1\ny_tail = 0.1\nx_head = 0.9\ny_head = 0.9\ndx = x_head - x_tail\ndy = y_head - y_tail"
      ]
    },
    {
      "cell_type": "markdown",
      "metadata": {},
      "source": [
        "Head shape fixed in display space and anchor points fixed in data space\n-----------------------------------------------------------------------\n\nThis is useful if you are annotating a plot, and don't want the arrow to\nto change shape or position if you pan or scale the plot. Note that when\nthe axis limits change\n\nIn this case we use `.patches.FancyArrowPatch`\n\nNote that when the axis limits are changed, the arrow shape stays the same,\nbut the anchor points move.\n\n"
      ]
    },
    {
      "cell_type": "code",
      "execution_count": null,
      "metadata": {
        "collapsed": false
      },
      "outputs": [],
      "source": [
        "fig, axs = plt.subplots(nrows=2)\narrow = mpatches.FancyArrowPatch((x_tail, y_tail), (dx, dy),\n                                 mutation_scale=100)\naxs[0].add_patch(arrow)\n\narrow = mpatches.FancyArrowPatch((x_tail, y_tail), (dx, dy),\n                                 mutation_scale=100)\naxs[1].add_patch(arrow)\naxs[1].set_xlim(0, 2)\naxs[1].set_ylim(0, 2)"
      ]
    },
    {
      "cell_type": "markdown",
      "metadata": {},
      "source": [
        "Head shape and anchor points fixed in display space\n---------------------------------------------------\n\nThis is useful if you are annotating a plot, and don't want the arrow to\nto change shape or position if you pan or scale the plot.\n\nIn this case we use `.patches.FancyArrowPatch`, and pass the keyword argument\n``transform=ax.transAxes`` where ``ax`` is the axes we are adding the patch\nto.\n\nNote that when the axis limits are changed, the arrow shape and location\nstays the same.\n\n"
      ]
    },
    {
      "cell_type": "code",
      "execution_count": null,
      "metadata": {
        "collapsed": false
      },
      "outputs": [],
      "source": [
        "fig, axs = plt.subplots(nrows=2)\narrow = mpatches.FancyArrowPatch((x_tail, y_tail), (dx, dy),\n                                 mutation_scale=100,\n                                 transform=axs[0].transAxes)\naxs[0].add_patch(arrow)\n\narrow = mpatches.FancyArrowPatch((x_tail, y_tail), (dx, dy),\n                                 mutation_scale=100,\n                                 transform=axs[1].transAxes)\naxs[1].add_patch(arrow)\naxs[1].set_xlim(0, 2)\naxs[1].set_ylim(0, 2)"
      ]
    },
    {
      "cell_type": "markdown",
      "metadata": {},
      "source": [
        "Head shape and anchor points fixed in data space\n------------------------------------------------\n\nIn this case we use `.patches.Arrow`\n\nNote that when the axis limits are changed, the arrow shape and location\nchanges.\n\n"
      ]
    },
    {
      "cell_type": "code",
      "execution_count": null,
      "metadata": {
        "collapsed": false
      },
      "outputs": [],
      "source": [
        "fig, axs = plt.subplots(nrows=2)\n\narrow = mpatches.Arrow(x_tail, y_tail, dx, dy)\naxs[0].add_patch(arrow)\n\narrow = mpatches.Arrow(x_tail, y_tail, dx, dy)\naxs[1].add_patch(arrow)\naxs[1].set_xlim(0, 2)\naxs[1].set_ylim(0, 2)"
      ]
    },
    {
      "cell_type": "code",
      "execution_count": null,
      "metadata": {
        "collapsed": false
      },
      "outputs": [],
      "source": [
        "plt.show()"
      ]
    }
  ],
  "metadata": {
    "kernelspec": {
      "display_name": "Python 3",
      "language": "python",
      "name": "python3"
    },
    "language_info": {
      "codemirror_mode": {
        "name": "ipython",
        "version": 3
      },
      "file_extension": ".py",
      "mimetype": "text/x-python",
      "name": "python",
      "nbconvert_exporter": "python",
      "pygments_lexer": "ipython3",
      "version": "3.8.2"
    }
  },
  "nbformat": 4,
  "nbformat_minor": 0
}