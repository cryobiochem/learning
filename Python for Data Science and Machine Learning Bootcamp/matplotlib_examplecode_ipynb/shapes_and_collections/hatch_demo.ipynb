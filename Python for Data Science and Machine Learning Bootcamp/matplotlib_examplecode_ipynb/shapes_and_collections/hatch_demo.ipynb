{
  "cells": [
    {
      "cell_type": "code",
      "execution_count": null,
      "metadata": {
        "collapsed": false
      },
      "outputs": [],
      "source": [
        "%matplotlib inline"
      ]
    },
    {
      "cell_type": "markdown",
      "metadata": {},
      "source": [
        "\n# Hatch Demo\n\n\nHatching (pattern filled polygons) is supported currently in the PS,\nPDF, SVG and Agg backends only.\n"
      ]
    },
    {
      "cell_type": "code",
      "execution_count": null,
      "metadata": {
        "collapsed": false
      },
      "outputs": [],
      "source": [
        "import matplotlib.pyplot as plt\nfrom matplotlib.patches import Ellipse, Polygon\n\nfig, (ax1, ax2, ax3) = plt.subplots(3)\n\nax1.bar(range(1, 5), range(1, 5), color='red', edgecolor='black', hatch=\"/\")\nax1.bar(range(1, 5), [6] * 4, bottom=range(1, 5),\n        color='blue', edgecolor='black', hatch='//')\nax1.set_xticks([1.5, 2.5, 3.5, 4.5])\n\nbars = ax2.bar(range(1, 5), range(1, 5), color='yellow', ecolor='black') + \\\n    ax2.bar(range(1, 5), [6] * 4, bottom=range(1, 5),\n            color='green', ecolor='black')\nax2.set_xticks([1.5, 2.5, 3.5, 4.5])\n\npatterns = ('-', '+', 'x', '\\\\', '*', 'o', 'O', '.')\nfor bar, pattern in zip(bars, patterns):\n    bar.set_hatch(pattern)\n\nax3.fill([1, 3, 3, 1], [1, 1, 2, 2], fill=False, hatch='\\\\')\nax3.add_patch(Ellipse((4, 1.5), 4, 0.5, fill=False, hatch='*'))\nax3.add_patch(Polygon([[0, 0], [4, 1.1], [6, 2.5], [2, 1.4]], closed=True,\n                      fill=False, hatch='/'))\nax3.set_xlim((0, 6))\nax3.set_ylim((0, 2.5))\n\nplt.show()"
      ]
    },
    {
      "cell_type": "markdown",
      "metadata": {},
      "source": [
        "------------\n\nReferences\n\"\"\"\"\"\"\"\"\"\"\n\nThe use of the following functions, methods, classes and modules is shown\nin this example:\n\n"
      ]
    },
    {
      "cell_type": "code",
      "execution_count": null,
      "metadata": {
        "collapsed": false
      },
      "outputs": [],
      "source": [
        "import matplotlib\nmatplotlib.patches\nmatplotlib.patches.Ellipse\nmatplotlib.patches.Polygon\nmatplotlib.axes.Axes.add_patch\nmatplotlib.patches.Patch.set_hatch\nmatplotlib.axes.Axes.bar\nmatplotlib.pyplot.bar"
      ]
    }
  ],
  "metadata": {
    "kernelspec": {
      "display_name": "Python 3",
      "language": "python",
      "name": "python3"
    },
    "language_info": {
      "codemirror_mode": {
        "name": "ipython",
        "version": 3
      },
      "file_extension": ".py",
      "mimetype": "text/x-python",
      "name": "python",
      "nbconvert_exporter": "python",
      "pygments_lexer": "ipython3",
      "version": "3.8.2"
    }
  },
  "nbformat": 4,
  "nbformat_minor": 0
}