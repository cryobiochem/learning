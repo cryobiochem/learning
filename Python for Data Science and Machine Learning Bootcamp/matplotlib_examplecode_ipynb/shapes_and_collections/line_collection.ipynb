{
  "cells": [
    {
      "cell_type": "code",
      "execution_count": null,
      "metadata": {
        "collapsed": false
      },
      "outputs": [],
      "source": [
        "%matplotlib inline"
      ]
    },
    {
      "cell_type": "markdown",
      "metadata": {},
      "source": [
        "\n# Line Collection\n\n\nPlotting lines with Matplotlib.\n\n:class:`~matplotlib.collections.LineCollection` allows one to plot multiple\nlines on a figure. Below we show off some of its properties.\n"
      ]
    },
    {
      "cell_type": "code",
      "execution_count": null,
      "metadata": {
        "collapsed": false
      },
      "outputs": [],
      "source": [
        "import matplotlib.pyplot as plt\nfrom matplotlib.collections import LineCollection\nfrom matplotlib import colors as mcolors\n\nimport numpy as np\n\n# In order to efficiently plot many lines in a single set of axes,\n# Matplotlib has the ability to add the lines all at once. Here is a\n# simple example showing how it is done.\n\nx = np.arange(100)\n# Here are many sets of y to plot vs. x\nys = x[:50, np.newaxis] + x[np.newaxis, :]\n\nsegs = np.zeros((50, 100, 2))\nsegs[:, :, 1] = ys\nsegs[:, :, 0] = x\n\n# Mask some values to test masked array support:\nsegs = np.ma.masked_where((segs > 50) & (segs < 60), segs)\n\n# We need to set the plot limits.\nfig, ax = plt.subplots()\nax.set_xlim(x.min(), x.max())\nax.set_ylim(ys.min(), ys.max())\n\n# colors is sequence of rgba tuples\n# linestyle is a string or dash tuple. Legal string values are\n#          solid|dashed|dashdot|dotted.  The dash tuple is (offset, onoffseq)\n#          where onoffseq is an even length tuple of on and off ink in points.\n#          If linestyle is omitted, 'solid' is used\n# See :class:`matplotlib.collections.LineCollection` for more information\ncolors = [mcolors.to_rgba(c)\n          for c in plt.rcParams['axes.prop_cycle'].by_key()['color']]\n\nline_segments = LineCollection(segs, linewidths=(0.5, 1, 1.5, 2),\n                               colors=colors, linestyle='solid')\nax.add_collection(line_segments)\nax.set_title('Line collection with masked arrays')\nplt.show()"
      ]
    },
    {
      "cell_type": "markdown",
      "metadata": {},
      "source": [
        "In order to efficiently plot many lines in a single set of axes,\nMatplotlib has the ability to add the lines all at once. Here is a\nsimple example showing how it is done.\n\n"
      ]
    },
    {
      "cell_type": "code",
      "execution_count": null,
      "metadata": {
        "collapsed": false
      },
      "outputs": [],
      "source": [
        "N = 50\nx = np.arange(N)\n# Here are many sets of y to plot vs. x\nys = [x + i for i in x]\n\n# We need to set the plot limits, they will not autoscale\nfig, ax = plt.subplots()\nax.set_xlim(np.min(x), np.max(x))\nax.set_ylim(np.min(ys), np.max(ys))\n\n# colors is sequence of rgba tuples\n# linestyle is a string or dash tuple. Legal string values are\n#          solid|dashed|dashdot|dotted.  The dash tuple is (offset, onoffseq)\n#          where onoffseq is an even length tuple of on and off ink in points.\n#          If linestyle is omitted, 'solid' is used\n# See :class:`matplotlib.collections.LineCollection` for more information\n\n# Make a sequence of (x, y) pairs.\nline_segments = LineCollection([np.column_stack([x, y]) for y in ys],\n                               linewidths=(0.5, 1, 1.5, 2),\n                               linestyles='solid')\nline_segments.set_array(x)\nax.add_collection(line_segments)\naxcb = fig.colorbar(line_segments)\naxcb.set_label('Line Number')\nax.set_title('Line Collection with mapped colors')\nplt.sci(line_segments)  # This allows interactive changing of the colormap.\nplt.show()"
      ]
    },
    {
      "cell_type": "markdown",
      "metadata": {},
      "source": [
        "------------\n\nReferences\n\"\"\"\"\"\"\"\"\"\"\n\nThe use of the following functions, methods, classes and modules is shown\nin this example:\n\n"
      ]
    },
    {
      "cell_type": "code",
      "execution_count": null,
      "metadata": {
        "collapsed": false
      },
      "outputs": [],
      "source": [
        "import matplotlib\nmatplotlib.collections\nmatplotlib.collections.LineCollection\nmatplotlib.cm.ScalarMappable.set_array\nmatplotlib.axes.Axes.add_collection\nmatplotlib.figure.Figure.colorbar\nmatplotlib.pyplot.colorbar\nmatplotlib.pyplot.sci"
      ]
    }
  ],
  "metadata": {
    "kernelspec": {
      "display_name": "Python 3",
      "language": "python",
      "name": "python3"
    },
    "language_info": {
      "codemirror_mode": {
        "name": "ipython",
        "version": 3
      },
      "file_extension": ".py",
      "mimetype": "text/x-python",
      "name": "python",
      "nbconvert_exporter": "python",
      "pygments_lexer": "ipython3",
      "version": "3.8.2"
    }
  },
  "nbformat": 4,
  "nbformat_minor": 0
}