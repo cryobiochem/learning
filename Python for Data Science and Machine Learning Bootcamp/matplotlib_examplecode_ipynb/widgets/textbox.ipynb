{
  "cells": [
    {
      "cell_type": "code",
      "execution_count": null,
      "metadata": {
        "collapsed": false
      },
      "outputs": [],
      "source": [
        "%matplotlib inline"
      ]
    },
    {
      "cell_type": "markdown",
      "metadata": {},
      "source": [
        "\n# Textbox\n\n\nAllowing text input with the Textbox widget.\n\nYou can use the Textbox widget to let users provide any text that needs to be\ndisplayed, including formulas. You can use a submit button to create plots\nwith the given input.\n"
      ]
    },
    {
      "cell_type": "code",
      "execution_count": null,
      "metadata": {
        "collapsed": false
      },
      "outputs": [],
      "source": [
        "import numpy as np\nimport matplotlib.pyplot as plt\nfrom matplotlib.widgets import TextBox\nfig, ax = plt.subplots()\nplt.subplots_adjust(bottom=0.2)\nt = np.arange(-2.0, 2.0, 0.001)\ns = t ** 2\ninitial_text = \"t ** 2\"\nl, = plt.plot(t, s, lw=2)\n\n\ndef submit(text):\n    ydata = eval(text)\n    l.set_ydata(ydata)\n    ax.set_ylim(np.min(ydata), np.max(ydata))\n    plt.draw()\n\naxbox = plt.axes([0.1, 0.05, 0.8, 0.075])\ntext_box = TextBox(axbox, 'Evaluate', initial=initial_text)\ntext_box.on_submit(submit)\n\nplt.show()"
      ]
    }
  ],
  "metadata": {
    "kernelspec": {
      "display_name": "Python 3",
      "language": "python",
      "name": "python3"
    },
    "language_info": {
      "codemirror_mode": {
        "name": "ipython",
        "version": 3
      },
      "file_extension": ".py",
      "mimetype": "text/x-python",
      "name": "python",
      "nbconvert_exporter": "python",
      "pygments_lexer": "ipython3",
      "version": "3.8.2"
    }
  },
  "nbformat": 4,
  "nbformat_minor": 0
}