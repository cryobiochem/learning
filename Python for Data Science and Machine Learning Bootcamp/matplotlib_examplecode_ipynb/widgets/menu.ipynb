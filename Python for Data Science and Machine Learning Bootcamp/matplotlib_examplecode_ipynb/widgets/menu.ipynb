{
  "cells": [
    {
      "cell_type": "code",
      "execution_count": null,
      "metadata": {
        "collapsed": false
      },
      "outputs": [],
      "source": [
        "%matplotlib inline"
      ]
    },
    {
      "cell_type": "markdown",
      "metadata": {},
      "source": [
        "\n# Menu\n\n"
      ]
    },
    {
      "cell_type": "code",
      "execution_count": null,
      "metadata": {
        "collapsed": false
      },
      "outputs": [],
      "source": [
        "import numpy as np\nimport matplotlib.colors as colors\nimport matplotlib.patches as patches\nimport matplotlib.mathtext as mathtext\nimport matplotlib.pyplot as plt\nimport matplotlib.artist as artist\nimport matplotlib.image as image\n\n\nclass ItemProperties:\n    def __init__(self, fontsize=14, labelcolor='black', bgcolor='yellow',\n                 alpha=1.0):\n        self.fontsize = fontsize\n        self.labelcolor = labelcolor\n        self.bgcolor = bgcolor\n        self.alpha = alpha\n\n        self.labelcolor_rgb = colors.to_rgba(labelcolor)[:3]\n        self.bgcolor_rgb = colors.to_rgba(bgcolor)[:3]\n\n\nclass MenuItem(artist.Artist):\n    parser = mathtext.MathTextParser(\"Bitmap\")\n    padx = 5\n    pady = 5\n\n    def __init__(self, fig, labelstr, props=None, hoverprops=None,\n                 on_select=None):\n        artist.Artist.__init__(self)\n\n        self.set_figure(fig)\n        self.labelstr = labelstr\n\n        if props is None:\n            props = ItemProperties()\n\n        if hoverprops is None:\n            hoverprops = ItemProperties()\n\n        self.props = props\n        self.hoverprops = hoverprops\n\n        self.on_select = on_select\n\n        x, self.depth = self.parser.to_mask(\n            labelstr, fontsize=props.fontsize, dpi=fig.dpi)\n\n        if props.fontsize != hoverprops.fontsize:\n            raise NotImplementedError(\n                'support for different font sizes not implemented')\n\n        self.labelwidth = x.shape[1]\n        self.labelheight = x.shape[0]\n\n        self.labelArray = np.zeros((x.shape[0], x.shape[1], 4))\n        self.labelArray[:, :, -1] = x/255.\n\n        self.label = image.FigureImage(fig, origin='upper')\n        self.label.set_array(self.labelArray)\n\n        # we'll update these later\n        self.rect = patches.Rectangle((0, 0), 1, 1)\n\n        self.set_hover_props(False)\n\n        fig.canvas.mpl_connect('button_release_event', self.check_select)\n\n    def check_select(self, event):\n        over, junk = self.rect.contains(event)\n        if not over:\n            return\n\n        if self.on_select is not None:\n            self.on_select(self)\n\n    def set_extent(self, x, y, w, h):\n        print(x, y, w, h)\n        self.rect.set_x(x)\n        self.rect.set_y(y)\n        self.rect.set_width(w)\n        self.rect.set_height(h)\n\n        self.label.ox = x + self.padx\n        self.label.oy = y - self.depth + self.pady/2.\n\n        self.hover = False\n\n    def draw(self, renderer):\n        self.rect.draw(renderer)\n        self.label.draw(renderer)\n\n    def set_hover_props(self, b):\n        if b:\n            props = self.hoverprops\n        else:\n            props = self.props\n\n        r, g, b = props.labelcolor_rgb\n        self.labelArray[:, :, 0] = r\n        self.labelArray[:, :, 1] = g\n        self.labelArray[:, :, 2] = b\n        self.label.set_array(self.labelArray)\n        self.rect.set(facecolor=props.bgcolor, alpha=props.alpha)\n\n    def set_hover(self, event):\n        \"\"\"\n        Update the hover status of event and return whether it was changed.\n        \"\"\"\n        b, junk = self.rect.contains(event)\n\n        changed = (b != self.hover)\n\n        if changed:\n            self.set_hover_props(b)\n\n        self.hover = b\n        return changed\n\n\nclass Menu:\n    def __init__(self, fig, menuitems):\n        self.figure = fig\n        fig.suppressComposite = True\n\n        self.menuitems = menuitems\n        self.numitems = len(menuitems)\n\n        maxw = max(item.labelwidth for item in menuitems)\n        maxh = max(item.labelheight for item in menuitems)\n\n        x0 = 100\n        y0 = 400\n\n        width = maxw + 2*MenuItem.padx\n        height = maxh + MenuItem.pady\n\n        for item in menuitems:\n            left = x0\n            bottom = y0 - maxh - MenuItem.pady\n\n            item.set_extent(left, bottom, width, height)\n\n            fig.artists.append(item)\n            y0 -= maxh + MenuItem.pady\n\n        fig.canvas.mpl_connect('motion_notify_event', self.on_move)\n\n    def on_move(self, event):\n        draw = False\n        for item in self.menuitems:\n            draw = item.set_hover(event)\n            if draw:\n                self.figure.canvas.draw()\n                break\n\n\nfig = plt.figure()\nfig.subplots_adjust(left=0.3)\nprops = ItemProperties(labelcolor='black', bgcolor='yellow',\n                       fontsize=15, alpha=0.2)\nhoverprops = ItemProperties(labelcolor='white', bgcolor='blue',\n                            fontsize=15, alpha=0.2)\n\nmenuitems = []\nfor label in ('open', 'close', 'save', 'save as', 'quit'):\n    def on_select(item):\n        print('you selected %s' % item.labelstr)\n    item = MenuItem(fig, label, props=props, hoverprops=hoverprops,\n                    on_select=on_select)\n    menuitems.append(item)\n\nmenu = Menu(fig, menuitems)\nplt.show()"
      ]
    }
  ],
  "metadata": {
    "kernelspec": {
      "display_name": "Python 3",
      "language": "python",
      "name": "python3"
    },
    "language_info": {
      "codemirror_mode": {
        "name": "ipython",
        "version": 3
      },
      "file_extension": ".py",
      "mimetype": "text/x-python",
      "name": "python",
      "nbconvert_exporter": "python",
      "pygments_lexer": "ipython3",
      "version": "3.8.2"
    }
  },
  "nbformat": 4,
  "nbformat_minor": 0
}