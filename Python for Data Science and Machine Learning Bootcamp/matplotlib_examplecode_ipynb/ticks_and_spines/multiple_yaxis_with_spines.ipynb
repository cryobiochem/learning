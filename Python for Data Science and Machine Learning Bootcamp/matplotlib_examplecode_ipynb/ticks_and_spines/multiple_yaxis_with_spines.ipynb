{
  "cells": [
    {
      "cell_type": "code",
      "execution_count": null,
      "metadata": {
        "collapsed": false
      },
      "outputs": [],
      "source": [
        "%matplotlib inline"
      ]
    },
    {
      "cell_type": "markdown",
      "metadata": {},
      "source": [
        "\n# Multiple Yaxis With Spines\n\n\nCreate multiple y axes with a shared x axis. This is done by creating\na `~.axes.Axes.twinx` axes, turning all spines but the right one invisible\nand offset its position using `~.spines.Spine.set_position`.\n\nNote that this approach uses `matplotlib.axes.Axes` and their\n:class:`Spines <matplotlib.spines.Spine>`. An alternative approach for parasite\naxes is shown in the :doc:`/gallery/axisartist/demo_parasite_axes` and\n:doc:`/gallery/axisartist/demo_parasite_axes2` examples.\n"
      ]
    },
    {
      "cell_type": "code",
      "execution_count": null,
      "metadata": {
        "collapsed": false
      },
      "outputs": [],
      "source": [
        "import matplotlib.pyplot as plt\n\n\ndef make_patch_spines_invisible(ax):\n    ax.set_frame_on(True)\n    ax.patch.set_visible(False)\n    for sp in ax.spines.values():\n        sp.set_visible(False)\n\n\nfig, host = plt.subplots()\nfig.subplots_adjust(right=0.75)\n\npar1 = host.twinx()\npar2 = host.twinx()\n\n# Offset the right spine of par2.  The ticks and label have already been\n# placed on the right by twinx above.\npar2.spines[\"right\"].set_position((\"axes\", 1.2))\n# Having been created by twinx, par2 has its frame off, so the line of its\n# detached spine is invisible.  First, activate the frame but make the patch\n# and spines invisible.\nmake_patch_spines_invisible(par2)\n# Second, show the right spine.\npar2.spines[\"right\"].set_visible(True)\n\np1, = host.plot([0, 1, 2], [0, 1, 2], \"b-\", label=\"Density\")\np2, = par1.plot([0, 1, 2], [0, 3, 2], \"r-\", label=\"Temperature\")\np3, = par2.plot([0, 1, 2], [50, 30, 15], \"g-\", label=\"Velocity\")\n\nhost.set_xlim(0, 2)\nhost.set_ylim(0, 2)\npar1.set_ylim(0, 4)\npar2.set_ylim(1, 65)\n\nhost.set_xlabel(\"Distance\")\nhost.set_ylabel(\"Density\")\npar1.set_ylabel(\"Temperature\")\npar2.set_ylabel(\"Velocity\")\n\nhost.yaxis.label.set_color(p1.get_color())\npar1.yaxis.label.set_color(p2.get_color())\npar2.yaxis.label.set_color(p3.get_color())\n\ntkw = dict(size=4, width=1.5)\nhost.tick_params(axis='y', colors=p1.get_color(), **tkw)\npar1.tick_params(axis='y', colors=p2.get_color(), **tkw)\npar2.tick_params(axis='y', colors=p3.get_color(), **tkw)\nhost.tick_params(axis='x', **tkw)\n\nlines = [p1, p2, p3]\n\nhost.legend(lines, [l.get_label() for l in lines])\n\nplt.show()"
      ]
    }
  ],
  "metadata": {
    "kernelspec": {
      "display_name": "Python 3",
      "language": "python",
      "name": "python3"
    },
    "language_info": {
      "codemirror_mode": {
        "name": "ipython",
        "version": 3
      },
      "file_extension": ".py",
      "mimetype": "text/x-python",
      "name": "python",
      "nbconvert_exporter": "python",
      "pygments_lexer": "ipython3",
      "version": "3.8.2"
    }
  },
  "nbformat": 4,
  "nbformat_minor": 0
}