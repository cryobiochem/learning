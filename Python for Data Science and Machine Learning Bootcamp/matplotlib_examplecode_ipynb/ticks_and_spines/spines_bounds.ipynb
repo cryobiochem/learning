{
  "cells": [
    {
      "cell_type": "code",
      "execution_count": null,
      "metadata": {
        "collapsed": false
      },
      "outputs": [],
      "source": [
        "%matplotlib inline"
      ]
    },
    {
      "cell_type": "markdown",
      "metadata": {},
      "source": [
        "\n# Custom spine bounds\n\n\nDemo of spines using custom bounds to limit the extent of the spine.\n"
      ]
    },
    {
      "cell_type": "code",
      "execution_count": null,
      "metadata": {
        "collapsed": false
      },
      "outputs": [],
      "source": [
        "import numpy as np\nimport matplotlib.pyplot as plt\n\n# Fixing random state for reproducibility\nnp.random.seed(19680801)\n\nx = np.linspace(0, 2*np.pi, 50)\ny = np.sin(x)\ny2 = y + 0.1 * np.random.normal(size=x.shape)\n\nfig, ax = plt.subplots()\nax.plot(x, y)\nax.plot(x, y2)\n\n# set ticks and tick labels\nax.set_xlim((0, 2*np.pi))\nax.set_xticks([0, np.pi, 2*np.pi])\nax.set_xticklabels(['0', r'$\\pi$', r'2$\\pi$'])\nax.set_ylim((-1.5, 1.5))\nax.set_yticks([-1, 0, 1])\n\n# Only draw spine between the y-ticks\nax.spines['left'].set_bounds((-1, 1))\n# Hide the right and top spines\nax.spines['right'].set_visible(False)\nax.spines['top'].set_visible(False)\n# Only show ticks on the left and bottom spines\nax.yaxis.set_ticks_position('left')\nax.xaxis.set_ticks_position('bottom')\n\nplt.show()"
      ]
    }
  ],
  "metadata": {
    "kernelspec": {
      "display_name": "Python 3",
      "language": "python",
      "name": "python3"
    },
    "language_info": {
      "codemirror_mode": {
        "name": "ipython",
        "version": 3
      },
      "file_extension": ".py",
      "mimetype": "text/x-python",
      "name": "python",
      "nbconvert_exporter": "python",
      "pygments_lexer": "ipython3",
      "version": "3.8.2"
    }
  },
  "nbformat": 4,
  "nbformat_minor": 0
}