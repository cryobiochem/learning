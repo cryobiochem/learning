{
  "cells": [
    {
      "cell_type": "code",
      "execution_count": null,
      "metadata": {
        "collapsed": false
      },
      "outputs": [],
      "source": [
        "%matplotlib inline"
      ]
    },
    {
      "cell_type": "markdown",
      "metadata": {},
      "source": [
        "\n# Date Index Formatter\n\n\nWhen plotting daily data, a frequent request is to plot the data\nignoring skips, e.g., no extra spaces for weekends.  This is particularly\ncommon in financial time series, when you may have data for M-F and\nnot Sat, Sun and you don't want gaps in the x axis.  The approach is\nto simply use the integer index for the xdata and a custom tick\nFormatter to get the appropriate date string for a given index.\n"
      ]
    },
    {
      "cell_type": "code",
      "execution_count": null,
      "metadata": {
        "collapsed": false
      },
      "outputs": [],
      "source": [
        "import dateutil.parser\nfrom matplotlib import cbook, dates\nimport matplotlib.pyplot as plt\nfrom matplotlib.ticker import Formatter\nimport numpy as np\n\n\ndatafile = cbook.get_sample_data('msft.csv', asfileobj=False)\nprint('loading %s' % datafile)\nmsft_data = np.genfromtxt(\n    datafile, delimiter=',', names=True,\n    converters={0: lambda s: dates.date2num(dateutil.parser.parse(s))})\n\n\nclass MyFormatter(Formatter):\n    def __init__(self, dates, fmt='%Y-%m-%d'):\n        self.dates = dates\n        self.fmt = fmt\n\n    def __call__(self, x, pos=0):\n        'Return the label for time x at position pos'\n        ind = int(round(x))\n        if ind >= len(self.dates) or ind < 0:\n            return ''\n        return dates.num2date(self.dates[ind]).strftime(self.fmt)\n\n\nfig, ax = plt.subplots()\nax.xaxis.set_major_formatter(MyFormatter(msft_data['Date']))\nax.plot(msft_data['Close'], 'o-')\nfig.autofmt_xdate()\nplt.show()"
      ]
    }
  ],
  "metadata": {
    "kernelspec": {
      "display_name": "Python 3",
      "language": "python",
      "name": "python3"
    },
    "language_info": {
      "codemirror_mode": {
        "name": "ipython",
        "version": 3
      },
      "file_extension": ".py",
      "mimetype": "text/x-python",
      "name": "python",
      "nbconvert_exporter": "python",
      "pygments_lexer": "ipython3",
      "version": "3.8.2"
    }
  },
  "nbformat": 4,
  "nbformat_minor": 0
}