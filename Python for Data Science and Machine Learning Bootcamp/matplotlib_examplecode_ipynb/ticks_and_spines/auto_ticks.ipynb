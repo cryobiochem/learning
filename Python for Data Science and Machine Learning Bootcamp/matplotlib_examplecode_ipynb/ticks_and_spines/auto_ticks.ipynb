{
  "cells": [
    {
      "cell_type": "code",
      "execution_count": null,
      "metadata": {
        "collapsed": false
      },
      "outputs": [],
      "source": [
        "%matplotlib inline"
      ]
    },
    {
      "cell_type": "markdown",
      "metadata": {},
      "source": [
        "\n# Automatically setting tick labels\n\n\nSetting the behavior of tick auto-placement.\n\nIf you don't explicitly set tick positions / labels, Matplotlib will attempt\nto choose them both automatically based on the displayed data and its limits.\n\nBy default, this attempts to choose tick positions that are distributed\nalong the axis:\n"
      ]
    },
    {
      "cell_type": "code",
      "execution_count": null,
      "metadata": {
        "collapsed": false
      },
      "outputs": [],
      "source": [
        "import matplotlib.pyplot as plt\nimport numpy as np\nnp.random.seed(19680801)\n\nfig, ax = plt.subplots()\ndots = np.arange(10) / 100. + .03\nx, y = np.meshgrid(dots, dots)\ndata = [x.ravel(), y.ravel()]\nax.scatter(*data, c=data[1])"
      ]
    },
    {
      "cell_type": "markdown",
      "metadata": {},
      "source": [
        "Sometimes choosing evenly-distributed ticks results in strange tick numbers.\nIf you'd like Matplotlib to keep ticks located at round numbers, you can\nchange this behavior with the following rcParams value:\n\n"
      ]
    },
    {
      "cell_type": "code",
      "execution_count": null,
      "metadata": {
        "collapsed": false
      },
      "outputs": [],
      "source": [
        "print(plt.rcParams['axes.autolimit_mode'])\n\n# Now change this value and see the results\nwith plt.rc_context({'axes.autolimit_mode': 'round_numbers'}):\n    fig, ax = plt.subplots()\n    ax.scatter(*data, c=data[1])"
      ]
    },
    {
      "cell_type": "markdown",
      "metadata": {},
      "source": [
        "You can also alter the margins of the axes around the data by\nwith ``axes.(x,y)margin``:\n\n"
      ]
    },
    {
      "cell_type": "code",
      "execution_count": null,
      "metadata": {
        "collapsed": false
      },
      "outputs": [],
      "source": [
        "with plt.rc_context({'axes.autolimit_mode': 'round_numbers',\n                     'axes.xmargin': .8,\n                     'axes.ymargin': .8}):\n    fig, ax = plt.subplots()\n    ax.scatter(*data, c=data[1])\n\nplt.show()"
      ]
    }
  ],
  "metadata": {
    "kernelspec": {
      "display_name": "Python 3",
      "language": "python",
      "name": "python3"
    },
    "language_info": {
      "codemirror_mode": {
        "name": "ipython",
        "version": 3
      },
      "file_extension": ".py",
      "mimetype": "text/x-python",
      "name": "python",
      "nbconvert_exporter": "python",
      "pygments_lexer": "ipython3",
      "version": "3.8.2"
    }
  },
  "nbformat": 4,
  "nbformat_minor": 0
}