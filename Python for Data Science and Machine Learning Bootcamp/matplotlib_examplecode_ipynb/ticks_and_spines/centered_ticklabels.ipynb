{
  "cells": [
    {
      "cell_type": "code",
      "execution_count": null,
      "metadata": {
        "collapsed": false
      },
      "outputs": [],
      "source": [
        "%matplotlib inline"
      ]
    },
    {
      "cell_type": "markdown",
      "metadata": {},
      "source": [
        "\n# Centering labels between ticks\n\n\nTicklabels are aligned relative to their associated tick. The alignment\n'center', 'left', or 'right' can be controlled using the horizontal alignment\nproperty::\n\n    for label in ax.xaxis.get_xticklabels():\n        label.set_horizontalalignment('right')\n\nHowever there is no direct way to center the labels between ticks. To fake\nthis behavior, one can place a label on the minor ticks in between the major\nticks, and hide the major tick labels and minor ticks.\n\nHere is an example that labels the months, centered between the ticks.\n"
      ]
    },
    {
      "cell_type": "code",
      "execution_count": null,
      "metadata": {
        "collapsed": false
      },
      "outputs": [],
      "source": [
        "import numpy as np\nimport matplotlib.cbook as cbook\nimport matplotlib.dates as dates\nimport matplotlib.ticker as ticker\nimport matplotlib.pyplot as plt\n\n# load some financial data; apple's stock price\nwith cbook.get_sample_data('aapl.npz') as fh:\n    r = np.load(fh)['price_data'].view(np.recarray)\nr = r[-250:]  # get the last 250 days\n# Matplotlib works better with datetime.datetime than np.datetime64, but the\n# latter is more portable.\ndate = r.date.astype('O')\n\nfig, ax = plt.subplots()\nax.plot(date, r.adj_close)\n\nax.xaxis.set_major_locator(dates.MonthLocator())\n# 16 is a slight approximation since months differ in number of days.\nax.xaxis.set_minor_locator(dates.MonthLocator(bymonthday=16))\n\nax.xaxis.set_major_formatter(ticker.NullFormatter())\nax.xaxis.set_minor_formatter(dates.DateFormatter('%b'))\n\nfor tick in ax.xaxis.get_minor_ticks():\n    tick.tick1line.set_markersize(0)\n    tick.tick2line.set_markersize(0)\n    tick.label1.set_horizontalalignment('center')\n\nimid = len(r) // 2\nax.set_xlabel(str(date[imid].year))\nplt.show()"
      ]
    }
  ],
  "metadata": {
    "kernelspec": {
      "display_name": "Python 3",
      "language": "python",
      "name": "python3"
    },
    "language_info": {
      "codemirror_mode": {
        "name": "ipython",
        "version": 3
      },
      "file_extension": ".py",
      "mimetype": "text/x-python",
      "name": "python",
      "nbconvert_exporter": "python",
      "pygments_lexer": "ipython3",
      "version": "3.8.2"
    }
  },
  "nbformat": 4,
  "nbformat_minor": 0
}