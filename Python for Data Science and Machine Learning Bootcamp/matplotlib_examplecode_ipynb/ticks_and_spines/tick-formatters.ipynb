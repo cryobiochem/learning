{
  "cells": [
    {
      "cell_type": "code",
      "execution_count": null,
      "metadata": {
        "collapsed": false
      },
      "outputs": [],
      "source": [
        "%matplotlib inline"
      ]
    },
    {
      "cell_type": "markdown",
      "metadata": {},
      "source": [
        "\n# Tick formatters\n\n\nTick formatters define how the numeric value associated with a tick on an axis\nis formatted as a string.\n\nThis example illustrates the usage and effect of the most common formatters.\n"
      ]
    },
    {
      "cell_type": "code",
      "execution_count": null,
      "metadata": {
        "collapsed": false
      },
      "outputs": [],
      "source": [
        "import matplotlib.pyplot as plt\nimport matplotlib.ticker as ticker\n\n\ndef setup(ax, title):\n    \"\"\"Set up common parameters for the Axes in the example.\"\"\"\n    # only show the bottom spine\n    ax.yaxis.set_major_locator(ticker.NullLocator())\n    ax.spines['right'].set_color('none')\n    ax.spines['left'].set_color('none')\n    ax.spines['top'].set_color('none')\n\n    # define tick positions\n    ax.xaxis.set_major_locator(ticker.MultipleLocator(1.00))\n    ax.xaxis.set_minor_locator(ticker.MultipleLocator(0.25))\n\n    ax.xaxis.set_ticks_position('bottom')\n    ax.tick_params(which='major', width=1.00, length=5)\n    ax.tick_params(which='minor', width=0.75, length=2.5, labelsize=10)\n    ax.set_xlim(0, 5)\n    ax.set_ylim(0, 1)\n    ax.text(0.0, 0.2, title, transform=ax.transAxes,\n            fontsize=14, fontname='Monospace', color='tab:blue')\n\n\nfig, axs = plt.subplots(7, 1, figsize=(8, 6))\n\n# Null formatter\nsetup(axs[0], title=\"NullFormatter()\")\naxs[0].xaxis.set_major_formatter(ticker.NullFormatter())\n\n# Fixed formatter\nsetup(axs[1], title=\"FixedFormatter(['A', 'B', 'C', ...])\")\n# FixedFormatter should only be used together with FixedLocator.\n# Otherwise, one cannot be sure where the labels will end up.\npositions = [0, 1, 2, 3, 4, 5]\nlabels = ['A', 'B', 'C', 'D', 'E', 'F']\naxs[1].xaxis.set_major_locator(ticker.FixedLocator(positions))\naxs[1].xaxis.set_major_formatter(ticker.FixedFormatter(labels))\n\n\n# FuncFormatter can be used as a decorator\n@ticker.FuncFormatter\ndef major_formatter(x, pos):\n    return \"[%.2f]\" % x\n\n\nsetup(axs[2], title='FuncFormatter(lambda x, pos: \"[%.2f]\" % x)')\naxs[2].xaxis.set_major_formatter(major_formatter)\n\n# FormatStr formatter\nsetup(axs[3], title=\"FormatStrFormatter('#%d')\")\naxs[3].xaxis.set_major_formatter(ticker.FormatStrFormatter(\"#%d\"))\n\n# Scalar formatter\nsetup(axs[4], title=\"ScalarFormatter()\")\naxs[4].xaxis.set_major_formatter(ticker.ScalarFormatter(useMathText=True))\n\n# StrMethod formatter\nsetup(axs[5], title=\"StrMethodFormatter('{x:.3f}')\")\naxs[5].xaxis.set_major_formatter(ticker.StrMethodFormatter(\"{x:.3f}\"))\n\n# Percent formatter\nsetup(axs[6], title=\"PercentFormatter(xmax=5)\")\naxs[6].xaxis.set_major_formatter(ticker.PercentFormatter(xmax=5))\n\nplt.tight_layout()\nplt.show()"
      ]
    }
  ],
  "metadata": {
    "kernelspec": {
      "display_name": "Python 3",
      "language": "python",
      "name": "python3"
    },
    "language_info": {
      "codemirror_mode": {
        "name": "ipython",
        "version": 3
      },
      "file_extension": ".py",
      "mimetype": "text/x-python",
      "name": "python",
      "nbconvert_exporter": "python",
      "pygments_lexer": "ipython3",
      "version": "3.8.2"
    }
  },
  "nbformat": 4,
  "nbformat_minor": 0
}