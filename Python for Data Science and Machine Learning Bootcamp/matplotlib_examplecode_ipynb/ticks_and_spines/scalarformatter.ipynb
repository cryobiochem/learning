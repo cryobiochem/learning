{
  "cells": [
    {
      "cell_type": "code",
      "execution_count": null,
      "metadata": {
        "collapsed": false
      },
      "outputs": [],
      "source": [
        "%matplotlib inline"
      ]
    },
    {
      "cell_type": "markdown",
      "metadata": {},
      "source": [
        "\n# The default tick formatter\n\n\nThe example shows use of the default `.ScalarFormatter` with different\nsettings.\n\nExample 1 : Default\n\nExample 2 : With no Numerical Offset\n\nExample 3 : With Mathtext\n"
      ]
    },
    {
      "cell_type": "code",
      "execution_count": null,
      "metadata": {
        "collapsed": false
      },
      "outputs": [],
      "source": [
        "import matplotlib.pyplot as plt\nimport numpy as np"
      ]
    },
    {
      "cell_type": "markdown",
      "metadata": {},
      "source": [
        "Example 1\n\n"
      ]
    },
    {
      "cell_type": "code",
      "execution_count": null,
      "metadata": {
        "collapsed": false
      },
      "outputs": [],
      "source": [
        "x = np.arange(0, 1, .01)\nfig, [[ax1, ax2], [ax3, ax4]] = plt.subplots(2, 2, figsize=(6, 6))\nfig.text(0.5, 0.975, 'Default settings',\n         horizontalalignment='center',\n         verticalalignment='top')\n\nax1.plot(x * 1e5 + 1e10, x * 1e-10 + 1e-5)\n\nax2.plot(x * 1e5, x * 1e-4)\n\nax3.plot(-x * 1e5 - 1e10, -x * 1e-5 - 1e-10)\n\nax4.plot(-x * 1e5, -x * 1e-4)\n\nfig.subplots_adjust(wspace=0.7, hspace=0.6)"
      ]
    },
    {
      "cell_type": "markdown",
      "metadata": {},
      "source": [
        "Example 2\n\n"
      ]
    },
    {
      "cell_type": "code",
      "execution_count": null,
      "metadata": {
        "collapsed": false
      },
      "outputs": [],
      "source": [
        "x = np.arange(0, 1, .01)\nfig, [[ax1, ax2], [ax3, ax4]] = plt.subplots(2, 2, figsize=(6, 6))\nfig.text(0.5, 0.975, 'No numerical offset',\n         horizontalalignment='center',\n         verticalalignment='top')\n\nax1.plot(x * 1e5 + 1e10, x * 1e-10 + 1e-5)\nax1.ticklabel_format(useOffset=False)\n\nax2.plot(x * 1e5, x * 1e-4)\nax2.ticklabel_format(useOffset=False)\n\nax3.plot(-x * 1e5 - 1e10, -x * 1e-5 - 1e-10)\nax3.ticklabel_format(useOffset=False)\n\nax4.plot(-x * 1e5, -x * 1e-4)\nax4.ticklabel_format(useOffset=False)\n\nfig.subplots_adjust(wspace=0.7, hspace=0.6)"
      ]
    },
    {
      "cell_type": "markdown",
      "metadata": {},
      "source": [
        "Example 3\n\n"
      ]
    },
    {
      "cell_type": "code",
      "execution_count": null,
      "metadata": {
        "collapsed": false
      },
      "outputs": [],
      "source": [
        "x = np.arange(0, 1, .01)\nfig, [[ax1, ax2], [ax3, ax4]] = plt.subplots(2, 2, figsize=(6, 6))\nfig.text(0.5, 0.975, 'With mathtext',\n         horizontalalignment='center',\n         verticalalignment='top')\n\nax1.plot(x * 1e5 + 1e10, x * 1e-10 + 1e-5)\nax1.ticklabel_format(useMathText=True)\n\nax2.plot(x * 1e5, x * 1e-4)\nax2.ticklabel_format(useMathText=True)\n\nax3.plot(-x * 1e5 - 1e10, -x * 1e-5 - 1e-10)\nax3.ticklabel_format(useMathText=True)\n\nax4.plot(-x * 1e5, -x * 1e-4)\nax4.ticklabel_format(useMathText=True)\n\nfig.subplots_adjust(wspace=0.7, hspace=0.6)\n\nplt.show()"
      ]
    }
  ],
  "metadata": {
    "kernelspec": {
      "display_name": "Python 3",
      "language": "python",
      "name": "python3"
    },
    "language_info": {
      "codemirror_mode": {
        "name": "ipython",
        "version": 3
      },
      "file_extension": ".py",
      "mimetype": "text/x-python",
      "name": "python",
      "nbconvert_exporter": "python",
      "pygments_lexer": "ipython3",
      "version": "3.8.2"
    }
  },
  "nbformat": 4,
  "nbformat_minor": 0
}