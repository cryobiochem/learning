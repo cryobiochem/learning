{
  "cells": [
    {
      "cell_type": "code",
      "execution_count": null,
      "metadata": {
        "collapsed": false
      },
      "outputs": [],
      "source": [
        "%matplotlib inline"
      ]
    },
    {
      "cell_type": "markdown",
      "metadata": {},
      "source": [
        "\n# Custom Ticker1\n\n\nThe new ticker code was designed to explicitly support user customized\nticking. The documentation of :mod:`matplotlib.ticker` details this\nprocess.  That code defines a lot of preset tickers but was primarily\ndesigned to be user extensible.\n\nIn this example a user defined function is used to format the ticks in\nmillions of dollars on the y axis.\n"
      ]
    },
    {
      "cell_type": "code",
      "execution_count": null,
      "metadata": {
        "collapsed": false
      },
      "outputs": [],
      "source": [
        "from matplotlib.ticker import FuncFormatter\nimport matplotlib.pyplot as plt\nimport numpy as np\n\nx = np.arange(4)\nmoney = [1.5e5, 2.5e6, 5.5e6, 2.0e7]\n\n\ndef millions(x, pos):\n    'The two args are the value and tick position'\n    return '$%1.1fM' % (x * 1e-6)\n\n\nformatter = FuncFormatter(millions)\n\nfig, ax = plt.subplots()\nax.yaxis.set_major_formatter(formatter)\nplt.bar(x, money)\nplt.xticks(x, ('Bill', 'Fred', 'Mary', 'Sue'))\nplt.show()"
      ]
    }
  ],
  "metadata": {
    "kernelspec": {
      "display_name": "Python 3",
      "language": "python",
      "name": "python3"
    },
    "language_info": {
      "codemirror_mode": {
        "name": "ipython",
        "version": 3
      },
      "file_extension": ".py",
      "mimetype": "text/x-python",
      "name": "python",
      "nbconvert_exporter": "python",
      "pygments_lexer": "ipython3",
      "version": "3.8.2"
    }
  },
  "nbformat": 4,
  "nbformat_minor": 0
}