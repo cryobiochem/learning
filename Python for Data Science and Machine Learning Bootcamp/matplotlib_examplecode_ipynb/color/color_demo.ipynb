{
  "cells": [
    {
      "cell_type": "code",
      "execution_count": null,
      "metadata": {
        "collapsed": false
      },
      "outputs": [],
      "source": [
        "%matplotlib inline"
      ]
    },
    {
      "cell_type": "markdown",
      "metadata": {},
      "source": [
        "\n# Color Demo\n\n\nMatplotlib recognizes the following formats to specify a color:\n\n1) an RGB or RGBA tuple of float values in ``[0, 1]`` (e.g. ``(0.1, 0.2, 0.5)``\n   or  ``(0.1, 0.2, 0.5, 0.3)``).  RGBA is short for Red, Green, Blue, Alpha;\n2) a hex RGB or RGBA string (e.g., ``'#0F0F0F'`` or ``'#0F0F0F0F'``);\n3) a string representation of a float value in ``[0, 1]`` inclusive for gray\n   level (e.g., ``'0.5'``);\n4) a single letter string, i.e. one of\n   ``{'b', 'g', 'r', 'c', 'm', 'y', 'k', 'w'}``;\n5) a X11/CSS4 (\"html\") color name, e.g. ``\"blue\"``;\n6) a name from the `xkcd color survey <https://xkcd.com/color/rgb/>`__,\n   prefixed with ``'xkcd:'`` (e.g., ``'xkcd:sky blue'``);\n7) a \"Cn\" color spec, i.e. ``'C'`` followed by a number, which is an index into\n   the default property cycle (``matplotlib.rcParams['axes.prop_cycle']``); the\n   indexing is intended to occur at rendering time, and defaults to black if\n   the cycle does not include color.\n8) one of ``{'tab:blue', 'tab:orange', 'tab:green',\n   'tab:red', 'tab:purple', 'tab:brown', 'tab:pink',\n   'tab:gray', 'tab:olive', 'tab:cyan'}`` which are the Tableau Colors from the\n   'tab10' categorical palette (which is the default color cycle);\n\nFor more information on colors in matplotlib see\n\n* the :doc:`/tutorials/colors/colors` tutorial;\n* the `matplotlib.colors` API;\n* the :doc:`/gallery/color/named_colors` example.\n"
      ]
    },
    {
      "cell_type": "code",
      "execution_count": null,
      "metadata": {
        "collapsed": false
      },
      "outputs": [],
      "source": [
        "import matplotlib.pyplot as plt\nimport numpy as np\n\nt = np.linspace(0.0, 2.0, 201)\ns = np.sin(2 * np.pi * t)\n\n# 1) RGB tuple:\nfig, ax = plt.subplots(facecolor=(.18, .31, .31))\n# 2) hex string:\nax.set_facecolor('#eafff5')\n# 3) gray level string:\nax.set_title('Voltage vs. time chart', color='0.7')\n# 4) single letter color string\nax.set_xlabel('time (s)', color='c')\n# 5) a named color:\nax.set_ylabel('voltage (mV)', color='peachpuff')\n# 6) a named xkcd color:\nax.plot(t, s, 'xkcd:crimson')\n# 7) Cn notation:\nax.plot(t, .7*s, color='C4', linestyle='--')\n# 8) tab notation:\nax.tick_params(labelcolor='tab:orange')\n\n\nplt.show()"
      ]
    },
    {
      "cell_type": "markdown",
      "metadata": {},
      "source": [
        "------------\n\nReferences\n\"\"\"\"\"\"\"\"\"\"\n\nThe use of the following functions, methods, classes and modules is shown\nin this example:\n\n"
      ]
    },
    {
      "cell_type": "code",
      "execution_count": null,
      "metadata": {
        "collapsed": false
      },
      "outputs": [],
      "source": [
        "import matplotlib\nmatplotlib.colors\nmatplotlib.axes.Axes.plot\nmatplotlib.axes.Axes.set_facecolor\nmatplotlib.axes.Axes.set_title\nmatplotlib.axes.Axes.set_xlabel\nmatplotlib.axes.Axes.set_ylabel\nmatplotlib.axes.Axes.tick_params"
      ]
    }
  ],
  "metadata": {
    "kernelspec": {
      "display_name": "Python 3",
      "language": "python",
      "name": "python3"
    },
    "language_info": {
      "codemirror_mode": {
        "name": "ipython",
        "version": 3
      },
      "file_extension": ".py",
      "mimetype": "text/x-python",
      "name": "python",
      "nbconvert_exporter": "python",
      "pygments_lexer": "ipython3",
      "version": "3.8.2"
    }
  },
  "nbformat": 4,
  "nbformat_minor": 0
}