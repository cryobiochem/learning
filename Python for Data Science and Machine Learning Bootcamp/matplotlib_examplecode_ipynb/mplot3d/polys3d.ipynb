{
  "cells": [
    {
      "cell_type": "code",
      "execution_count": null,
      "metadata": {
        "collapsed": false
      },
      "outputs": [],
      "source": [
        "%matplotlib inline"
      ]
    },
    {
      "cell_type": "markdown",
      "metadata": {},
      "source": [
        "\n# Generate polygons to fill under 3D line graph\n\n\nDemonstrate how to create polygons which fill the space under a line\ngraph. In this example polygons are semi-transparent, creating a sort\nof 'jagged stained glass' effect.\n"
      ]
    },
    {
      "cell_type": "code",
      "execution_count": null,
      "metadata": {
        "collapsed": false
      },
      "outputs": [],
      "source": [
        "from matplotlib.collections import PolyCollection\nimport matplotlib.pyplot as plt\nfrom matplotlib import colors as mcolors\nimport numpy as np\n\n# Fixing random state for reproducibility\nnp.random.seed(19680801)\n\n\ndef polygon_under_graph(xlist, ylist):\n    \"\"\"\n    Construct the vertex list which defines the polygon filling the space under\n    the (xlist, ylist) line graph.  Assumes the xs are in ascending order.\n    \"\"\"\n    return [(xlist[0], 0.), *zip(xlist, ylist), (xlist[-1], 0.)]\n\n\nfig = plt.figure()\nax = fig.gca(projection='3d')\n\n# Make verts a list such that verts[i] is a list of (x, y) pairs defining\n# polygon i.\nverts = []\n\n# Set up the x sequence\nxs = np.linspace(0., 10., 26)\n\n# The ith polygon will appear on the plane y = zs[i]\nzs = range(4)\n\nfor i in zs:\n    ys = np.random.rand(len(xs))\n    verts.append(polygon_under_graph(xs, ys))\n\npoly = PolyCollection(verts, facecolors=['r', 'g', 'b', 'y'], alpha=.6)\nax.add_collection3d(poly, zs=zs, zdir='y')\n\nax.set_xlabel('X')\nax.set_ylabel('Y')\nax.set_zlabel('Z')\nax.set_xlim(0, 10)\nax.set_ylim(-1, 4)\nax.set_zlim(0, 1)\n\nplt.show()"
      ]
    }
  ],
  "metadata": {
    "kernelspec": {
      "display_name": "Python 3",
      "language": "python",
      "name": "python3"
    },
    "language_info": {
      "codemirror_mode": {
        "name": "ipython",
        "version": 3
      },
      "file_extension": ".py",
      "mimetype": "text/x-python",
      "name": "python",
      "nbconvert_exporter": "python",
      "pygments_lexer": "ipython3",
      "version": "3.8.2"
    }
  },
  "nbformat": 4,
  "nbformat_minor": 0
}