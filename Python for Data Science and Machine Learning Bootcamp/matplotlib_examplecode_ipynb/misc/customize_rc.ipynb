{
  "cells": [
    {
      "cell_type": "code",
      "execution_count": null,
      "metadata": {
        "collapsed": false
      },
      "outputs": [],
      "source": [
        "%matplotlib inline"
      ]
    },
    {
      "cell_type": "markdown",
      "metadata": {},
      "source": [
        "\n# Customize Rc\n\n\nI'm not trying to make a good looking figure here, but just to show\nsome examples of customizing rc params on the fly\n\nIf you like to work interactively, and need to create different sets\nof defaults for figures (e.g., one set of defaults for publication, one\nset for interactive exploration), you may want to define some\nfunctions in a custom module that set the defaults, e.g.,::\n\n    def set_pub():\n        rc('font', weight='bold')    # bold fonts are easier to see\n        rc('tick', labelsize=15)     # tick labels bigger\n        rc('lines', lw=1, color='k') # thicker black lines\n        rc('grid', c='0.5', ls='-', lw=0.5)  # solid gray grid lines\n        rc('savefig', dpi=300)       # higher res outputs\n\nThen as you are working interactively, you just need to do::\n\n    >>> set_pub()\n    >>> subplot(111)\n    >>> plot([1, 2, 3])\n    >>> savefig('myfig')\n    >>> rcdefaults()  # restore the defaults\n"
      ]
    },
    {
      "cell_type": "code",
      "execution_count": null,
      "metadata": {
        "collapsed": false
      },
      "outputs": [],
      "source": [
        "import matplotlib.pyplot as plt\n\nplt.subplot(311)\nplt.plot([1, 2, 3])\n\n# the axes attributes need to be set before the call to subplot\nplt.rc('font', weight='bold')\nplt.rc('xtick.major', size=5, pad=7)\nplt.rc('xtick', labelsize=15)\n\n# using aliases for color, linestyle and linewidth; gray, solid, thick\nplt.rc('grid', c='0.5', ls='-', lw=5)\nplt.rc('lines', lw=2, color='g')\nplt.subplot(312)\n\nplt.plot([1, 2, 3])\nplt.grid(True)\n\nplt.rcdefaults()\nplt.subplot(313)\nplt.plot([1, 2, 3])\nplt.grid(True)\nplt.show()"
      ]
    }
  ],
  "metadata": {
    "kernelspec": {
      "display_name": "Python 3",
      "language": "python",
      "name": "python3"
    },
    "language_info": {
      "codemirror_mode": {
        "name": "ipython",
        "version": 3
      },
      "file_extension": ".py",
      "mimetype": "text/x-python",
      "name": "python",
      "nbconvert_exporter": "python",
      "pygments_lexer": "ipython3",
      "version": "3.8.2"
    }
  },
  "nbformat": 4,
  "nbformat_minor": 0
}