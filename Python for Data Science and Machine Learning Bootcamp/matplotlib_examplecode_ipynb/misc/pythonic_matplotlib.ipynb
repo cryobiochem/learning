{
  "cells": [
    {
      "cell_type": "code",
      "execution_count": null,
      "metadata": {
        "collapsed": false
      },
      "outputs": [],
      "source": [
        "%matplotlib inline"
      ]
    },
    {
      "cell_type": "markdown",
      "metadata": {},
      "source": [
        "\n# Pythonic Matplotlib\n\n\nSome people prefer to write more pythonic, object-oriented code\nrather than use the pyplot interface to matplotlib.  This example shows\nyou how.\n\nUnless you are an application developer, I recommend using part of the\npyplot interface, particularly the figure, close, subplot, axes, and\nshow commands.  These hide a lot of complexity from you that you don't\nneed to see in normal figure creation, like instantiating DPI\ninstances, managing the bounding boxes of the figure elements,\ncreating and realizing GUI windows and embedding figures in them.\n\nIf you are an application developer and want to embed matplotlib in\nyour application, follow the lead of examples/embedding_in_wx.py,\nexamples/embedding_in_gtk.py or examples/embedding_in_tk.py.  In this\ncase you will want to control the creation of all your figures,\nembedding them in application windows, etc.\n\nIf you are a web application developer, you may want to use the\nexample in webapp_demo.py, which shows how to use the backend agg\nfigure canvas directly, with none of the globals (current figure,\ncurrent axes) that are present in the pyplot interface.  Note that\nthere is no reason why the pyplot interface won't work for web\napplication developers, however.\n\nIf you see an example in the examples dir written in pyplot interface,\nand you want to emulate that using the true python method calls, there\nis an easy mapping.  Many of those examples use 'set' to control\nfigure properties.  Here's how to map those commands onto instance\nmethods\n\nThe syntax of set is::\n\n    plt.setp(object or sequence, somestring, attribute)\n\nif called with an object, set calls::\n\n    object.set_somestring(attribute)\n\nif called with a sequence, set does::\n\n    for object in sequence:\n       object.set_somestring(attribute)\n\nSo for your example, if a is your axes object, you can do::\n\n    a.set_xticklabels([])\n    a.set_yticklabels([])\n    a.set_xticks([])\n    a.set_yticks([])\n"
      ]
    },
    {
      "cell_type": "code",
      "execution_count": null,
      "metadata": {
        "collapsed": false
      },
      "outputs": [],
      "source": [
        "import matplotlib.pyplot as plt\nimport numpy as np\n\nt = np.arange(0.0, 1.0, 0.01)\n\nfig, (ax1, ax2) = plt.subplots(2)\n\nax1.plot(t, np.sin(2*np.pi * t))\nax1.grid(True)\nax1.set_ylim((-2, 2))\nax1.set_ylabel('1 Hz')\nax1.set_title('A sine wave or two')\n\nax1.xaxis.set_tick_params(labelcolor='r')\n\nax2.plot(t, np.sin(2 * 2*np.pi * t))\nax2.grid(True)\nax2.set_ylim((-2, 2))\nl = ax2.set_xlabel('Hi mom')\nl.set_color('g')\nl.set_fontsize('large')\n\nplt.show()"
      ]
    }
  ],
  "metadata": {
    "kernelspec": {
      "display_name": "Python 3",
      "language": "python",
      "name": "python3"
    },
    "language_info": {
      "codemirror_mode": {
        "name": "ipython",
        "version": 3
      },
      "file_extension": ".py",
      "mimetype": "text/x-python",
      "name": "python",
      "nbconvert_exporter": "python",
      "pygments_lexer": "ipython3",
      "version": "3.8.2"
    }
  },
  "nbformat": 4,
  "nbformat_minor": 0
}