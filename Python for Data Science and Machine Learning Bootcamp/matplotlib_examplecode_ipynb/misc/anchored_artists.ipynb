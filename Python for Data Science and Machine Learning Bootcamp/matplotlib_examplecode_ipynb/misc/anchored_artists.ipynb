{
  "cells": [
    {
      "cell_type": "code",
      "execution_count": null,
      "metadata": {
        "collapsed": false
      },
      "outputs": [],
      "source": [
        "%matplotlib inline"
      ]
    },
    {
      "cell_type": "markdown",
      "metadata": {},
      "source": [
        "\n# Anchored Artists\n\n\nThis example illustrates the use of the anchored objects without the\nhelper classes found in :mod:`mpl_toolkits.axes_grid1`. This version\nof the figure is similar to the one found in\n:doc:`/gallery/axes_grid1/simple_anchored_artists`, but it is\nimplemented using only the matplotlib namespace, without the help\nof additional toolkits.\n"
      ]
    },
    {
      "cell_type": "code",
      "execution_count": null,
      "metadata": {
        "collapsed": false
      },
      "outputs": [],
      "source": [
        "from matplotlib import pyplot as plt\nfrom matplotlib.patches import Rectangle, Ellipse\nfrom matplotlib.offsetbox import (\n    AnchoredOffsetbox, AuxTransformBox, DrawingArea, TextArea, VPacker)\n\n\nclass AnchoredText(AnchoredOffsetbox):\n    def __init__(self, s, loc, pad=0.4, borderpad=0.5,\n                 prop=None, frameon=True):\n        self.txt = TextArea(s, minimumdescent=False)\n        super().__init__(loc, pad=pad, borderpad=borderpad,\n                         child=self.txt, prop=prop, frameon=frameon)\n\n\ndef draw_text(ax):\n    \"\"\"\n    Draw a text-box anchored to the upper-left corner of the figure.\n    \"\"\"\n    at = AnchoredText(\"Figure 1a\", loc='upper left', frameon=True)\n    at.patch.set_boxstyle(\"round,pad=0.,rounding_size=0.2\")\n    ax.add_artist(at)\n\n\nclass AnchoredDrawingArea(AnchoredOffsetbox):\n    def __init__(self, width, height, xdescent, ydescent,\n                 loc, pad=0.4, borderpad=0.5, prop=None, frameon=True):\n        self.da = DrawingArea(width, height, xdescent, ydescent)\n        super().__init__(loc, pad=pad, borderpad=borderpad,\n                         child=self.da, prop=None, frameon=frameon)\n\n\ndef draw_circle(ax):\n    \"\"\"\n    Draw a circle in axis coordinates\n    \"\"\"\n    from matplotlib.patches import Circle\n    ada = AnchoredDrawingArea(20, 20, 0, 0,\n                              loc='upper right', pad=0., frameon=False)\n    p = Circle((10, 10), 10)\n    ada.da.add_artist(p)\n    ax.add_artist(ada)\n\n\nclass AnchoredEllipse(AnchoredOffsetbox):\n    def __init__(self, transform, width, height, angle, loc,\n                 pad=0.1, borderpad=0.1, prop=None, frameon=True):\n        \"\"\"\n        Draw an ellipse the size in data coordinate of the give axes.\n\n        pad, borderpad in fraction of the legend font size (or prop)\n        \"\"\"\n        self._box = AuxTransformBox(transform)\n        self.ellipse = Ellipse((0, 0), width, height, angle)\n        self._box.add_artist(self.ellipse)\n        super().__init__(loc, pad=pad, borderpad=borderpad,\n                         child=self._box, prop=prop, frameon=frameon)\n\n\ndef draw_ellipse(ax):\n    \"\"\"\n    Draw an ellipse of width=0.1, height=0.15 in data coordinates\n    \"\"\"\n    ae = AnchoredEllipse(ax.transData, width=0.1, height=0.15, angle=0.,\n                         loc='lower left', pad=0.5, borderpad=0.4,\n                         frameon=True)\n\n    ax.add_artist(ae)\n\n\nclass AnchoredSizeBar(AnchoredOffsetbox):\n    def __init__(self, transform, size, label, loc,\n                 pad=0.1, borderpad=0.1, sep=2, prop=None, frameon=True):\n        \"\"\"\n        Draw a horizontal bar with the size in data coordinate of the given\n        axes. A label will be drawn underneath (center-aligned).\n\n        pad, borderpad in fraction of the legend font size (or prop)\n        sep in points.\n        \"\"\"\n        self.size_bar = AuxTransformBox(transform)\n        self.size_bar.add_artist(Rectangle((0, 0), size, 0, ec=\"black\", lw=1.0))\n\n        self.txt_label = TextArea(label, minimumdescent=False)\n\n        self._box = VPacker(children=[self.size_bar, self.txt_label],\n                            align=\"center\",\n                            pad=0, sep=sep)\n\n        super().__init__(loc, pad=pad, borderpad=borderpad,\n                         child=self._box, prop=prop, frameon=frameon)\n\n\ndef draw_sizebar(ax):\n    \"\"\"\n    Draw a horizontal bar with length of 0.1 in data coordinates,\n    with a fixed label underneath.\n    \"\"\"\n    asb = AnchoredSizeBar(ax.transData,\n                          0.1,\n                          r\"1$^{\\prime}$\",\n                          loc='lower center',\n                          pad=0.1, borderpad=0.5, sep=5,\n                          frameon=False)\n    ax.add_artist(asb)\n\n\nax = plt.gca()\nax.set_aspect(1.)\n\ndraw_text(ax)\ndraw_circle(ax)\ndraw_ellipse(ax)\ndraw_sizebar(ax)\n\nplt.show()"
      ]
    }
  ],
  "metadata": {
    "kernelspec": {
      "display_name": "Python 3",
      "language": "python",
      "name": "python3"
    },
    "language_info": {
      "codemirror_mode": {
        "name": "ipython",
        "version": 3
      },
      "file_extension": ".py",
      "mimetype": "text/x-python",
      "name": "python",
      "nbconvert_exporter": "python",
      "pygments_lexer": "ipython3",
      "version": "3.8.2"
    }
  },
  "nbformat": 4,
  "nbformat_minor": 0
}