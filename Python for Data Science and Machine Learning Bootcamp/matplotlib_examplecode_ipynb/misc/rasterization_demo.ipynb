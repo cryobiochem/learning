{
  "cells": [
    {
      "cell_type": "code",
      "execution_count": null,
      "metadata": {
        "collapsed": false
      },
      "outputs": [],
      "source": [
        "%matplotlib inline"
      ]
    },
    {
      "cell_type": "markdown",
      "metadata": {},
      "source": [
        "\n# Rasterization Demo\n\n"
      ]
    },
    {
      "cell_type": "code",
      "execution_count": null,
      "metadata": {
        "collapsed": false
      },
      "outputs": [],
      "source": [
        "import numpy as np\nimport matplotlib.pyplot as plt\n\nd = np.arange(100).reshape(10, 10)\nx, y = np.meshgrid(np.arange(11), np.arange(11))\n\ntheta = 0.25*np.pi\nxx = x*np.cos(theta) - y*np.sin(theta)\nyy = x*np.sin(theta) + y*np.cos(theta)\n\nfig, ((ax1, ax2), (ax3, ax4)) = plt.subplots(2, 2)\nax1.set_aspect(1)\nax1.pcolormesh(xx, yy, d)\nax1.set_title(\"No Rasterization\")\n\nax2.set_aspect(1)\nax2.set_title(\"Rasterization\")\n\nm = ax2.pcolormesh(xx, yy, d)\nm.set_rasterized(True)\n\nax3.set_aspect(1)\nax3.pcolormesh(xx, yy, d)\nax3.text(0.5, 0.5, \"Text\", alpha=0.2,\n         va=\"center\", ha=\"center\", size=50, transform=ax3.transAxes)\n\nax3.set_title(\"No Rasterization\")\n\n\nax4.set_aspect(1)\nm = ax4.pcolormesh(xx, yy, d)\nm.set_zorder(-20)\n\nax4.text(0.5, 0.5, \"Text\", alpha=0.2,\n         zorder=-15,\n         va=\"center\", ha=\"center\", size=50, transform=ax4.transAxes)\n\nax4.set_rasterization_zorder(-10)\n\nax4.set_title(\"Rasterization z$<-10$\")\n\n\n# ax2.title.set_rasterized(True) # should display a warning\n\nplt.savefig(\"test_rasterization.pdf\", dpi=150)\nplt.savefig(\"test_rasterization.eps\", dpi=150)\n\nif not plt.rcParams[\"text.usetex\"]:\n    plt.savefig(\"test_rasterization.svg\", dpi=150)\n    # svg backend currently ignores the dpi"
      ]
    }
  ],
  "metadata": {
    "kernelspec": {
      "display_name": "Python 3",
      "language": "python",
      "name": "python3"
    },
    "language_info": {
      "codemirror_mode": {
        "name": "ipython",
        "version": 3
      },
      "file_extension": ".py",
      "mimetype": "text/x-python",
      "name": "python",
      "nbconvert_exporter": "python",
      "pygments_lexer": "ipython3",
      "version": "3.8.2"
    }
  },
  "nbformat": 4,
  "nbformat_minor": 0
}