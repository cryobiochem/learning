{
  "cells": [
    {
      "cell_type": "code",
      "execution_count": null,
      "metadata": {
        "collapsed": false
      },
      "outputs": [],
      "source": [
        "%matplotlib inline"
      ]
    },
    {
      "cell_type": "markdown",
      "metadata": {},
      "source": [
        "\n# Image Thumbnail\n\n\nYou can use matplotlib to generate thumbnails from existing images.\nmatplotlib natively supports PNG files on the input side, and other\nimage types transparently if your have PIL installed\n"
      ]
    },
    {
      "cell_type": "code",
      "execution_count": null,
      "metadata": {
        "collapsed": false
      },
      "outputs": [],
      "source": [
        "# build thumbnails of all images in a directory\nimport sys\nimport os\nimport glob\nimport matplotlib.image as image\n\n\nif len(sys.argv) != 2:\n    print('Usage: python %s IMAGEDIR' % __file__)\n    raise SystemExit\nindir = sys.argv[1]\nif not os.path.isdir(indir):\n    print('Could not find input directory \"%s\"' % indir)\n    raise SystemExit\n\noutdir = 'thumbs'\nif not os.path.exists(outdir):\n    os.makedirs(outdir)\n\nfor fname in glob.glob(os.path.join(indir, '*.png')):\n    basedir, basename = os.path.split(fname)\n    outfile = os.path.join(outdir, basename)\n    fig = image.thumbnail(fname, outfile, scale=0.15)\n    print('saved thumbnail of %s to %s' % (fname, outfile))"
      ]
    }
  ],
  "metadata": {
    "kernelspec": {
      "display_name": "Python 3",
      "language": "python",
      "name": "python3"
    },
    "language_info": {
      "codemirror_mode": {
        "name": "ipython",
        "version": 3
      },
      "file_extension": ".py",
      "mimetype": "text/x-python",
      "name": "python",
      "nbconvert_exporter": "python",
      "pygments_lexer": "ipython3",
      "version": "3.8.2"
    }
  },
  "nbformat": 4,
  "nbformat_minor": 0
}