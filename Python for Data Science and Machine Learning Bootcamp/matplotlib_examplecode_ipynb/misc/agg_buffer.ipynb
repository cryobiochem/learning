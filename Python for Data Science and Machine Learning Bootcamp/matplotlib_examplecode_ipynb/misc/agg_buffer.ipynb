{
  "cells": [
    {
      "cell_type": "code",
      "execution_count": null,
      "metadata": {
        "collapsed": false
      },
      "outputs": [],
      "source": [
        "%matplotlib inline"
      ]
    },
    {
      "cell_type": "markdown",
      "metadata": {},
      "source": [
        "\n# Agg Buffer\n\n\nUse backend agg to access the figure canvas as an RGBA buffer, convert it to an\narray, and pass it to Pillow for rendering.\n"
      ]
    },
    {
      "cell_type": "code",
      "execution_count": null,
      "metadata": {
        "collapsed": false
      },
      "outputs": [],
      "source": [
        "import numpy as np\n\nfrom matplotlib.backends.backend_agg import FigureCanvasAgg\nimport matplotlib.pyplot as plt\n\nplt.plot([1, 2, 3])\n\ncanvas = plt.gcf().canvas\n\nagg = canvas.switch_backends(FigureCanvasAgg)\nagg.draw()\nX = np.asarray(agg.buffer_rgba())\n\n# Pass off to PIL.\nfrom PIL import Image\nim = Image.fromarray(X)\n\n# Uncomment this line to display the image using ImageMagick's `display` tool.\n# im.show()"
      ]
    }
  ],
  "metadata": {
    "kernelspec": {
      "display_name": "Python 3",
      "language": "python",
      "name": "python3"
    },
    "language_info": {
      "codemirror_mode": {
        "name": "ipython",
        "version": 3
      },
      "file_extension": ".py",
      "mimetype": "text/x-python",
      "name": "python",
      "nbconvert_exporter": "python",
      "pygments_lexer": "ipython3",
      "version": "3.8.2"
    }
  },
  "nbformat": 4,
  "nbformat_minor": 0
}