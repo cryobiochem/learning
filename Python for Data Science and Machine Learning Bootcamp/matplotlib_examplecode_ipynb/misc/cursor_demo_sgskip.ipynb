{
  "cells": [
    {
      "cell_type": "code",
      "execution_count": null,
      "metadata": {
        "collapsed": false
      },
      "outputs": [],
      "source": [
        "%matplotlib inline"
      ]
    },
    {
      "cell_type": "markdown",
      "metadata": {},
      "source": [
        "\n# Cursor Demo\n\n\nThis example shows how to use Matplotlib to provide a data cursor.  It uses\nMatplotlib to draw the cursor and may be a slow since this requires redrawing\nthe figure with every mouse move.\n\nFaster cursoring is possible using native GUI drawing, as in\n:doc:`/gallery/user_interfaces/wxcursor_demo_sgskip`.\n\nThe mpldatacursor__ and mplcursors__ third-party packages can be used to\nachieve a similar effect.\n\n__ https://github.com/joferkington/mpldatacursor\n__ https://github.com/anntzer/mplcursors\n"
      ]
    },
    {
      "cell_type": "code",
      "execution_count": null,
      "metadata": {
        "collapsed": false
      },
      "outputs": [],
      "source": [
        "import matplotlib.pyplot as plt\nimport numpy as np\n\n\nclass Cursor:\n    def __init__(self, ax):\n        self.ax = ax\n        self.lx = ax.axhline(color='k')  # the horiz line\n        self.ly = ax.axvline(color='k')  # the vert line\n\n        # text location in axes coords\n        self.txt = ax.text(0.7, 0.9, '', transform=ax.transAxes)\n\n    def mouse_move(self, event):\n        if not event.inaxes:\n            return\n\n        x, y = event.xdata, event.ydata\n        # update the line positions\n        self.lx.set_ydata(y)\n        self.ly.set_xdata(x)\n\n        self.txt.set_text('x=%1.2f, y=%1.2f' % (x, y))\n        self.ax.figure.canvas.draw()\n\n\nclass SnaptoCursor:\n    \"\"\"\n    Like Cursor but the crosshair snaps to the nearest x, y point.\n    For simplicity, this assumes that *x* is sorted.\n    \"\"\"\n\n    def __init__(self, ax, x, y):\n        self.ax = ax\n        self.lx = ax.axhline(color='k')  # the horiz line\n        self.ly = ax.axvline(color='k')  # the vert line\n        self.x = x\n        self.y = y\n        # text location in axes coords\n        self.txt = ax.text(0.7, 0.9, '', transform=ax.transAxes)\n\n    def mouse_move(self, event):\n        if not event.inaxes:\n            return\n\n        x, y = event.xdata, event.ydata\n        indx = min(np.searchsorted(self.x, x), len(self.x) - 1)\n        x = self.x[indx]\n        y = self.y[indx]\n        # update the line positions\n        self.lx.set_ydata(y)\n        self.ly.set_xdata(x)\n\n        self.txt.set_text('x=%1.2f, y=%1.2f' % (x, y))\n        print('x=%1.2f, y=%1.2f' % (x, y))\n        self.ax.figure.canvas.draw()\n\n\nt = np.arange(0.0, 1.0, 0.01)\ns = np.sin(2 * 2 * np.pi * t)\n\nfig, ax = plt.subplots()\nax.plot(t, s, 'o')\ncursor = Cursor(ax)\nfig.canvas.mpl_connect('motion_notify_event', cursor.mouse_move)\n\nfig, ax = plt.subplots()\nax.plot(t, s, 'o')\nsnap_cursor = SnaptoCursor(ax, t, s)\nfig.canvas.mpl_connect('motion_notify_event', snap_cursor.mouse_move)\n\nplt.show()"
      ]
    }
  ],
  "metadata": {
    "kernelspec": {
      "display_name": "Python 3",
      "language": "python",
      "name": "python3"
    },
    "language_info": {
      "codemirror_mode": {
        "name": "ipython",
        "version": 3
      },
      "file_extension": ".py",
      "mimetype": "text/x-python",
      "name": "python",
      "nbconvert_exporter": "python",
      "pygments_lexer": "ipython3",
      "version": "3.8.2"
    }
  },
  "nbformat": 4,
  "nbformat_minor": 0
}