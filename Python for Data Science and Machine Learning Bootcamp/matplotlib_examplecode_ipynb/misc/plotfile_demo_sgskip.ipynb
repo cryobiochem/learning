{
  "cells": [
    {
      "cell_type": "code",
      "execution_count": null,
      "metadata": {
        "collapsed": false
      },
      "outputs": [],
      "source": [
        "%matplotlib inline"
      ]
    },
    {
      "cell_type": "markdown",
      "metadata": {},
      "source": [
        "\n# Plotting data from a file\n\n\nPlotting data from a file is actually a two-step process.\n\n1. Interpreting the file and loading the data.\n2. Creating the actual plot.\n\n`.pyplot.plotfile` tried to do both at once. But each of the steps has so many\npossible variations and parameters that it does not make sense to squeeze both\ninto a single function. Therefore, `.pyplot.plotfile` has been deprecated.\n\nThe recommended way of plotting data from a file is therefore to use dedicated\nfunctions such as `numpy.loadtxt` or `pandas.read_csv` to read the data. These\nare more powerful and faster. Then plot the obtained data using matplotlib.\n\nNote that `pandas.DataFrame.plot` is a convenient wrapper around Matplotlib\nto create simple plots.\n"
      ]
    },
    {
      "cell_type": "code",
      "execution_count": null,
      "metadata": {
        "collapsed": false
      },
      "outputs": [],
      "source": [
        "import matplotlib.pyplot as plt\nimport matplotlib.cbook as cbook\n\nimport numpy as np\nimport pandas as pd"
      ]
    },
    {
      "cell_type": "markdown",
      "metadata": {},
      "source": [
        "Using pandas\n============\n\nSubsequent are a few examples of how to replace `~.pyplot.plotfile` with\n`pandas`. All examples need the the `pandas.read_csv` call first. Note that\nyou can use the filename directly as a parameter::\n\n    msft = pd.read_csv('msft.csv')\n\nThe following slightly more involved `pandas.read_csv` call is only to make\nautomatic rendering of the example work:\n\n"
      ]
    },
    {
      "cell_type": "code",
      "execution_count": null,
      "metadata": {
        "collapsed": false
      },
      "outputs": [],
      "source": [
        "fname = cbook.get_sample_data('msft.csv', asfileobj=False)\nwith cbook.get_sample_data('msft.csv') as file:\n    msft = pd.read_csv(file)"
      ]
    },
    {
      "cell_type": "markdown",
      "metadata": {},
      "source": [
        "When working with dates, additionally call\n`pandas.plotting.register_matplotlib_converters` and use the ``parse_dates``\nargument of `pandas.read_csv`::\n\n"
      ]
    },
    {
      "cell_type": "code",
      "execution_count": null,
      "metadata": {
        "collapsed": false
      },
      "outputs": [],
      "source": [
        "pd.plotting.register_matplotlib_converters()\n\nwith cbook.get_sample_data('msft.csv') as file:\n    msft = pd.read_csv(file, parse_dates=['Date'])"
      ]
    },
    {
      "cell_type": "markdown",
      "metadata": {},
      "source": [
        "Use indices\n-----------\n\n"
      ]
    },
    {
      "cell_type": "code",
      "execution_count": null,
      "metadata": {
        "collapsed": false
      },
      "outputs": [],
      "source": [
        "# Deprecated:\nplt.plotfile(fname, (0, 5, 6))\n\n# Use instead:\nmsft.plot(0, [5, 6], subplots=True)"
      ]
    },
    {
      "cell_type": "markdown",
      "metadata": {},
      "source": [
        "Use names\n---------\n\n"
      ]
    },
    {
      "cell_type": "code",
      "execution_count": null,
      "metadata": {
        "collapsed": false
      },
      "outputs": [],
      "source": [
        "# Deprecated:\nplt.plotfile(fname, ('date', 'volume', 'adj_close'))\n\n# Use instead:\nmsft.plot(\"Date\", [\"Volume\", \"Adj. Close*\"], subplots=True)"
      ]
    },
    {
      "cell_type": "markdown",
      "metadata": {},
      "source": [
        "Use semilogy for volume\n-----------------------\n\n"
      ]
    },
    {
      "cell_type": "code",
      "execution_count": null,
      "metadata": {
        "collapsed": false
      },
      "outputs": [],
      "source": [
        "# Deprecated:\nplt.plotfile(fname, ('date', 'volume', 'adj_close'),\n             plotfuncs={'volume': 'semilogy'})\n\n# Use instead:\nfig, axs = plt.subplots(2, sharex=True)\nmsft.plot(\"Date\", \"Volume\", ax=axs[0], logy=True)\nmsft.plot(\"Date\", \"Adj. Close*\", ax=axs[1])"
      ]
    },
    {
      "cell_type": "markdown",
      "metadata": {},
      "source": [
        "Use semilogy for volume (by index)\n----------------------------------\n\n"
      ]
    },
    {
      "cell_type": "code",
      "execution_count": null,
      "metadata": {
        "collapsed": false
      },
      "outputs": [],
      "source": [
        "# Deprecated:\nplt.plotfile(fname, (0, 5, 6), plotfuncs={5: 'semilogy'})\n\n# Use instead:\nfig, axs = plt.subplots(2, sharex=True)\nmsft.plot(0, 5, ax=axs[0], logy=True)\nmsft.plot(0, 6, ax=axs[1])"
      ]
    },
    {
      "cell_type": "markdown",
      "metadata": {},
      "source": [
        "Single subplot\n--------------\n\n"
      ]
    },
    {
      "cell_type": "code",
      "execution_count": null,
      "metadata": {
        "collapsed": false
      },
      "outputs": [],
      "source": [
        "# Deprecated:\nplt.plotfile(fname, ('date', 'open', 'high', 'low', 'close'), subplots=False)\n\n# Use instead:\nmsft.plot(\"Date\", [\"Open\", \"High\", \"Low\", \"Close\"])"
      ]
    },
    {
      "cell_type": "markdown",
      "metadata": {},
      "source": [
        "Use bar for volume\n------------------\n\n"
      ]
    },
    {
      "cell_type": "code",
      "execution_count": null,
      "metadata": {
        "collapsed": false
      },
      "outputs": [],
      "source": [
        "# Deprecated:\nplt.plotfile(fname, (0, 5, 6), plotfuncs={5: \"bar\"})\n\n# Use instead:\nfig, axs = plt.subplots(2, sharex=True)\naxs[0].bar(msft.iloc[:, 0], msft.iloc[:, 5])\naxs[1].plot(msft.iloc[:, 0], msft.iloc[:, 6])\nfig.autofmt_xdate()"
      ]
    },
    {
      "cell_type": "markdown",
      "metadata": {},
      "source": [
        "Using numpy\n===========\n\n"
      ]
    },
    {
      "cell_type": "code",
      "execution_count": null,
      "metadata": {
        "collapsed": false
      },
      "outputs": [],
      "source": [
        "fname2 = cbook.get_sample_data('data_x_x2_x3.csv', asfileobj=False)\nwith cbook.get_sample_data('data_x_x2_x3.csv') as file:\n    array = np.loadtxt(file)"
      ]
    },
    {
      "cell_type": "markdown",
      "metadata": {},
      "source": [
        "Labeling, if no names in csv-file\n---------------------------------\n\n"
      ]
    },
    {
      "cell_type": "code",
      "execution_count": null,
      "metadata": {
        "collapsed": false
      },
      "outputs": [],
      "source": [
        "# Deprecated:\nplt.plotfile(fname2, cols=(0, 1, 2), delimiter=' ',\n             names=['$x$', '$f(x)=x^2$', '$f(x)=x^3$'])\n\n# Use instead:\nfig, axs = plt.subplots(2, sharex=True)\naxs[0].plot(array[:, 0], array[:, 1])\naxs[0].set(ylabel='$f(x)=x^2$')\naxs[1].plot(array[:, 0], array[:, 2])\naxs[1].set(xlabel='$x$', ylabel='$f(x)=x^3$')"
      ]
    },
    {
      "cell_type": "markdown",
      "metadata": {},
      "source": [
        "More than one file per figure\n-----------------------------\n\n"
      ]
    },
    {
      "cell_type": "code",
      "execution_count": null,
      "metadata": {
        "collapsed": false
      },
      "outputs": [],
      "source": [
        "# For simplicity of the example we reuse the same file.\n# In general they will be different.\nfname3 = fname2\n\n# Depreacted:\nplt.plotfile(fname2, cols=(0, 1), delimiter=' ')\nplt.plotfile(fname3, cols=(0, 2), delimiter=' ',\n             newfig=False)  # use current figure\nplt.xlabel(r'$x$')\nplt.ylabel(r'$f(x) = x^2, x^3$')\n\n# Use instead:\nfig, ax = plt.subplots()\nax.plot(array[:, 0], array[:, 1])\nax.plot(array[:, 0], array[:, 2])\nax.set(xlabel='$x$', ylabel='$f(x)=x^3$')\n\nplt.show()"
      ]
    }
  ],
  "metadata": {
    "kernelspec": {
      "display_name": "Python 3",
      "language": "python",
      "name": "python3"
    },
    "language_info": {
      "codemirror_mode": {
        "name": "ipython",
        "version": 3
      },
      "file_extension": ".py",
      "mimetype": "text/x-python",
      "name": "python",
      "nbconvert_exporter": "python",
      "pygments_lexer": "ipython3",
      "version": "3.8.2"
    }
  },
  "nbformat": 4,
  "nbformat_minor": 0
}