{
  "cells": [
    {
      "cell_type": "code",
      "execution_count": null,
      "metadata": {
        "collapsed": false
      },
      "outputs": [],
      "source": [
        "%matplotlib inline"
      ]
    },
    {
      "cell_type": "markdown",
      "metadata": {},
      "source": [
        "\n# Load converter\n\n\nThis example demonstrates passing a custom converter to `numpy.genfromtxt` to\nextract dates from a CSV file.\n"
      ]
    },
    {
      "cell_type": "code",
      "execution_count": null,
      "metadata": {
        "collapsed": false
      },
      "outputs": [],
      "source": [
        "import dateutil.parser\nfrom matplotlib import cbook, dates\nimport matplotlib.pyplot as plt\nimport numpy as np\n\n\ndatafile = cbook.get_sample_data('msft.csv', asfileobj=False)\nprint('loading', datafile)\n\ndata = np.genfromtxt(\n    datafile, delimiter=',', names=True,\n    dtype=None, converters={0: dateutil.parser.parse})\n\nfig, ax = plt.subplots()\nax.plot(data['Date'], data['High'], '-')\nfig.autofmt_xdate()\nplt.show()"
      ]
    }
  ],
  "metadata": {
    "kernelspec": {
      "display_name": "Python 3",
      "language": "python",
      "name": "python3"
    },
    "language_info": {
      "codemirror_mode": {
        "name": "ipython",
        "version": 3
      },
      "file_extension": ".py",
      "mimetype": "text/x-python",
      "name": "python",
      "nbconvert_exporter": "python",
      "pygments_lexer": "ipython3",
      "version": "3.8.2"
    }
  },
  "nbformat": 4,
  "nbformat_minor": 0
}