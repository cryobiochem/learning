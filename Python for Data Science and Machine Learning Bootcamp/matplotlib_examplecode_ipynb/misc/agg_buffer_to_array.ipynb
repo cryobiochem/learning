{
  "cells": [
    {
      "cell_type": "code",
      "execution_count": null,
      "metadata": {
        "collapsed": false
      },
      "outputs": [],
      "source": [
        "%matplotlib inline"
      ]
    },
    {
      "cell_type": "markdown",
      "metadata": {},
      "source": [
        "\n# Agg Buffer To Array\n\n\nConvert a rendered figure to its image (NumPy array) representation.\n"
      ]
    },
    {
      "cell_type": "code",
      "execution_count": null,
      "metadata": {
        "collapsed": false
      },
      "outputs": [],
      "source": [
        "import matplotlib.pyplot as plt\nimport numpy as np\nfrom matplotlib.figure import Figure\nfrom matplotlib.backends.backend_agg import FigureCanvas\n\n# Create a figure that pyplot does not know about.\nfig = Figure()\n# attach a non-interactive Agg canvas to the figure\n# (as a side-effect of the ``__init__``)\ncanvas = FigureCanvas(fig)\nax = fig.subplots()\nax.plot([1, 2, 3])\nax.set_title('a simple figure')\n# Force a draw so we can grab the pixel buffer\ncanvas.draw()\n# grab the pixel buffer and dump it into a numpy array\nX = np.array(canvas.renderer.buffer_rgba())\n\n# now display the array X as an Axes in a new figure\nfig2 = plt.figure()\nax2 = fig2.add_subplot(111, frameon=False)\nax2.imshow(X)\nplt.show()"
      ]
    }
  ],
  "metadata": {
    "kernelspec": {
      "display_name": "Python 3",
      "language": "python",
      "name": "python3"
    },
    "language_info": {
      "codemirror_mode": {
        "name": "ipython",
        "version": 3
      },
      "file_extension": ".py",
      "mimetype": "text/x-python",
      "name": "python",
      "nbconvert_exporter": "python",
      "pygments_lexer": "ipython3",
      "version": "3.8.2"
    }
  },
  "nbformat": 4,
  "nbformat_minor": 0
}