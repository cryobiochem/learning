{
  "cells": [
    {
      "cell_type": "code",
      "execution_count": null,
      "metadata": {
        "collapsed": false
      },
      "outputs": [],
      "source": [
        "%matplotlib inline"
      ]
    },
    {
      "cell_type": "markdown",
      "metadata": {},
      "source": [
        "\n# Demo Axes Grid\n\n\nGrid of 2x2 images with single or own colorbar.\n"
      ]
    },
    {
      "cell_type": "code",
      "execution_count": null,
      "metadata": {
        "collapsed": false
      },
      "outputs": [],
      "source": [
        "import matplotlib.pyplot as plt\nfrom mpl_toolkits.axes_grid1 import ImageGrid\n\n\nplt.rcParams[\"mpl_toolkits.legacy_colorbar\"] = False\n\n\ndef get_demo_image():\n    import numpy as np\n    from matplotlib.cbook import get_sample_data\n    f = get_sample_data(\"axes_grid/bivariate_normal.npy\", asfileobj=False)\n    z = np.load(f)\n    # z is a numpy array of 15x15\n    return z, (-3, 4, -4, 3)\n\n\ndef demo_simple_grid(fig):\n    \"\"\"\n    A grid of 2x2 images with 0.05 inch pad between images and only\n    the lower-left axes is labeled.\n    \"\"\"\n    grid = ImageGrid(fig, 141,  # similar to subplot(141)\n                     nrows_ncols=(2, 2),\n                     axes_pad=0.05,\n                     label_mode=\"1\",\n                     )\n    Z, extent = get_demo_image()\n    for ax in grid:\n        ax.imshow(Z, extent=extent, interpolation=\"nearest\")\n    # This only affects axes in first column and second row as share_all=False.\n    grid.axes_llc.set_xticks([-2, 0, 2])\n    grid.axes_llc.set_yticks([-2, 0, 2])\n\n\ndef demo_grid_with_single_cbar(fig):\n    \"\"\"\n    A grid of 2x2 images with a single colorbar\n    \"\"\"\n    grid = ImageGrid(fig, 142,  # similar to subplot(142)\n                     nrows_ncols=(2, 2),\n                     axes_pad=0.0,\n                     share_all=True,\n                     label_mode=\"L\",\n                     cbar_location=\"top\",\n                     cbar_mode=\"single\",\n                     )\n\n    Z, extent = get_demo_image()\n    for ax in grid:\n        im = ax.imshow(Z, extent=extent, interpolation=\"nearest\")\n    grid.cbar_axes[0].colorbar(im)\n\n    for cax in grid.cbar_axes:\n        cax.toggle_label(False)\n\n    # This affects all axes as share_all = True.\n    grid.axes_llc.set_xticks([-2, 0, 2])\n    grid.axes_llc.set_yticks([-2, 0, 2])\n\n\ndef demo_grid_with_each_cbar(fig):\n    \"\"\"\n    A grid of 2x2 images. Each image has its own colorbar.\n    \"\"\"\n    grid = ImageGrid(fig, 143,  # similar to subplot(143)\n                     nrows_ncols=(2, 2),\n                     axes_pad=0.1,\n                     label_mode=\"1\",\n                     share_all=True,\n                     cbar_location=\"top\",\n                     cbar_mode=\"each\",\n                     cbar_size=\"7%\",\n                     cbar_pad=\"2%\",\n                     )\n    Z, extent = get_demo_image()\n    for ax, cax in zip(grid, grid.cbar_axes):\n        im = ax.imshow(Z, extent=extent, interpolation=\"nearest\")\n        cax.colorbar(im)\n        cax.toggle_label(False)\n\n    # This affects all axes because we set share_all = True.\n    grid.axes_llc.set_xticks([-2, 0, 2])\n    grid.axes_llc.set_yticks([-2, 0, 2])\n\n\ndef demo_grid_with_each_cbar_labelled(fig):\n    \"\"\"\n    A grid of 2x2 images. Each image has its own colorbar.\n    \"\"\"\n    grid = ImageGrid(fig, 144,  # similar to subplot(144)\n                     nrows_ncols=(2, 2),\n                     axes_pad=(0.45, 0.15),\n                     label_mode=\"1\",\n                     share_all=True,\n                     cbar_location=\"right\",\n                     cbar_mode=\"each\",\n                     cbar_size=\"7%\",\n                     cbar_pad=\"2%\",\n                     )\n    Z, extent = get_demo_image()\n\n    # Use a different colorbar range every time\n    limits = ((0, 1), (-2, 2), (-1.7, 1.4), (-1.5, 1))\n    for ax, cax, vlim in zip(grid, grid.cbar_axes, limits):\n        im = ax.imshow(Z, extent=extent, interpolation=\"nearest\",\n                       vmin=vlim[0], vmax=vlim[1])\n        cb = cax.colorbar(im)\n        cb.set_ticks((vlim[0], vlim[1]))\n\n    # This affects all axes because we set share_all = True.\n    grid.axes_llc.set_xticks([-2, 0, 2])\n    grid.axes_llc.set_yticks([-2, 0, 2])\n\n\nfig = plt.figure(figsize=(10.5, 2.5))\nfig.subplots_adjust(left=0.05, right=0.95)\n\ndemo_simple_grid(fig)\ndemo_grid_with_single_cbar(fig)\ndemo_grid_with_each_cbar(fig)\ndemo_grid_with_each_cbar_labelled(fig)\n\nplt.show()"
      ]
    }
  ],
  "metadata": {
    "kernelspec": {
      "display_name": "Python 3",
      "language": "python",
      "name": "python3"
    },
    "language_info": {
      "codemirror_mode": {
        "name": "ipython",
        "version": 3
      },
      "file_extension": ".py",
      "mimetype": "text/x-python",
      "name": "python",
      "nbconvert_exporter": "python",
      "pygments_lexer": "ipython3",
      "version": "3.8.2"
    }
  },
  "nbformat": 4,
  "nbformat_minor": 0
}