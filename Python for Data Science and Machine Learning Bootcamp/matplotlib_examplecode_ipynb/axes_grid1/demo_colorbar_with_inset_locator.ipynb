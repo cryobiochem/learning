{
  "cells": [
    {
      "cell_type": "code",
      "execution_count": null,
      "metadata": {
        "collapsed": false
      },
      "outputs": [],
      "source": [
        "%matplotlib inline"
      ]
    },
    {
      "cell_type": "markdown",
      "metadata": {},
      "source": [
        "\n# Controlling the position and size of colorbars with Inset Axes\n\n\nThis example shows how to control the position, height, and width of\ncolorbars using `~mpl_toolkits.axes_grid1.inset_locator.inset_axes`.\n\nControlling the placement of the inset axes is done similarly as that of the\nlegend: either by providing a location option (\"upper right\", \"best\", ...), or\nby providing a locator with respect to the parent bbox.\n"
      ]
    },
    {
      "cell_type": "code",
      "execution_count": null,
      "metadata": {
        "collapsed": false
      },
      "outputs": [],
      "source": [
        "import matplotlib.pyplot as plt\n\nfrom mpl_toolkits.axes_grid1.inset_locator import inset_axes\n\nfig, (ax1, ax2) = plt.subplots(1, 2, figsize=[6, 3])\n\naxins1 = inset_axes(ax1,\n                    width=\"50%\",  # width = 50% of parent_bbox width\n                    height=\"5%\",  # height : 5%\n                    loc='upper right')\n\nim1 = ax1.imshow([[1, 2], [2, 3]])\nfig.colorbar(im1, cax=axins1, orientation=\"horizontal\", ticks=[1, 2, 3])\naxins1.xaxis.set_ticks_position(\"bottom\")\n\naxins = inset_axes(ax2,\n                   width=\"5%\",  # width = 5% of parent_bbox width\n                   height=\"50%\",  # height : 50%\n                   loc='lower left',\n                   bbox_to_anchor=(1.05, 0., 1, 1),\n                   bbox_transform=ax2.transAxes,\n                   borderpad=0,\n                   )\n\n# Controlling the placement of the inset axes is basically same as that\n# of the legend.  you may want to play with the borderpad value and\n# the bbox_to_anchor coordinate.\n\nim = ax2.imshow([[1, 2], [2, 3]])\nfig.colorbar(im, cax=axins, ticks=[1, 2, 3])\n\nplt.show()"
      ]
    }
  ],
  "metadata": {
    "kernelspec": {
      "display_name": "Python 3",
      "language": "python",
      "name": "python3"
    },
    "language_info": {
      "codemirror_mode": {
        "name": "ipython",
        "version": 3
      },
      "file_extension": ".py",
      "mimetype": "text/x-python",
      "name": "python",
      "nbconvert_exporter": "python",
      "pygments_lexer": "ipython3",
      "version": "3.8.2"
    }
  },
  "nbformat": 4,
  "nbformat_minor": 0
}