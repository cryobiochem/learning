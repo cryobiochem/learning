{
  "cells": [
    {
      "cell_type": "code",
      "execution_count": null,
      "metadata": {
        "collapsed": false
      },
      "outputs": [],
      "source": [
        "%matplotlib inline"
      ]
    },
    {
      "cell_type": "markdown",
      "metadata": {},
      "source": [
        "\n# Demo Edge Colorbar\n\n\nThis example shows how to use one common colorbar for each row or column\nof an image grid.\n"
      ]
    },
    {
      "cell_type": "code",
      "execution_count": null,
      "metadata": {
        "collapsed": false
      },
      "outputs": [],
      "source": [
        "import matplotlib.pyplot as plt\nfrom mpl_toolkits.axes_grid1 import AxesGrid\n\n\ndef get_demo_image():\n    import numpy as np\n    from matplotlib.cbook import get_sample_data\n    f = get_sample_data(\"axes_grid/bivariate_normal.npy\", asfileobj=False)\n    z = np.load(f)\n    # z is a numpy array of 15x15\n    return z, (-3, 4, -4, 3)\n\n\ndef demo_bottom_cbar(fig):\n    \"\"\"\n    A grid of 2x2 images with a colorbar for each column.\n    \"\"\"\n    grid = AxesGrid(fig, 121,  # similar to subplot(121)\n                    nrows_ncols=(2, 2),\n                    axes_pad=0.10,\n                    share_all=True,\n                    label_mode=\"1\",\n                    cbar_location=\"bottom\",\n                    cbar_mode=\"edge\",\n                    cbar_pad=0.25,\n                    cbar_size=\"15%\",\n                    direction=\"column\"\n                    )\n\n    Z, extent = get_demo_image()\n    cmaps = [plt.get_cmap(\"autumn\"), plt.get_cmap(\"summer\")]\n    for i in range(4):\n        im = grid[i].imshow(Z, extent=extent, interpolation=\"nearest\",\n                            cmap=cmaps[i//2])\n        if i % 2:\n            grid.cbar_axes[i//2].colorbar(im)\n\n    for cax in grid.cbar_axes:\n        cax.toggle_label(True)\n        cax.axis[cax.orientation].set_label(\"Bar\")\n\n    # This affects all axes as share_all = True.\n    grid.axes_llc.set_xticks([-2, 0, 2])\n    grid.axes_llc.set_yticks([-2, 0, 2])\n\n\ndef demo_right_cbar(fig):\n    \"\"\"\n    A grid of 2x2 images. Each row has its own colorbar.\n    \"\"\"\n    grid = AxesGrid(fig, 122,  # similar to subplot(122)\n                    nrows_ncols=(2, 2),\n                    axes_pad=0.10,\n                    label_mode=\"1\",\n                    share_all=True,\n                    cbar_location=\"right\",\n                    cbar_mode=\"edge\",\n                    cbar_size=\"7%\",\n                    cbar_pad=\"2%\",\n                    )\n    Z, extent = get_demo_image()\n    cmaps = [plt.get_cmap(\"spring\"), plt.get_cmap(\"winter\")]\n    for i in range(4):\n        im = grid[i].imshow(Z, extent=extent, interpolation=\"nearest\",\n                            cmap=cmaps[i//2])\n        if i % 2:\n            grid.cbar_axes[i//2].colorbar(im)\n\n    for cax in grid.cbar_axes:\n        cax.toggle_label(True)\n        cax.axis[cax.orientation].set_label('Foo')\n\n    # This affects all axes because we set share_all = True.\n    grid.axes_llc.set_xticks([-2, 0, 2])\n    grid.axes_llc.set_yticks([-2, 0, 2])\n\n\nfig = plt.figure(figsize=(5.5, 2.5))\nfig.subplots_adjust(left=0.05, right=0.93)\n\ndemo_bottom_cbar(fig)\ndemo_right_cbar(fig)\n\nplt.show()"
      ]
    }
  ],
  "metadata": {
    "kernelspec": {
      "display_name": "Python 3",
      "language": "python",
      "name": "python3"
    },
    "language_info": {
      "codemirror_mode": {
        "name": "ipython",
        "version": 3
      },
      "file_extension": ".py",
      "mimetype": "text/x-python",
      "name": "python",
      "nbconvert_exporter": "python",
      "pygments_lexer": "ipython3",
      "version": "3.8.2"
    }
  },
  "nbformat": 4,
  "nbformat_minor": 0
}