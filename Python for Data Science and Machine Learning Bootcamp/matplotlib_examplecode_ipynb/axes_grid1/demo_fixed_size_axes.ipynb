{
  "cells": [
    {
      "cell_type": "code",
      "execution_count": null,
      "metadata": {
        "collapsed": false
      },
      "outputs": [],
      "source": [
        "%matplotlib inline"
      ]
    },
    {
      "cell_type": "markdown",
      "metadata": {},
      "source": [
        "\n# Demo Fixed Size Axes\n\n"
      ]
    },
    {
      "cell_type": "code",
      "execution_count": null,
      "metadata": {
        "collapsed": false
      },
      "outputs": [],
      "source": [
        "import matplotlib.pyplot as plt\n\nfrom mpl_toolkits.axes_grid1 import Divider, Size\nfrom mpl_toolkits.axes_grid1.mpl_axes import Axes\n\n\ndef demo_fixed_size_axes():\n    fig = plt.figure(figsize=(6, 6))\n\n    # The first items are for padding and the second items are for the axes.\n    # sizes are in inch.\n    h = [Size.Fixed(1.0), Size.Fixed(4.5)]\n    v = [Size.Fixed(0.7), Size.Fixed(5.)]\n\n    divider = Divider(fig, (0.0, 0.0, 1., 1.), h, v, aspect=False)\n    # the width and height of the rectangle is ignored.\n\n    ax = Axes(fig, divider.get_position())\n    ax.set_axes_locator(divider.new_locator(nx=1, ny=1))\n\n    fig.add_axes(ax)\n\n    ax.plot([1, 2, 3])\n\n\ndef demo_fixed_pad_axes():\n    fig = plt.figure(figsize=(6, 6))\n\n    # The first & third items are for padding and the second items are for the\n    # axes. Sizes are in inches.\n    h = [Size.Fixed(1.0), Size.Scaled(1.), Size.Fixed(.2)]\n    v = [Size.Fixed(0.7), Size.Scaled(1.), Size.Fixed(.5)]\n\n    divider = Divider(fig, (0.0, 0.0, 1., 1.), h, v, aspect=False)\n    # the width and height of the rectangle is ignored.\n\n    ax = Axes(fig, divider.get_position())\n    ax.set_axes_locator(divider.new_locator(nx=1, ny=1))\n\n    fig.add_axes(ax)\n\n    ax.plot([1, 2, 3])\n\n\nif __name__ == \"__main__\":\n    demo_fixed_size_axes()\n    demo_fixed_pad_axes()\n\n    plt.show()"
      ]
    }
  ],
  "metadata": {
    "kernelspec": {
      "display_name": "Python 3",
      "language": "python",
      "name": "python3"
    },
    "language_info": {
      "codemirror_mode": {
        "name": "ipython",
        "version": 3
      },
      "file_extension": ".py",
      "mimetype": "text/x-python",
      "name": "python",
      "nbconvert_exporter": "python",
      "pygments_lexer": "ipython3",
      "version": "3.8.2"
    }
  },
  "nbformat": 4,
  "nbformat_minor": 0
}