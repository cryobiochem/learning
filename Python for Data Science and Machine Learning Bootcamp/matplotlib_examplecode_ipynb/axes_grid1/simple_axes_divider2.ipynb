{
  "cells": [
    {
      "cell_type": "code",
      "execution_count": null,
      "metadata": {
        "collapsed": false
      },
      "outputs": [],
      "source": [
        "%matplotlib inline"
      ]
    },
    {
      "cell_type": "markdown",
      "metadata": {},
      "source": [
        "\n# Simple Axes Divider 2\n\n"
      ]
    },
    {
      "cell_type": "code",
      "execution_count": null,
      "metadata": {
        "collapsed": false
      },
      "outputs": [],
      "source": [
        "import mpl_toolkits.axes_grid1.axes_size as Size\nfrom mpl_toolkits.axes_grid1 import Divider\nimport matplotlib.pyplot as plt\n\nfig = plt.figure(figsize=(5.5, 4.))\n\n# the rect parameter will be ignore as we will set axes_locator\nrect = (0.1, 0.1, 0.8, 0.8)\nax = [fig.add_axes(rect, label=\"%d\" % i) for i in range(4)]\n\nhoriz = [Size.Scaled(1.5), Size.Fixed(.5), Size.Scaled(1.),\n         Size.Scaled(.5)]\n\nvert = [Size.Scaled(1.), Size.Fixed(.5), Size.Scaled(1.5)]\n\n# divide the axes rectangle into grid whose size is specified by horiz * vert\ndivider = Divider(fig, rect, horiz, vert, aspect=False)\n\nax[0].set_axes_locator(divider.new_locator(nx=0, ny=0))\nax[1].set_axes_locator(divider.new_locator(nx=0, ny=2))\nax[2].set_axes_locator(divider.new_locator(nx=2, ny=2))\nax[3].set_axes_locator(divider.new_locator(nx=2, nx1=4, ny=0))\n\nfor ax1 in ax:\n    ax1.tick_params(labelbottom=False, labelleft=False)\n\nplt.show()"
      ]
    }
  ],
  "metadata": {
    "kernelspec": {
      "display_name": "Python 3",
      "language": "python",
      "name": "python3"
    },
    "language_info": {
      "codemirror_mode": {
        "name": "ipython",
        "version": 3
      },
      "file_extension": ".py",
      "mimetype": "text/x-python",
      "name": "python",
      "nbconvert_exporter": "python",
      "pygments_lexer": "ipython3",
      "version": "3.8.2"
    }
  },
  "nbformat": 4,
  "nbformat_minor": 0
}