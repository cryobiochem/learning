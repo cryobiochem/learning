{
  "cells": [
    {
      "cell_type": "code",
      "execution_count": null,
      "metadata": {
        "collapsed": false
      },
      "outputs": [],
      "source": [
        "%matplotlib inline"
      ]
    },
    {
      "cell_type": "markdown",
      "metadata": {},
      "source": [
        "\n# Demo Axes Hbox Divider\n\n\nHbox Divider to arrange subplots.\n"
      ]
    },
    {
      "cell_type": "code",
      "execution_count": null,
      "metadata": {
        "collapsed": false
      },
      "outputs": [],
      "source": [
        "import numpy as np\nimport matplotlib.pyplot as plt\nfrom mpl_toolkits.axes_grid1.axes_divider import HBoxDivider\nimport mpl_toolkits.axes_grid1.axes_size as Size\n\n\ndef make_heights_equal(fig, rect, ax1, ax2, pad):\n    # pad in inches\n\n    h1, v1 = Size.AxesX(ax1), Size.AxesY(ax1)\n    h2, v2 = Size.AxesX(ax2), Size.AxesY(ax2)\n\n    pad_v = Size.Scaled(1)\n    pad_h = Size.Fixed(pad)\n\n    my_divider = HBoxDivider(fig, rect,\n                             horizontal=[h1, pad_h, h2],\n                             vertical=[v1, pad_v, v2])\n\n    ax1.set_axes_locator(my_divider.new_locator(0))\n    ax2.set_axes_locator(my_divider.new_locator(2))\n\n\nif __name__ == \"__main__\":\n\n    arr1 = np.arange(20).reshape((4, 5))\n    arr2 = np.arange(20).reshape((5, 4))\n\n    fig, (ax1, ax2) = plt.subplots(1, 2)\n    ax1.imshow(arr1, interpolation=\"nearest\")\n    ax2.imshow(arr2, interpolation=\"nearest\")\n\n    rect = 111  # subplot param for combined axes\n    make_heights_equal(fig, rect, ax1, ax2, pad=0.5)  # pad in inches\n\n    for ax in [ax1, ax2]:\n        ax.locator_params(nbins=4)\n\n    # annotate\n    ax3 = plt.axes([0.5, 0.5, 0.001, 0.001], frameon=False)\n    ax3.xaxis.set_visible(False)\n    ax3.yaxis.set_visible(False)\n    ax3.annotate(\"Location of two axes are adjusted\\n\"\n                 \"so that they have equal heights\\n\"\n                 \"while maintaining their aspect ratios\", (0.5, 0.5),\n                 xycoords=\"axes fraction\", va=\"center\", ha=\"center\",\n                 bbox=dict(boxstyle=\"round, pad=1\", fc=\"w\"))\n\n    plt.show()"
      ]
    }
  ],
  "metadata": {
    "kernelspec": {
      "display_name": "Python 3",
      "language": "python",
      "name": "python3"
    },
    "language_info": {
      "codemirror_mode": {
        "name": "ipython",
        "version": 3
      },
      "file_extension": ".py",
      "mimetype": "text/x-python",
      "name": "python",
      "nbconvert_exporter": "python",
      "pygments_lexer": "ipython3",
      "version": "3.8.2"
    }
  },
  "nbformat": 4,
  "nbformat_minor": 0
}