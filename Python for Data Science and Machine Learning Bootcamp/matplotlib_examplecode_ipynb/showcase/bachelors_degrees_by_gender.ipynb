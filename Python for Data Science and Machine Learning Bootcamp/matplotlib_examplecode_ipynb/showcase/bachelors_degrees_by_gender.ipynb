{
  "cells": [
    {
      "cell_type": "code",
      "execution_count": null,
      "metadata": {
        "collapsed": false
      },
      "outputs": [],
      "source": [
        "%matplotlib inline"
      ]
    },
    {
      "cell_type": "markdown",
      "metadata": {},
      "source": [
        "\n============================\nBachelor's degrees by gender\n============================\n\nA graph of multiple time series which demonstrates extensive custom\nstyling of plot frame, tick lines and labels, and line graph properties.\n\nAlso demonstrates the custom placement of text labels along the right edge\nas an alternative to a conventional legend.\n"
      ]
    },
    {
      "cell_type": "code",
      "execution_count": null,
      "metadata": {
        "collapsed": false
      },
      "outputs": [],
      "source": [
        "import numpy as np\nimport matplotlib.pyplot as plt\nfrom matplotlib.cbook import get_sample_data\n\n\nfname = get_sample_data('percent_bachelors_degrees_women_usa.csv',\n                        asfileobj=False)\ngender_degree_data = np.genfromtxt(fname, delimiter=',', names=True)\n\n# You typically want your plot to be ~1.33x wider than tall. This plot\n# is a rare exception because of the number of lines being plotted on it.\n# Common sizes: (10, 7.5) and (12, 9)\nfig, ax = plt.subplots(1, 1, figsize=(12, 14))\n\n# These are the colors that will be used in the plot\nax.set_prop_cycle(color=[\n    '#1f77b4', '#aec7e8', '#ff7f0e', '#ffbb78', '#2ca02c', '#98df8a',\n    '#d62728', '#ff9896', '#9467bd', '#c5b0d5', '#8c564b', '#c49c94',\n    '#e377c2', '#f7b6d2', '#7f7f7f', '#c7c7c7', '#bcbd22', '#dbdb8d',\n    '#17becf', '#9edae5'])\n\n# Remove the plot frame lines. They are unnecessary here.\nax.spines['top'].set_visible(False)\nax.spines['bottom'].set_visible(False)\nax.spines['right'].set_visible(False)\nax.spines['left'].set_visible(False)\n\n# Ensure that the axis ticks only show up on the bottom and left of the plot.\n# Ticks on the right and top of the plot are generally unnecessary.\nax.get_xaxis().tick_bottom()\nax.get_yaxis().tick_left()\n\nfig.subplots_adjust(left=.06, right=.75, bottom=.02, top=.94)\n# Limit the range of the plot to only where the data is.\n# Avoid unnecessary whitespace.\nax.set_xlim(1969.5, 2011.1)\nax.set_ylim(-0.25, 90)\n\n# Set a fixed location and format for ticks.\nax.set_xticks(range(1970, 2011, 10))\nax.set_yticks(range(0, 91, 10))\nax.xaxis.set_major_formatter(plt.FuncFormatter('{:.0f}'.format))\nax.yaxis.set_major_formatter(plt.FuncFormatter('{:.0f}%'.format))\n\n# Provide tick lines across the plot to help your viewers trace along\n# the axis ticks. Make sure that the lines are light and small so they\n# don't obscure the primary data lines.\nax.grid(True, 'major', 'y', ls='--', lw=.5, c='k', alpha=.3)\n\n# Remove the tick marks; they are unnecessary with the tick lines we just\n# plotted. Make sure your axis ticks are large enough to be easily read.\n# You don't want your viewers squinting to read your plot.\nax.tick_params(axis='both', which='both', labelsize=14,\n               bottom=False, top=False, labelbottom=True,\n               left=False, right=False, labelleft=True)\n\n# Now that the plot is prepared, it's time to actually plot the data!\n# Note that I plotted the majors in order of the highest % in the final year.\nmajors = ['Health Professions', 'Public Administration', 'Education',\n          'Psychology', 'Foreign Languages', 'English',\n          'Communications\\nand Journalism', 'Art and Performance', 'Biology',\n          'Agriculture', 'Social Sciences and History', 'Business',\n          'Math and Statistics', 'Architecture', 'Physical Sciences',\n          'Computer Science', 'Engineering']\n\ny_offsets = {'Foreign Languages': 0.5, 'English': -0.5,\n             'Communications\\nand Journalism': 0.75,\n             'Art and Performance': -0.25, 'Agriculture': 1.25,\n             'Social Sciences and History': 0.25, 'Business': -0.75,\n             'Math and Statistics': 0.75, 'Architecture': -0.75,\n             'Computer Science': 0.75, 'Engineering': -0.25}\n\nfor column in majors:\n    # Plot each line separately with its own color.\n    column_rec_name = column.replace('\\n', '_').replace(' ', '_')\n\n    line, = ax.plot('Year', column_rec_name, data=gender_degree_data,\n                    lw=2.5)\n\n    # Add a text label to the right end of every line. Most of the code below\n    # is adding specific offsets y position because some labels overlapped.\n    y_pos = gender_degree_data[column_rec_name][-1] - 0.5\n\n    if column in y_offsets:\n        y_pos += y_offsets[column]\n\n    # Again, make sure that all labels are large enough to be easily read\n    # by the viewer.\n    ax.text(2011.5, y_pos, column, fontsize=14, color=line.get_color())\n\n# Make the title big enough so it spans the entire plot, but don't make it\n# so big that it requires two lines to show.\n\n# Note that if the title is descriptive enough, it is unnecessary to include\n# axis labels; they are self-evident, in this plot's case.\nfig.suptitle(\"Percentage of Bachelor's degrees conferred to women in \"\n             \"the U.S.A. by major (1970-2011)\", fontsize=18, ha=\"center\")\n\n# Finally, save the figure as a PNG.\n# You can also save it as a PDF, JPEG, etc.\n# Just change the file extension in this call.\n# fig.savefig('percent-bachelors-degrees-women-usa.png', bbox_inches='tight')\nplt.show()"
      ]
    }
  ],
  "metadata": {
    "kernelspec": {
      "display_name": "Python 3",
      "language": "python",
      "name": "python3"
    },
    "language_info": {
      "codemirror_mode": {
        "name": "ipython",
        "version": 3
      },
      "file_extension": ".py",
      "mimetype": "text/x-python",
      "name": "python",
      "nbconvert_exporter": "python",
      "pygments_lexer": "ipython3",
      "version": "3.8.2"
    }
  },
  "nbformat": 4,
  "nbformat_minor": 0
}