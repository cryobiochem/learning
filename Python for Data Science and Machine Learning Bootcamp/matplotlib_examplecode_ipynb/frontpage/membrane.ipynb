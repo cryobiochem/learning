{
  "cells": [
    {
      "cell_type": "code",
      "execution_count": null,
      "metadata": {
        "collapsed": false
      },
      "outputs": [],
      "source": [
        "%matplotlib inline"
      ]
    },
    {
      "cell_type": "markdown",
      "metadata": {},
      "source": [
        "\n# Frontpage plot example\n\n\nThis example reproduces the frontpage simple plot example.\n"
      ]
    },
    {
      "cell_type": "code",
      "execution_count": null,
      "metadata": {
        "collapsed": false
      },
      "outputs": [],
      "source": [
        "import matplotlib.pyplot as plt\nimport matplotlib.cbook as cbook\nimport numpy as np\n\n\nwith cbook.get_sample_data('membrane.dat') as datafile:\n    x = np.fromfile(datafile, np.float32)\n# 0.0005 is the sample interval\n\nfig, ax = plt.subplots()\nax.plot(x, linewidth=4)\nax.set_xlim(5000, 6000)\nax.set_ylim(-0.6, 0.1)\nax.set_xticks([])\nax.set_yticks([])\nfig.savefig(\"membrane_frontpage.png\", dpi=25)  # results in 160x120 px image"
      ]
    }
  ],
  "metadata": {
    "kernelspec": {
      "display_name": "Python 3",
      "language": "python",
      "name": "python3"
    },
    "language_info": {
      "codemirror_mode": {
        "name": "ipython",
        "version": 3
      },
      "file_extension": ".py",
      "mimetype": "text/x-python",
      "name": "python",
      "nbconvert_exporter": "python",
      "pygments_lexer": "ipython3",
      "version": "3.8.2"
    }
  },
  "nbformat": 4,
  "nbformat_minor": 0
}