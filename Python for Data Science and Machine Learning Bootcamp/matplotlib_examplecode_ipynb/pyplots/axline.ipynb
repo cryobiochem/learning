{
  "cells": [
    {
      "cell_type": "code",
      "execution_count": null,
      "metadata": {
        "collapsed": false
      },
      "outputs": [],
      "source": [
        "%matplotlib inline"
      ]
    },
    {
      "cell_type": "markdown",
      "metadata": {},
      "source": [
        "\n# Infinite horizontal and vertical lines\n\n\n`~.axes.Axes.axvline` and `~.axes.Axes.axhline` draw infinite vertical /\nhorizontal lines, at given *x* / *y* positions. They are usually used to mark\nspecial data values, e.g. in this example the center and limit values of the\nsigmoid function.\n"
      ]
    },
    {
      "cell_type": "code",
      "execution_count": null,
      "metadata": {
        "collapsed": false
      },
      "outputs": [],
      "source": [
        "import numpy as np\nimport matplotlib.pyplot as plt\n\nt = np.linspace(-10, 10, 100)\nsig = 1 / (1 + np.exp(-t))\n\nplt.axhline(y=0, color=\"black\", linestyle=\"--\")\nplt.axhline(y=0.5, color=\"black\", linestyle=\":\")\nplt.axhline(y=1.0, color=\"black\", linestyle=\"--\")\nplt.axvline(color=\"grey\")\nplt.plot(t, sig, linewidth=2, label=r\"$\\sigma(t) = \\frac{1}{1 + e^{-t}}$\")\nplt.xlim(-10, 10)\nplt.xlabel(\"t\")\nplt.legend(fontsize=14)\nplt.show()"
      ]
    },
    {
      "cell_type": "markdown",
      "metadata": {},
      "source": [
        "------------\n\nReferences\n\"\"\"\"\"\"\"\"\"\"\n\nThe use of the following functions, methods, classes and modules is shown\nin this example:\n\n"
      ]
    },
    {
      "cell_type": "code",
      "execution_count": null,
      "metadata": {
        "collapsed": false
      },
      "outputs": [],
      "source": [
        "import matplotlib\nmatplotlib.pyplot.axhline\nmatplotlib.pyplot.axvline\nmatplotlib.axes.Axes.axhline\nmatplotlib.axes.Axes.axvline"
      ]
    }
  ],
  "metadata": {
    "kernelspec": {
      "display_name": "Python 3",
      "language": "python",
      "name": "python3"
    },
    "language_info": {
      "codemirror_mode": {
        "name": "ipython",
        "version": 3
      },
      "file_extension": ".py",
      "mimetype": "text/x-python",
      "name": "python",
      "nbconvert_exporter": "python",
      "pygments_lexer": "ipython3",
      "version": "3.8.2"
    }
  },
  "nbformat": 4,
  "nbformat_minor": 0
}