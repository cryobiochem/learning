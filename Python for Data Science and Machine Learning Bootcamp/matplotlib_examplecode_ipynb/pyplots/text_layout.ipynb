{
  "cells": [
    {
      "cell_type": "code",
      "execution_count": null,
      "metadata": {
        "collapsed": false
      },
      "outputs": [],
      "source": [
        "%matplotlib inline"
      ]
    },
    {
      "cell_type": "markdown",
      "metadata": {},
      "source": [
        "\n# Text Layout\n\n\nCreate text with different alignment and rotation.\n"
      ]
    },
    {
      "cell_type": "code",
      "execution_count": null,
      "metadata": {
        "collapsed": false
      },
      "outputs": [],
      "source": [
        "import matplotlib.pyplot as plt\nimport matplotlib.patches as patches\n\nfig = plt.figure()\n\nleft, width = .25, .5\nbottom, height = .25, .5\nright = left + width\ntop = bottom + height\n\n# Draw a rectangle in figure coordinates ((0, 0) is bottom left and (1, 1) is\n# upper right).\np = patches.Rectangle((left, bottom), width, height, fill=False)\nfig.add_artist(p)\n\n# Figure.text (aka. plt.figtext) behaves like Axes.text (aka. plt.text), with\n# the sole exception that the coordinates are relative to the figure ((0, 0) is\n# bottom left and (1, 1) is upper right).\nfig.text(left, bottom, 'left top',\n         horizontalalignment='left', verticalalignment='top')\nfig.text(left, bottom, 'left bottom',\n         horizontalalignment='left', verticalalignment='bottom')\nfig.text(right, top, 'right bottom',\n         horizontalalignment='right', verticalalignment='bottom')\nfig.text(right, top, 'right top',\n         horizontalalignment='right', verticalalignment='top')\nfig.text(right, bottom, 'center top',\n         horizontalalignment='center', verticalalignment='top')\nfig.text(left, 0.5*(bottom+top), 'right center',\n         horizontalalignment='right', verticalalignment='center',\n         rotation='vertical')\nfig.text(left, 0.5*(bottom+top), 'left center',\n         horizontalalignment='left', verticalalignment='center',\n         rotation='vertical')\nfig.text(0.5*(left+right), 0.5*(bottom+top), 'middle',\n         horizontalalignment='center', verticalalignment='center',\n         fontsize=20, color='red')\nfig.text(right, 0.5*(bottom+top), 'centered',\n         horizontalalignment='center', verticalalignment='center',\n         rotation='vertical')\nfig.text(left, top, 'rotated\\nwith newlines',\n         horizontalalignment='center', verticalalignment='center',\n         rotation=45)\n\nplt.show()"
      ]
    },
    {
      "cell_type": "markdown",
      "metadata": {},
      "source": [
        "------------\n\nReferences\n\"\"\"\"\"\"\"\"\"\"\n\nThe use of the following functions, methods, classes and modules is shown\nin this example:\n\n"
      ]
    },
    {
      "cell_type": "code",
      "execution_count": null,
      "metadata": {
        "collapsed": false
      },
      "outputs": [],
      "source": [
        "import matplotlib\nmatplotlib.figure.Figure.add_artist\nmatplotlib.figure.Figure.text"
      ]
    }
  ],
  "metadata": {
    "kernelspec": {
      "display_name": "Python 3",
      "language": "python",
      "name": "python3"
    },
    "language_info": {
      "codemirror_mode": {
        "name": "ipython",
        "version": 3
      },
      "file_extension": ".py",
      "mimetype": "text/x-python",
      "name": "python",
      "nbconvert_exporter": "python",
      "pygments_lexer": "ipython3",
      "version": "3.8.2"
    }
  },
  "nbformat": 4,
  "nbformat_minor": 0
}