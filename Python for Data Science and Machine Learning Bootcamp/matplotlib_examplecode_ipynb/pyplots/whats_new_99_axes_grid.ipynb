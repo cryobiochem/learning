{
  "cells": [
    {
      "cell_type": "code",
      "execution_count": null,
      "metadata": {
        "collapsed": false
      },
      "outputs": [],
      "source": [
        "%matplotlib inline"
      ]
    },
    {
      "cell_type": "markdown",
      "metadata": {},
      "source": [
        "\n========================\nWhats New 0.99 Axes Grid\n========================\n\nCreate RGB composite images.\n"
      ]
    },
    {
      "cell_type": "code",
      "execution_count": null,
      "metadata": {
        "collapsed": false
      },
      "outputs": [],
      "source": [
        "import numpy as np\nimport matplotlib.pyplot as plt\nfrom mpl_toolkits.axes_grid1.axes_rgb import RGBAxes\n\n\ndef get_demo_image():\n    # prepare image\n    delta = 0.5\n\n    extent = (-3, 4, -4, 3)\n    x = np.arange(-3.0, 4.001, delta)\n    y = np.arange(-4.0, 3.001, delta)\n    X, Y = np.meshgrid(x, y)\n    Z1 = np.exp(-X**2 - Y**2)\n    Z2 = np.exp(-(X - 1)**2 - (Y - 1)**2)\n    Z = (Z1 - Z2) * 2\n\n    return Z, extent\n\n\ndef get_rgb():\n    Z, extent = get_demo_image()\n\n    Z[Z < 0] = 0.\n    Z = Z / Z.max()\n\n    R = Z[:13, :13]\n    G = Z[2:, 2:]\n    B = Z[:13, 2:]\n\n    return R, G, B\n\n\nfig = plt.figure()\nax = RGBAxes(fig, [0.1, 0.1, 0.8, 0.8])\n\nr, g, b = get_rgb()\nkwargs = dict(origin=\"lower\", interpolation=\"nearest\")\nax.imshow_rgb(r, g, b, **kwargs)\n\nax.RGB.set_xlim(0., 9.5)\nax.RGB.set_ylim(0.9, 10.6)\n\nplt.show()"
      ]
    },
    {
      "cell_type": "markdown",
      "metadata": {},
      "source": [
        "------------\n\nReferences\n\"\"\"\"\"\"\"\"\"\"\n\nThe use of the following functions, methods, classes and modules is shown\nin this example:\n\n"
      ]
    },
    {
      "cell_type": "code",
      "execution_count": null,
      "metadata": {
        "collapsed": false
      },
      "outputs": [],
      "source": [
        "import mpl_toolkits\nmpl_toolkits.axes_grid1.axes_rgb.RGBAxes\nmpl_toolkits.axes_grid1.axes_rgb.RGBAxes.imshow_rgb"
      ]
    }
  ],
  "metadata": {
    "kernelspec": {
      "display_name": "Python 3",
      "language": "python",
      "name": "python3"
    },
    "language_info": {
      "codemirror_mode": {
        "name": "ipython",
        "version": 3
      },
      "file_extension": ".py",
      "mimetype": "text/x-python",
      "name": "python",
      "nbconvert_exporter": "python",
      "pygments_lexer": "ipython3",
      "version": "3.8.2"
    }
  },
  "nbformat": 4,
  "nbformat_minor": 0
}