{
  "cells": [
    {
      "cell_type": "code",
      "execution_count": null,
      "metadata": {
        "collapsed": false
      },
      "outputs": [],
      "source": [
        "%matplotlib inline"
      ]
    },
    {
      "cell_type": "markdown",
      "metadata": {},
      "source": [
        "\n=====================\nWhats New 0.99 Spines\n=====================\n"
      ]
    },
    {
      "cell_type": "code",
      "execution_count": null,
      "metadata": {
        "collapsed": false
      },
      "outputs": [],
      "source": [
        "import matplotlib.pyplot as plt\nimport numpy as np\n\n\ndef adjust_spines(ax,spines):\n    for loc, spine in ax.spines.items():\n        if loc in spines:\n            spine.set_position(('outward', 10))  # outward by 10 points\n        else:\n            spine.set_color('none')  # don't draw spine\n\n    # turn off ticks where there is no spine\n    if 'left' in spines:\n        ax.yaxis.set_ticks_position('left')\n    else:\n        # no yaxis ticks\n        ax.yaxis.set_ticks([])\n\n    if 'bottom' in spines:\n        ax.xaxis.set_ticks_position('bottom')\n    else:\n        # no xaxis ticks\n        ax.xaxis.set_ticks([])\n\nfig = plt.figure()\n\nx = np.linspace(0,2*np.pi,100)\ny = 2*np.sin(x)\n\nax = fig.add_subplot(2,2,1)\nax.plot(x,y)\nadjust_spines(ax,['left'])\n\nax = fig.add_subplot(2,2,2)\nax.plot(x,y)\nadjust_spines(ax,[])\n\nax = fig.add_subplot(2,2,3)\nax.plot(x,y)\nadjust_spines(ax,['left','bottom'])\n\nax = fig.add_subplot(2,2,4)\nax.plot(x,y)\nadjust_spines(ax,['bottom'])\n\nplt.show()"
      ]
    },
    {
      "cell_type": "markdown",
      "metadata": {},
      "source": [
        "------------\n\nReferences\n\"\"\"\"\"\"\"\"\"\"\n\nThe use of the following functions, methods, classes and modules is shown\nin this example:\n\n"
      ]
    },
    {
      "cell_type": "code",
      "execution_count": null,
      "metadata": {
        "collapsed": false
      },
      "outputs": [],
      "source": [
        "import matplotlib\nmatplotlib.axis.Axis.set_ticks\nmatplotlib.axis.XAxis.set_ticks_position\nmatplotlib.axis.YAxis.set_ticks_position\nmatplotlib.spines\nmatplotlib.spines.Spine\nmatplotlib.spines.Spine.set_color\nmatplotlib.spines.Spine.set_position"
      ]
    }
  ],
  "metadata": {
    "kernelspec": {
      "display_name": "Python 3",
      "language": "python",
      "name": "python3"
    },
    "language_info": {
      "codemirror_mode": {
        "name": "ipython",
        "version": 3
      },
      "file_extension": ".py",
      "mimetype": "text/x-python",
      "name": "python",
      "nbconvert_exporter": "python",
      "pygments_lexer": "ipython3",
      "version": "3.8.2"
    }
  },
  "nbformat": 4,
  "nbformat_minor": 0
}