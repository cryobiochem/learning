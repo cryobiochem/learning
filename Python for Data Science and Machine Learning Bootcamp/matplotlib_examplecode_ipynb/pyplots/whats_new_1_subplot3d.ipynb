{
  "cells": [
    {
      "cell_type": "code",
      "execution_count": null,
      "metadata": {
        "collapsed": false
      },
      "outputs": [],
      "source": [
        "%matplotlib inline"
      ]
    },
    {
      "cell_type": "markdown",
      "metadata": {},
      "source": [
        "\n# Whats New 1 Subplot3d\n\n\nCreate two three-dimensional plots in the same figure.\n"
      ]
    },
    {
      "cell_type": "code",
      "execution_count": null,
      "metadata": {
        "collapsed": false
      },
      "outputs": [],
      "source": [
        "from matplotlib import cm\n#from matplotlib.ticker import LinearLocator, FixedLocator, FormatStrFormatter\nimport matplotlib.pyplot as plt\nimport numpy as np\n\nfig = plt.figure()\n\nax = fig.add_subplot(1, 2, 1, projection='3d')\nX = np.arange(-5, 5, 0.25)\nY = np.arange(-5, 5, 0.25)\nX, Y = np.meshgrid(X, Y)\nR = np.sqrt(X**2 + Y**2)\nZ = np.sin(R)\nsurf = ax.plot_surface(X, Y, Z, rstride=1, cstride=1, cmap=cm.viridis,\n                       linewidth=0, antialiased=False)\nax.set_zlim3d(-1.01, 1.01)\n\n#ax.zaxis.set_major_locator(LinearLocator(10))\n#ax.zaxis.set_major_formatter(FormatStrFormatter('%.03f'))\n\nfig.colorbar(surf, shrink=0.5, aspect=5)\n\nfrom mpl_toolkits.mplot3d.axes3d import get_test_data\nax = fig.add_subplot(1, 2, 2, projection='3d')\nX, Y, Z = get_test_data(0.05)\nax.plot_wireframe(X, Y, Z, rstride=10, cstride=10)\n\nplt.show()"
      ]
    },
    {
      "cell_type": "markdown",
      "metadata": {},
      "source": [
        "------------\n\nReferences\n\"\"\"\"\"\"\"\"\"\"\n\nThe use of the following functions, methods, classes and modules is shown\nin this example:\n\n"
      ]
    },
    {
      "cell_type": "code",
      "execution_count": null,
      "metadata": {
        "collapsed": false
      },
      "outputs": [],
      "source": [
        "import matplotlib\nimport mpl_toolkits\nmatplotlib.figure.Figure.add_subplot\nmpl_toolkits.mplot3d.axes3d.Axes3D.plot_surface\nmpl_toolkits.mplot3d.axes3d.Axes3D.plot_wireframe\nmpl_toolkits.mplot3d.axes3d.Axes3D.set_zlim3d"
      ]
    }
  ],
  "metadata": {
    "kernelspec": {
      "display_name": "Python 3",
      "language": "python",
      "name": "python3"
    },
    "language_info": {
      "codemirror_mode": {
        "name": "ipython",
        "version": 3
      },
      "file_extension": ".py",
      "mimetype": "text/x-python",
      "name": "python",
      "nbconvert_exporter": "python",
      "pygments_lexer": "ipython3",
      "version": "3.8.2"
    }
  },
  "nbformat": 4,
  "nbformat_minor": 0
}