{
  "cells": [
    {
      "cell_type": "code",
      "execution_count": null,
      "metadata": {
        "collapsed": false
      },
      "outputs": [],
      "source": [
        "%matplotlib inline"
      ]
    },
    {
      "cell_type": "markdown",
      "metadata": {},
      "source": [
        "\n# Streamplot\n\n\nA stream plot, or streamline plot, is used to display 2D vector fields. This\nexample shows a few features of the :meth:`~.axes.Axes.streamplot` function:\n\n* Varying the color along a streamline.\n* Varying the density of streamlines.\n* Varying the line width along a streamline.\n* Controlling the starting points of streamlines.\n* Streamlines skipping masked regions and NaN values.\n"
      ]
    },
    {
      "cell_type": "code",
      "execution_count": null,
      "metadata": {
        "collapsed": false
      },
      "outputs": [],
      "source": [
        "import numpy as np\nimport matplotlib.pyplot as plt\nimport matplotlib.gridspec as gridspec\n\nw = 3\nY, X = np.mgrid[-w:w:100j, -w:w:100j]\nU = -1 - X**2 + Y\nV = 1 + X - Y**2\nspeed = np.sqrt(U**2 + V**2)\n\nfig = plt.figure(figsize=(7, 9))\ngs = gridspec.GridSpec(nrows=3, ncols=2, height_ratios=[1, 1, 2])\n\n#  Varying density along a streamline\nax0 = fig.add_subplot(gs[0, 0])\nax0.streamplot(X, Y, U, V, density=[0.5, 1])\nax0.set_title('Varying Density')\n\n# Varying color along a streamline\nax1 = fig.add_subplot(gs[0, 1])\nstrm = ax1.streamplot(X, Y, U, V, color=U, linewidth=2, cmap='autumn')\nfig.colorbar(strm.lines)\nax1.set_title('Varying Color')\n\n#  Varying line width along a streamline\nax2 = fig.add_subplot(gs[1, 0])\nlw = 5*speed / speed.max()\nax2.streamplot(X, Y, U, V, density=0.6, color='k', linewidth=lw)\nax2.set_title('Varying Line Width')\n\n# Controlling the starting points of the streamlines\nseed_points = np.array([[-2, -1, 0, 1, 2, -1], [-2, -1,  0, 1, 2, 2]])\n\nax3 = fig.add_subplot(gs[1, 1])\nstrm = ax3.streamplot(X, Y, U, V, color=U, linewidth=2,\n                     cmap='autumn', start_points=seed_points.T)\nfig.colorbar(strm.lines)\nax3.set_title('Controlling Starting Points')\n\n# Displaying the starting points with blue symbols.\nax3.plot(seed_points[0], seed_points[1], 'bo')\nax3.set(xlim=(-w, w), ylim=(-w, w))\n\n# Create a mask\nmask = np.zeros(U.shape, dtype=bool)\nmask[40:60, 40:60] = True\nU[:20, :20] = np.nan\nU = np.ma.array(U, mask=mask)\n\nax4 = fig.add_subplot(gs[2:, :])\nax4.streamplot(X, Y, U, V, color='r')\nax4.set_title('Streamplot with Masking')\n\nax4.imshow(~mask, extent=(-w, w, -w, w), alpha=0.5,\n          interpolation='nearest', cmap='gray', aspect='auto')\nax4.set_aspect('equal')\n\nplt.tight_layout()\nplt.show()"
      ]
    },
    {
      "cell_type": "markdown",
      "metadata": {},
      "source": [
        "------------\n\nReferences\n\"\"\"\"\"\"\"\"\"\"\n\nThe use of the following functions and methods is shown in this example:\n\n"
      ]
    },
    {
      "cell_type": "code",
      "execution_count": null,
      "metadata": {
        "collapsed": false
      },
      "outputs": [],
      "source": [
        "import matplotlib\nmatplotlib.axes.Axes.streamplot\nmatplotlib.pyplot.streamplot\nmatplotlib.gridspec\nmatplotlib.gridspec.GridSpec"
      ]
    }
  ],
  "metadata": {
    "kernelspec": {
      "display_name": "Python 3",
      "language": "python",
      "name": "python3"
    },
    "language_info": {
      "codemirror_mode": {
        "name": "ipython",
        "version": 3
      },
      "file_extension": ".py",
      "mimetype": "text/x-python",
      "name": "python",
      "nbconvert_exporter": "python",
      "pygments_lexer": "ipython3",
      "version": "3.8.2"
    }
  },
  "nbformat": 4,
  "nbformat_minor": 0
}