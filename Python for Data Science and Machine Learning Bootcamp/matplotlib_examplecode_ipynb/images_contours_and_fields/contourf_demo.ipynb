{
  "cells": [
    {
      "cell_type": "code",
      "execution_count": null,
      "metadata": {
        "collapsed": false
      },
      "outputs": [],
      "source": [
        "%matplotlib inline"
      ]
    },
    {
      "cell_type": "markdown",
      "metadata": {},
      "source": [
        "\n# Contourf Demo\n\n\nHow to use the :meth:`.axes.Axes.contourf` method to create filled contour plots.\n"
      ]
    },
    {
      "cell_type": "code",
      "execution_count": null,
      "metadata": {
        "collapsed": false
      },
      "outputs": [],
      "source": [
        "import numpy as np\nimport matplotlib.pyplot as plt\n\norigin = 'lower'\n\ndelta = 0.025\n\nx = y = np.arange(-3.0, 3.01, delta)\nX, Y = np.meshgrid(x, y)\nZ1 = np.exp(-X**2 - Y**2)\nZ2 = np.exp(-(X - 1)**2 - (Y - 1)**2)\nZ = (Z1 - Z2) * 2\n\nnr, nc = Z.shape\n\n# put NaNs in one corner:\nZ[-nr // 6:, -nc // 6:] = np.nan\n# contourf will convert these to masked\n\n\nZ = np.ma.array(Z)\n# mask another corner:\nZ[:nr // 6, :nc // 6] = np.ma.masked\n\n# mask a circle in the middle:\ninterior = np.sqrt(X**2 + Y**2) < 0.5\nZ[interior] = np.ma.masked\n\n# We are using automatic selection of contour levels;\n# this is usually not such a good idea, because they don't\n# occur on nice boundaries, but we do it here for purposes\n# of illustration.\n\nfig1, ax2 = plt.subplots(constrained_layout=True)\nCS = ax2.contourf(X, Y, Z, 10, cmap=plt.cm.bone, origin=origin)\n\n# Note that in the following, we explicitly pass in a subset of\n# the contour levels used for the filled contours.  Alternatively,\n# We could pass in additional levels to provide extra resolution,\n# or leave out the levels kwarg to use all of the original levels.\n\nCS2 = ax2.contour(CS, levels=CS.levels[::2], colors='r', origin=origin)\n\nax2.set_title('Nonsense (3 masked regions)')\nax2.set_xlabel('word length anomaly')\nax2.set_ylabel('sentence length anomaly')\n\n# Make a colorbar for the ContourSet returned by the contourf call.\ncbar = fig1.colorbar(CS)\ncbar.ax.set_ylabel('verbosity coefficient')\n# Add the contour line levels to the colorbar\ncbar.add_lines(CS2)\n\nfig2, ax2 = plt.subplots(constrained_layout=True)\n# Now make a contour plot with the levels specified,\n# and with the colormap generated automatically from a list\n# of colors.\nlevels = [-1.5, -1, -0.5, 0, 0.5, 1]\nCS3 = ax2.contourf(X, Y, Z, levels,\n                   colors=('r', 'g', 'b'),\n                   origin=origin,\n                   extend='both')\n# Our data range extends outside the range of levels; make\n# data below the lowest contour level yellow, and above the\n# highest level cyan:\nCS3.cmap.set_under('yellow')\nCS3.cmap.set_over('cyan')\n\nCS4 = ax2.contour(X, Y, Z, levels,\n                  colors=('k',),\n                  linewidths=(3,),\n                  origin=origin)\nax2.set_title('Listed colors (3 masked regions)')\nax2.clabel(CS4, fmt='%2.1f', colors='w', fontsize=14)\n\n# Notice that the colorbar command gets all the information it\n# needs from the ContourSet object, CS3.\nfig2.colorbar(CS3)\n\n# Illustrate all 4 possible \"extend\" settings:\nextends = [\"neither\", \"both\", \"min\", \"max\"]\ncmap = plt.cm.get_cmap(\"winter\")\ncmap.set_under(\"magenta\")\ncmap.set_over(\"yellow\")\n# Note: contouring simply excludes masked or nan regions, so\n# instead of using the \"bad\" colormap value for them, it draws\n# nothing at all in them.  Therefore the following would have\n# no effect:\n# cmap.set_bad(\"red\")\n\nfig, axs = plt.subplots(2, 2, constrained_layout=True)\n\nfor ax, extend in zip(axs.ravel(), extends):\n    cs = ax.contourf(X, Y, Z, levels, cmap=cmap, extend=extend, origin=origin)\n    fig.colorbar(cs, ax=ax, shrink=0.9)\n    ax.set_title(\"extend = %s\" % extend)\n    ax.locator_params(nbins=4)\n\nplt.show()"
      ]
    },
    {
      "cell_type": "markdown",
      "metadata": {},
      "source": [
        "------------\n\nReferences\n\"\"\"\"\"\"\"\"\"\"\n\nThe use of the following functions, methods and classes is shown\nin this example:\n\n"
      ]
    },
    {
      "cell_type": "code",
      "execution_count": null,
      "metadata": {
        "collapsed": false
      },
      "outputs": [],
      "source": [
        "import matplotlib\nmatplotlib.axes.Axes.contour\nmatplotlib.pyplot.contour\nmatplotlib.axes.Axes.contourf\nmatplotlib.pyplot.contourf\nmatplotlib.axes.Axes.clabel\nmatplotlib.pyplot.clabel\nmatplotlib.figure.Figure.colorbar\nmatplotlib.pyplot.colorbar\nmatplotlib.colors.Colormap\nmatplotlib.colors.Colormap.set_bad\nmatplotlib.colors.Colormap.set_under\nmatplotlib.colors.Colormap.set_over"
      ]
    }
  ],
  "metadata": {
    "kernelspec": {
      "display_name": "Python 3",
      "language": "python",
      "name": "python3"
    },
    "language_info": {
      "codemirror_mode": {
        "name": "ipython",
        "version": 3
      },
      "file_extension": ".py",
      "mimetype": "text/x-python",
      "name": "python",
      "nbconvert_exporter": "python",
      "pygments_lexer": "ipython3",
      "version": "3.8.2"
    }
  },
  "nbformat": 4,
  "nbformat_minor": 0
}