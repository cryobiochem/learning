{
  "cells": [
    {
      "cell_type": "code",
      "execution_count": null,
      "metadata": {
        "collapsed": false
      },
      "outputs": [],
      "source": [
        "%matplotlib inline"
      ]
    },
    {
      "cell_type": "markdown",
      "metadata": {},
      "source": [
        "\n# BboxImage Demo\n\n\nA :class:`~matplotlib.image.BboxImage` can be used to position\nan image according to a bounding box. This demo shows how to\nshow an image inside a `.text.Text`'s bounding box as well as\nhow to manually create a bounding box for the image.\n"
      ]
    },
    {
      "cell_type": "code",
      "execution_count": null,
      "metadata": {
        "collapsed": false
      },
      "outputs": [],
      "source": [
        "import matplotlib.pyplot as plt\nimport numpy as np\nfrom matplotlib.image import BboxImage\nfrom matplotlib.transforms import Bbox, TransformedBbox\n\n\nfig, (ax1, ax2) = plt.subplots(ncols=2)\n\n# ----------------------------\n# Create a BboxImage with Text\n# ----------------------------\ntxt = ax1.text(0.5, 0.5, \"test\", size=30, ha=\"center\", color=\"w\")\nkwargs = dict()\n\nbbox_image = BboxImage(txt.get_window_extent,\n                       norm=None,\n                       origin=None,\n                       clip_on=False,\n                       **kwargs\n                       )\na = np.arange(256).reshape(1, 256)/256.\nbbox_image.set_data(a)\nax1.add_artist(bbox_image)\n\n# ------------------------------------\n# Create a BboxImage for each colormap\n# ------------------------------------\na = np.linspace(0, 1, 256).reshape(1, -1)\na = np.vstack((a, a))\n\n# List of all colormaps; skip reversed colormaps.\nmaps = sorted(m for m in plt.cm.cmap_d if not m.endswith(\"_r\"))\n\nncol = 2\nnrow = len(maps)//ncol + 1\n\nxpad_fraction = 0.3\ndx = 1./(ncol + xpad_fraction*(ncol - 1))\n\nypad_fraction = 0.3\ndy = 1./(nrow + ypad_fraction*(nrow - 1))\n\nfor i, m in enumerate(maps):\n    ix, iy = divmod(i, nrow)\n\n    bbox0 = Bbox.from_bounds(ix*dx*(1 + xpad_fraction),\n                             1. - iy*dy*(1 + ypad_fraction) - dy,\n                             dx, dy)\n    bbox = TransformedBbox(bbox0, ax2.transAxes)\n\n    bbox_image = BboxImage(bbox,\n                           cmap=plt.get_cmap(m),\n                           norm=None,\n                           origin=None,\n                           **kwargs\n                           )\n\n    bbox_image.set_data(a)\n    ax2.add_artist(bbox_image)\n\nplt.show()"
      ]
    },
    {
      "cell_type": "markdown",
      "metadata": {},
      "source": [
        "------------\n\nReferences\n\"\"\"\"\"\"\"\"\"\"\n\nThe use of the following functions, methods, classes and modules is shown\nin this example:\n\n"
      ]
    },
    {
      "cell_type": "code",
      "execution_count": null,
      "metadata": {
        "collapsed": false
      },
      "outputs": [],
      "source": [
        "import matplotlib\nmatplotlib.image.BboxImage\nmatplotlib.transforms.Bbox\nmatplotlib.transforms.TransformedBbox\nmatplotlib.text.Text"
      ]
    }
  ],
  "metadata": {
    "kernelspec": {
      "display_name": "Python 3",
      "language": "python",
      "name": "python3"
    },
    "language_info": {
      "codemirror_mode": {
        "name": "ipython",
        "version": 3
      },
      "file_extension": ".py",
      "mimetype": "text/x-python",
      "name": "python",
      "nbconvert_exporter": "python",
      "pygments_lexer": "ipython3",
      "version": "3.8.2"
    }
  },
  "nbformat": 4,
  "nbformat_minor": 0
}