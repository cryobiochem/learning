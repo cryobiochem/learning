{
  "cells": [
    {
      "cell_type": "code",
      "execution_count": null,
      "metadata": {
        "collapsed": false
      },
      "outputs": [],
      "source": [
        "%matplotlib inline"
      ]
    },
    {
      "cell_type": "markdown",
      "metadata": {},
      "source": [
        "\n# Pcolor Demo\n\n\nGenerating images with :meth:`~.axes.Axes.pcolor`.\n\nPcolor allows you to generate 2-D image-style plots. Below we will show how\nto do so in Matplotlib.\n"
      ]
    },
    {
      "cell_type": "code",
      "execution_count": null,
      "metadata": {
        "collapsed": false
      },
      "outputs": [],
      "source": [
        "import matplotlib.pyplot as plt\nimport numpy as np\nfrom matplotlib.colors import LogNorm"
      ]
    },
    {
      "cell_type": "markdown",
      "metadata": {},
      "source": [
        "A simple pcolor demo\n--------------------\n\n"
      ]
    },
    {
      "cell_type": "code",
      "execution_count": null,
      "metadata": {
        "collapsed": false
      },
      "outputs": [],
      "source": [
        "Z = np.random.rand(6, 10)\n\nfig, (ax0, ax1) = plt.subplots(2, 1)\n\nc = ax0.pcolor(Z)\nax0.set_title('default: no edges')\n\nc = ax1.pcolor(Z, edgecolors='k', linewidths=4)\nax1.set_title('thick edges')\n\nfig.tight_layout()\nplt.show()"
      ]
    },
    {
      "cell_type": "markdown",
      "metadata": {},
      "source": [
        "Comparing pcolor with similar functions\n---------------------------------------\n\nDemonstrates similarities between :meth:`~.axes.Axes.pcolor`,\n:meth:`~.axes.Axes.pcolormesh`, :meth:`~.axes.Axes.imshow` and\n:meth:`~.axes.Axes.pcolorfast` for drawing quadrilateral grids.\n\n"
      ]
    },
    {
      "cell_type": "code",
      "execution_count": null,
      "metadata": {
        "collapsed": false
      },
      "outputs": [],
      "source": [
        "# make these smaller to increase the resolution\ndx, dy = 0.15, 0.05\n\n# generate 2 2d grids for the x & y bounds\ny, x = np.mgrid[slice(-3, 3 + dy, dy),\n                slice(-3, 3 + dx, dx)]\nz = (1 - x / 2. + x ** 5 + y ** 3) * np.exp(-x ** 2 - y ** 2)\n# x and y are bounds, so z should be the value *inside* those bounds.\n# Therefore, remove the last value from the z array.\nz = z[:-1, :-1]\nz_min, z_max = -np.abs(z).max(), np.abs(z).max()\n\nfig, axs = plt.subplots(2, 2)\n\nax = axs[0, 0]\nc = ax.pcolor(x, y, z, cmap='RdBu', vmin=z_min, vmax=z_max)\nax.set_title('pcolor')\nfig.colorbar(c, ax=ax)\n\nax = axs[0, 1]\nc = ax.pcolormesh(x, y, z, cmap='RdBu', vmin=z_min, vmax=z_max)\nax.set_title('pcolormesh')\nfig.colorbar(c, ax=ax)\n\nax = axs[1, 0]\nc = ax.imshow(z, cmap='RdBu', vmin=z_min, vmax=z_max,\n              extent=[x.min(), x.max(), y.min(), y.max()],\n              interpolation='nearest', origin='lower')\nax.set_title('image (nearest)')\nfig.colorbar(c, ax=ax)\n\nax = axs[1, 1]\nc = ax.pcolorfast(x, y, z, cmap='RdBu', vmin=z_min, vmax=z_max)\nax.set_title('pcolorfast')\nfig.colorbar(c, ax=ax)\n\nfig.tight_layout()\nplt.show()"
      ]
    },
    {
      "cell_type": "markdown",
      "metadata": {},
      "source": [
        "Pcolor with a log scale\n-----------------------\n\nThe following shows pcolor plots with a log scale.\n\n"
      ]
    },
    {
      "cell_type": "code",
      "execution_count": null,
      "metadata": {
        "collapsed": false
      },
      "outputs": [],
      "source": [
        "N = 100\nX, Y = np.mgrid[-3:3:complex(0, N), -2:2:complex(0, N)]\n\n# A low hump with a spike coming out.\n# Needs to have z/colour axis on a log scale so we see both hump and spike.\n# linear scale only shows the spike.\nZ1 = np.exp(-(X)**2 - (Y)**2)\nZ2 = np.exp(-(X * 10)**2 - (Y * 10)**2)\nZ = Z1 + 50 * Z2\n\nfig, (ax0, ax1) = plt.subplots(2, 1)\n\nc = ax0.pcolor(X, Y, Z,\n               norm=LogNorm(vmin=Z.min(), vmax=Z.max()), cmap='PuBu_r')\nfig.colorbar(c, ax=ax0)\n\nc = ax1.pcolor(X, Y, Z, cmap='PuBu_r')\nfig.colorbar(c, ax=ax1)\n\nplt.show()"
      ]
    },
    {
      "cell_type": "markdown",
      "metadata": {},
      "source": [
        "------------\n\nReferences\n\"\"\"\"\"\"\"\"\"\"\n\nThe use of the following functions, methods and classes is shown\nin this example:\n\n"
      ]
    },
    {
      "cell_type": "code",
      "execution_count": null,
      "metadata": {
        "collapsed": false
      },
      "outputs": [],
      "source": [
        "import matplotlib\nmatplotlib.axes.Axes.pcolor\nmatplotlib.pyplot.pcolor\nmatplotlib.axes.Axes.pcolormesh\nmatplotlib.pyplot.pcolormesh\nmatplotlib.axes.Axes.pcolorfast\nmatplotlib.axes.Axes.imshow\nmatplotlib.pyplot.imshow\nmatplotlib.figure.Figure.colorbar\nmatplotlib.pyplot.colorbar\nmatplotlib.colors.LogNorm"
      ]
    }
  ],
  "metadata": {
    "kernelspec": {
      "display_name": "Python 3",
      "language": "python",
      "name": "python3"
    },
    "language_info": {
      "codemirror_mode": {
        "name": "ipython",
        "version": 3
      },
      "file_extension": ".py",
      "mimetype": "text/x-python",
      "name": "python",
      "nbconvert_exporter": "python",
      "pygments_lexer": "ipython3",
      "version": "3.8.2"
    }
  },
  "nbformat": 4,
  "nbformat_minor": 0
}