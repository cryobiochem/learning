{
  "cells": [
    {
      "cell_type": "code",
      "execution_count": null,
      "metadata": {
        "collapsed": false
      },
      "outputs": [],
      "source": [
        "%matplotlib inline"
      ]
    },
    {
      "cell_type": "markdown",
      "metadata": {},
      "source": [
        "\n# Multi Image\n\n\nMake a set of images with a single colormap, norm, and colorbar.\n"
      ]
    },
    {
      "cell_type": "code",
      "execution_count": null,
      "metadata": {
        "collapsed": false
      },
      "outputs": [],
      "source": [
        "from matplotlib import colors\nimport matplotlib.pyplot as plt\nimport numpy as np\n\nnp.random.seed(19680801)\nNr = 3\nNc = 2\ncmap = \"cool\"\n\nfig, axs = plt.subplots(Nr, Nc)\nfig.suptitle('Multiple images')\n\nimages = []\nfor i in range(Nr):\n    for j in range(Nc):\n        # Generate data with a range that varies from one plot to the next.\n        data = ((1 + i + j) / 10) * np.random.rand(10, 20) * 1e-6\n        images.append(axs[i, j].imshow(data, cmap=cmap))\n        axs[i, j].label_outer()\n\n# Find the min and max of all colors for use in setting the color scale.\nvmin = min(image.get_array().min() for image in images)\nvmax = max(image.get_array().max() for image in images)\nnorm = colors.Normalize(vmin=vmin, vmax=vmax)\nfor im in images:\n    im.set_norm(norm)\n\nfig.colorbar(images[0], ax=axs, orientation='horizontal', fraction=.1)\n\n\n# Make images respond to changes in the norm of other images (e.g. via the\n# \"edit axis, curves and images parameters\" GUI on Qt), but be careful not to\n# recurse infinitely!\ndef update(changed_image):\n    for im in images:\n        if (changed_image.get_cmap() != im.get_cmap()\n                or changed_image.get_clim() != im.get_clim()):\n            im.set_cmap(changed_image.get_cmap())\n            im.set_clim(changed_image.get_clim())\n\n\nfor im in images:\n    im.callbacksSM.connect('changed', update)\n\nplt.show()"
      ]
    },
    {
      "cell_type": "markdown",
      "metadata": {},
      "source": [
        "------------\n\nReferences\n\"\"\"\"\"\"\"\"\"\"\n\nThe use of the following functions, methods and classes is shown\nin this example:\n\n"
      ]
    },
    {
      "cell_type": "code",
      "execution_count": null,
      "metadata": {
        "collapsed": false
      },
      "outputs": [],
      "source": [
        "import matplotlib\nmatplotlib.axes.Axes.imshow\nmatplotlib.pyplot.imshow\nmatplotlib.figure.Figure.colorbar\nmatplotlib.pyplot.colorbar\nmatplotlib.colors.Normalize\nmatplotlib.cm.ScalarMappable.set_cmap\nmatplotlib.cm.ScalarMappable.set_norm\nmatplotlib.cm.ScalarMappable.set_clim\nmatplotlib.cbook.CallbackRegistry.connect"
      ]
    }
  ],
  "metadata": {
    "kernelspec": {
      "display_name": "Python 3",
      "language": "python",
      "name": "python3"
    },
    "language_info": {
      "codemirror_mode": {
        "name": "ipython",
        "version": 3
      },
      "file_extension": ".py",
      "mimetype": "text/x-python",
      "name": "python",
      "nbconvert_exporter": "python",
      "pygments_lexer": "ipython3",
      "version": "3.8.2"
    }
  },
  "nbformat": 4,
  "nbformat_minor": 0
}