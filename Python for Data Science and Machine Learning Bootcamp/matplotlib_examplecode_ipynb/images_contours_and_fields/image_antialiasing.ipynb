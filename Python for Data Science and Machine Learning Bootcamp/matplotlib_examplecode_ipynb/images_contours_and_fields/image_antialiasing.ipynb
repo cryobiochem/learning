{
  "cells": [
    {
      "cell_type": "code",
      "execution_count": null,
      "metadata": {
        "collapsed": false
      },
      "outputs": [],
      "source": [
        "%matplotlib inline"
      ]
    },
    {
      "cell_type": "markdown",
      "metadata": {},
      "source": [
        "\n# Image antialiasing\n\n\nImages are represented by discrete pixels, either on the screen or in an\nimage file.  When data that makes up the image has a different resolution\nthan its representation on the screen we will see aliasing effects.\n\nThe default image interpolation in Matplotlib is 'antialiased'.  This uses a\nhanning interpolation for reduced aliasing in most situations. Only when there\nis upsampling by a factor of 1, 2 or >=3 is 'nearest' neighbor interpolation\nused.\n\nOther anti-aliasing filters can be specified in `.Axes.imshow` using the\n*interpolation* keyword argument.\n"
      ]
    },
    {
      "cell_type": "code",
      "execution_count": null,
      "metadata": {
        "collapsed": false
      },
      "outputs": [],
      "source": [
        "import numpy as np\nimport matplotlib.pyplot as plt"
      ]
    },
    {
      "cell_type": "markdown",
      "metadata": {},
      "source": [
        "First we generate a 500x500 px image with varying frequency content:\n\n"
      ]
    },
    {
      "cell_type": "code",
      "execution_count": null,
      "metadata": {
        "collapsed": false
      },
      "outputs": [],
      "source": [
        "x = np.arange(500) / 500 - 0.5\ny = np.arange(500) / 500 - 0.5\n\nX, Y = np.meshgrid(x, y)\nR = np.sqrt(X**2 + Y**2)\nf0 = 10\nk = 250\na = np.sin(np.pi * 2 * (f0 * R + k * R**2 / 2))"
      ]
    },
    {
      "cell_type": "markdown",
      "metadata": {},
      "source": [
        "The following images are subsampled from 500 data pixels to 303 rendered\npixels. The Moire patterns in the 'nearest' interpolation are caused by the\nhigh-frequency data being subsampled.  The 'antialiased' image\nstill has some Moire patterns as well, but they are greatly reduced.\n\n"
      ]
    },
    {
      "cell_type": "code",
      "execution_count": null,
      "metadata": {
        "collapsed": false
      },
      "outputs": [],
      "source": [
        "fig, axs = plt.subplots(1, 2, figsize=(7, 4), constrained_layout=True)\nfor ax, interp in zip(axs, ['nearest', 'antialiased']):\n    ax.imshow(a, interpolation=interp, cmap='gray')\n    ax.set_title(f\"interpolation='{interp}'\")\nplt.show()"
      ]
    },
    {
      "cell_type": "markdown",
      "metadata": {},
      "source": [
        "Even up-sampling an image with 'nearest' interpolation will lead to Moire\npatterns when the upsampling factor is not integer. The following image\nupsamples 500 data pixels to 530 rendered pixels. You may note a grid of\n30 line-like artifacts which stem from the 524 - 500 = 24 extra pixels that\nhad to be made up. Since interpolation is 'nearest' they are the same as a\nneighboring line of pixels and thus stretch the image locally so that it\nlooks distorted.\n\n"
      ]
    },
    {
      "cell_type": "code",
      "execution_count": null,
      "metadata": {
        "collapsed": false
      },
      "outputs": [],
      "source": [
        "fig, ax = plt.subplots(figsize=(6.8, 6.8))\nax.imshow(a, interpolation='nearest', cmap='gray')\nax.set_title(\"upsampled by factor a 1.048, interpolation='nearest'\")\nplt.show()"
      ]
    },
    {
      "cell_type": "markdown",
      "metadata": {},
      "source": [
        "Better antialiasing algorithms can reduce this effect:\n\n"
      ]
    },
    {
      "cell_type": "code",
      "execution_count": null,
      "metadata": {
        "collapsed": false
      },
      "outputs": [],
      "source": [
        "fig, ax = plt.subplots(figsize=(6.8, 6.8))\nax.imshow(a, interpolation='antialiased', cmap='gray')\nax.set_title(\"upsampled by factor a 1.048, interpolation='antialiased'\")\nplt.show()"
      ]
    },
    {
      "cell_type": "markdown",
      "metadata": {},
      "source": [
        "Apart from the default 'hanning' antialiasing  `~.Axes.imshow` supports a\nnumber of different interpolation algorithms, which may work better or\nworse depending on the pattern.\n\n"
      ]
    },
    {
      "cell_type": "code",
      "execution_count": null,
      "metadata": {
        "collapsed": false
      },
      "outputs": [],
      "source": [
        "fig, axs = plt.subplots(1, 2, figsize=(7, 4), constrained_layout=True)\nfor ax, interp in zip(axs, ['hanning', 'lanczos']):\n    ax.imshow(a, interpolation=interp, cmap='gray')\n    ax.set_title(f\"interpolation='{interp}'\")\nplt.show()"
      ]
    },
    {
      "cell_type": "markdown",
      "metadata": {},
      "source": [
        "------------\n\nReferences\n\"\"\"\"\"\"\"\"\"\"\n\nThe use of the following functions and methods is shown\nin this example:\n\n"
      ]
    },
    {
      "cell_type": "code",
      "execution_count": null,
      "metadata": {
        "collapsed": false
      },
      "outputs": [],
      "source": [
        "import matplotlib\nmatplotlib.axes.Axes.imshow"
      ]
    }
  ],
  "metadata": {
    "kernelspec": {
      "display_name": "Python 3",
      "language": "python",
      "name": "python3"
    },
    "language_info": {
      "codemirror_mode": {
        "name": "ipython",
        "version": 3
      },
      "file_extension": ".py",
      "mimetype": "text/x-python",
      "name": "python",
      "nbconvert_exporter": "python",
      "pygments_lexer": "ipython3",
      "version": "3.8.2"
    }
  },
  "nbformat": 4,
  "nbformat_minor": 0
}