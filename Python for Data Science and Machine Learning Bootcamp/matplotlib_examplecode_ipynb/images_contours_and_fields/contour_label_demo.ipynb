{
  "cells": [
    {
      "cell_type": "code",
      "execution_count": null,
      "metadata": {
        "collapsed": false
      },
      "outputs": [],
      "source": [
        "%matplotlib inline"
      ]
    },
    {
      "cell_type": "markdown",
      "metadata": {},
      "source": [
        "\n# Contour Label Demo\n\n\nIllustrate some of the more advanced things that one can do with\ncontour labels.\n\nSee also the :doc:`contour demo example\n</gallery/images_contours_and_fields/contour_demo>`.\n"
      ]
    },
    {
      "cell_type": "code",
      "execution_count": null,
      "metadata": {
        "collapsed": false
      },
      "outputs": [],
      "source": [
        "import matplotlib\nimport numpy as np\nimport matplotlib.ticker as ticker\nimport matplotlib.pyplot as plt"
      ]
    },
    {
      "cell_type": "markdown",
      "metadata": {},
      "source": [
        "Define our surface\n\n"
      ]
    },
    {
      "cell_type": "code",
      "execution_count": null,
      "metadata": {
        "collapsed": false
      },
      "outputs": [],
      "source": [
        "delta = 0.025\nx = np.arange(-3.0, 3.0, delta)\ny = np.arange(-2.0, 2.0, delta)\nX, Y = np.meshgrid(x, y)\nZ1 = np.exp(-X**2 - Y**2)\nZ2 = np.exp(-(X - 1)**2 - (Y - 1)**2)\nZ = (Z1 - Z2) * 2"
      ]
    },
    {
      "cell_type": "markdown",
      "metadata": {},
      "source": [
        "Make contour labels using creative float classes\nFollows suggestion of Manuel Metz\n\n"
      ]
    },
    {
      "cell_type": "code",
      "execution_count": null,
      "metadata": {
        "collapsed": false
      },
      "outputs": [],
      "source": [
        "# Define a class that forces representation of float to look a certain way\n# This remove trailing zero so '1.0' becomes '1'\n\n\nclass nf(float):\n    def __repr__(self):\n        s = f'{self:.1f}'\n        return f'{self:.0f}' if s[-1] == '0' else s\n\n\n# Basic contour plot\nfig, ax = plt.subplots()\nCS = ax.contour(X, Y, Z)\n\n# Recast levels to new class\nCS.levels = [nf(val) for val in CS.levels]\n\n# Label levels with specially formatted floats\nif plt.rcParams[\"text.usetex\"]:\n    fmt = r'%r \\%%'\nelse:\n    fmt = '%r %%'\n\nax.clabel(CS, CS.levels, inline=True, fmt=fmt, fontsize=10)"
      ]
    },
    {
      "cell_type": "markdown",
      "metadata": {},
      "source": [
        "Label contours with arbitrary strings using a dictionary\n\n"
      ]
    },
    {
      "cell_type": "code",
      "execution_count": null,
      "metadata": {
        "collapsed": false
      },
      "outputs": [],
      "source": [
        "fig1, ax1 = plt.subplots()\n\n# Basic contour plot\nCS1 = ax1.contour(X, Y, Z)\n\nfmt = {}\nstrs = ['first', 'second', 'third', 'fourth', 'fifth', 'sixth', 'seventh']\nfor l, s in zip(CS1.levels, strs):\n    fmt[l] = s\n\n# Label every other level using strings\nax1.clabel(CS1, CS1.levels[::2], inline=True, fmt=fmt, fontsize=10)"
      ]
    },
    {
      "cell_type": "markdown",
      "metadata": {},
      "source": [
        "Use a Formatter\n\n"
      ]
    },
    {
      "cell_type": "code",
      "execution_count": null,
      "metadata": {
        "collapsed": false
      },
      "outputs": [],
      "source": [
        "fig2, ax2 = plt.subplots()\n\nCS2 = ax2.contour(X, Y, 100**Z, locator=plt.LogLocator())\nfmt = ticker.LogFormatterMathtext()\nfmt.create_dummy_axis()\nax2.clabel(CS2, CS2.levels, fmt=fmt)\nax2.set_title(\"$100^Z$\")\n\nplt.show()"
      ]
    },
    {
      "cell_type": "markdown",
      "metadata": {},
      "source": [
        "------------\n\nReferences\n\"\"\"\"\"\"\"\"\"\"\n\nThe use of the following functions, methods and classes is shown\nin this example:\n\n"
      ]
    },
    {
      "cell_type": "code",
      "execution_count": null,
      "metadata": {
        "collapsed": false
      },
      "outputs": [],
      "source": [
        "matplotlib.axes.Axes.contour\nmatplotlib.pyplot.contour\nmatplotlib.axes.Axes.clabel\nmatplotlib.pyplot.clabel\nmatplotlib.ticker.LogFormatterMathtext\nmatplotlib.ticker.TickHelper.create_dummy_axis"
      ]
    }
  ],
  "metadata": {
    "kernelspec": {
      "display_name": "Python 3",
      "language": "python",
      "name": "python3"
    },
    "language_info": {
      "codemirror_mode": {
        "name": "ipython",
        "version": 3
      },
      "file_extension": ".py",
      "mimetype": "text/x-python",
      "name": "python",
      "nbconvert_exporter": "python",
      "pygments_lexer": "ipython3",
      "version": "3.8.2"
    }
  },
  "nbformat": 4,
  "nbformat_minor": 0
}