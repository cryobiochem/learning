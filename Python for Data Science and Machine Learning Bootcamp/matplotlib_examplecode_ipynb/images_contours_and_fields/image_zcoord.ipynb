{
  "cells": [
    {
      "cell_type": "code",
      "execution_count": null,
      "metadata": {
        "collapsed": false
      },
      "outputs": [],
      "source": [
        "%matplotlib inline"
      ]
    },
    {
      "cell_type": "markdown",
      "metadata": {},
      "source": [
        "\n# Modifying the coordinate formatter\n\n\nModify the coordinate formatter to report the image \"z\"\nvalue of the nearest pixel given x and y.\nThis functionality is built in by default, but it\nis still useful to show how to customize the\n`~.axes.Axes.format_coord` function.\n"
      ]
    },
    {
      "cell_type": "code",
      "execution_count": null,
      "metadata": {
        "collapsed": false
      },
      "outputs": [],
      "source": [
        "import numpy as np\nimport matplotlib.pyplot as plt\n\n# Fixing random state for reproducibility\nnp.random.seed(19680801)\n\n\nX = 10*np.random.rand(5, 3)\n\nfig, ax = plt.subplots()\nax.imshow(X, interpolation='nearest')\n\nnumrows, numcols = X.shape\n\n\ndef format_coord(x, y):\n    col = int(x + 0.5)\n    row = int(y + 0.5)\n    if col >= 0 and col < numcols and row >= 0 and row < numrows:\n        z = X[row, col]\n        return 'x=%1.4f, y=%1.4f, z=%1.4f' % (x, y, z)\n    else:\n        return 'x=%1.4f, y=%1.4f' % (x, y)\n\nax.format_coord = format_coord\nplt.show()"
      ]
    },
    {
      "cell_type": "markdown",
      "metadata": {},
      "source": [
        "------------\n\nReferences\n\"\"\"\"\"\"\"\"\"\"\n\nThe use of the following functions, methods, classes and modules is shown\nin this example:\n\n"
      ]
    },
    {
      "cell_type": "code",
      "execution_count": null,
      "metadata": {
        "collapsed": false
      },
      "outputs": [],
      "source": [
        "import matplotlib\nmatplotlib.axes.Axes.format_coord\nmatplotlib.axes.Axes.imshow"
      ]
    }
  ],
  "metadata": {
    "kernelspec": {
      "display_name": "Python 3",
      "language": "python",
      "name": "python3"
    },
    "language_info": {
      "codemirror_mode": {
        "name": "ipython",
        "version": 3
      },
      "file_extension": ".py",
      "mimetype": "text/x-python",
      "name": "python",
      "nbconvert_exporter": "python",
      "pygments_lexer": "ipython3",
      "version": "3.8.2"
    }
  },
  "nbformat": 4,
  "nbformat_minor": 0
}