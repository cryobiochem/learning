{
  "cells": [
    {
      "cell_type": "code",
      "execution_count": null,
      "metadata": {
        "collapsed": false
      },
      "outputs": [],
      "source": [
        "%matplotlib inline"
      ]
    },
    {
      "cell_type": "markdown",
      "metadata": {},
      "source": [
        "\n# Simple Axisartist1\n\n"
      ]
    },
    {
      "cell_type": "code",
      "execution_count": null,
      "metadata": {
        "collapsed": false
      },
      "outputs": [],
      "source": [
        "import matplotlib.pyplot as plt\nimport mpl_toolkits.axisartist as AA\n\nfig = plt.figure()\nfig.subplots_adjust(right=0.85)\nax = AA.Subplot(fig, 1, 1, 1)\nfig.add_subplot(ax)\n\n# make some axis invisible\nax.axis[\"bottom\", \"top\", \"right\"].set_visible(False)\n\n# make an new axis along the first axis axis (x-axis) which pass\n# through y=0.\nax.axis[\"y=0\"] = ax.new_floating_axis(nth_coord=0, value=0,\n                                      axis_direction=\"bottom\")\nax.axis[\"y=0\"].toggle(all=True)\nax.axis[\"y=0\"].label.set_text(\"y = 0\")\n\nax.set_ylim(-2, 4)\n\nplt.show()"
      ]
    }
  ],
  "metadata": {
    "kernelspec": {
      "display_name": "Python 3",
      "language": "python",
      "name": "python3"
    },
    "language_info": {
      "codemirror_mode": {
        "name": "ipython",
        "version": 3
      },
      "file_extension": ".py",
      "mimetype": "text/x-python",
      "name": "python",
      "nbconvert_exporter": "python",
      "pygments_lexer": "ipython3",
      "version": "3.8.2"
    }
  },
  "nbformat": 4,
  "nbformat_minor": 0
}