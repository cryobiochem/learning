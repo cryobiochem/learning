{
  "cells": [
    {
      "cell_type": "code",
      "execution_count": null,
      "metadata": {
        "collapsed": false
      },
      "outputs": [],
      "source": [
        "%matplotlib inline"
      ]
    },
    {
      "cell_type": "markdown",
      "metadata": {},
      "source": [
        "\n# Simple Axisline\n\n"
      ]
    },
    {
      "cell_type": "code",
      "execution_count": null,
      "metadata": {
        "collapsed": false
      },
      "outputs": [],
      "source": [
        "import matplotlib.pyplot as plt\n\nfrom mpl_toolkits.axisartist.axislines import SubplotZero\n\n\nfig = plt.figure()\nfig.subplots_adjust(right=0.85)\nax = SubplotZero(fig, 1, 1, 1)\nfig.add_subplot(ax)\n\n# make right and top axis invisible\nax.axis[\"right\"].set_visible(False)\nax.axis[\"top\"].set_visible(False)\n\n# make xzero axis (horizontal axis line through y=0) visible.\nax.axis[\"xzero\"].set_visible(True)\nax.axis[\"xzero\"].label.set_text(\"Axis Zero\")\n\nax.set_ylim(-2, 4)\nax.set_xlabel(\"Label X\")\nax.set_ylabel(\"Label Y\")\n# or\n#ax.axis[\"bottom\"].label.set_text(\"Label X\")\n#ax.axis[\"left\"].label.set_text(\"Label Y\")\n\n# make new (right-side) yaxis, but with some offset\noffset = (20, 0)\nnew_axisline = ax.get_grid_helper().new_fixed_axis\n\nax.axis[\"right2\"] = new_axisline(loc=\"right\", offset=offset, axes=ax)\nax.axis[\"right2\"].label.set_text(\"Label Y2\")\n\nax.plot([-2, 3, 2])\nplt.show()"
      ]
    }
  ],
  "metadata": {
    "kernelspec": {
      "display_name": "Python 3",
      "language": "python",
      "name": "python3"
    },
    "language_info": {
      "codemirror_mode": {
        "name": "ipython",
        "version": 3
      },
      "file_extension": ".py",
      "mimetype": "text/x-python",
      "name": "python",
      "nbconvert_exporter": "python",
      "pygments_lexer": "ipython3",
      "version": "3.8.2"
    }
  },
  "nbformat": 4,
  "nbformat_minor": 0
}