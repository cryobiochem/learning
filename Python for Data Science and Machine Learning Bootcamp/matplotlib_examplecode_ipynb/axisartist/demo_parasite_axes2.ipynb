{
  "cells": [
    {
      "cell_type": "code",
      "execution_count": null,
      "metadata": {
        "collapsed": false
      },
      "outputs": [],
      "source": [
        "%matplotlib inline"
      ]
    },
    {
      "cell_type": "markdown",
      "metadata": {},
      "source": [
        "\n# Demo Parasite Axes2\n\n\nParasite axis demo\n\nThe following code is an example of a parasite axis. It aims to show how\nto plot multiple different values onto one single plot. Notice how in this\nexample, par1 and par2 are both calling twinx meaning both are tied directly to\nthe x-axis. From there, each of those two axis can behave separately from the\neach other, meaning they can take on separate values from themselves as well as\nthe x-axis.\n\nNote that this approach uses the `mpl_toolkits.axes_grid1.parasite_axes`'\n`~mpl_toolkits.axes_grid1.parasite_axes.host_subplot` and\n`mpl_toolkits.axisartist.axislines.Axes`. An alternative approach using the\n`~mpl_toolkits.axes_grid1.parasite_axes`'s\n`~.mpl_toolkits.axes_grid1.parasite_axes.HostAxes` and\n`~.mpl_toolkits.axes_grid1.parasite_axes.ParasiteAxes` is the\n:doc:`/gallery/axisartist/demo_parasite_axes` example.\nAn alternative approach using the usual matplotlib subplots is shown in\nthe :doc:`/gallery/ticks_and_spines/multiple_yaxis_with_spines` example.\n"
      ]
    },
    {
      "cell_type": "code",
      "execution_count": null,
      "metadata": {
        "collapsed": false
      },
      "outputs": [],
      "source": [
        "from mpl_toolkits.axes_grid1 import host_subplot\nimport mpl_toolkits.axisartist as AA\nimport matplotlib.pyplot as plt\n\nhost = host_subplot(111, axes_class=AA.Axes)\nplt.subplots_adjust(right=0.75)\n\npar1 = host.twinx()\npar2 = host.twinx()\n\noffset = 60\nnew_fixed_axis = par2.get_grid_helper().new_fixed_axis\npar2.axis[\"right\"] = new_fixed_axis(loc=\"right\",\n                                    axes=par2,\n                                    offset=(offset, 0))\n\npar1.axis[\"right\"].toggle(all=True)\npar2.axis[\"right\"].toggle(all=True)\n\nhost.set_xlim(0, 2)\nhost.set_ylim(0, 2)\n\nhost.set_xlabel(\"Distance\")\nhost.set_ylabel(\"Density\")\npar1.set_ylabel(\"Temperature\")\npar2.set_ylabel(\"Velocity\")\n\np1, = host.plot([0, 1, 2], [0, 1, 2], label=\"Density\")\np2, = par1.plot([0, 1, 2], [0, 3, 2], label=\"Temperature\")\np3, = par2.plot([0, 1, 2], [50, 30, 15], label=\"Velocity\")\n\npar1.set_ylim(0, 4)\npar2.set_ylim(1, 65)\n\nhost.legend()\n\nhost.axis[\"left\"].label.set_color(p1.get_color())\npar1.axis[\"right\"].label.set_color(p2.get_color())\npar2.axis[\"right\"].label.set_color(p3.get_color())\n\nplt.show()"
      ]
    }
  ],
  "metadata": {
    "kernelspec": {
      "display_name": "Python 3",
      "language": "python",
      "name": "python3"
    },
    "language_info": {
      "codemirror_mode": {
        "name": "ipython",
        "version": 3
      },
      "file_extension": ".py",
      "mimetype": "text/x-python",
      "name": "python",
      "nbconvert_exporter": "python",
      "pygments_lexer": "ipython3",
      "version": "3.8.2"
    }
  },
  "nbformat": 4,
  "nbformat_minor": 0
}