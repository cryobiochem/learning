{
  "cells": [
    {
      "cell_type": "code",
      "execution_count": null,
      "metadata": {
        "collapsed": false
      },
      "outputs": [],
      "source": [
        "%matplotlib inline"
      ]
    },
    {
      "cell_type": "markdown",
      "metadata": {},
      "source": [
        "\n# Demo Axis Direction\n\n"
      ]
    },
    {
      "cell_type": "code",
      "execution_count": null,
      "metadata": {
        "collapsed": false
      },
      "outputs": [],
      "source": [
        "import numpy as np\nimport matplotlib.pyplot as plt\nimport mpl_toolkits.axisartist.angle_helper as angle_helper\nimport mpl_toolkits.axisartist.grid_finder as grid_finder\nfrom matplotlib.projections import PolarAxes\nfrom matplotlib.transforms import Affine2D\n\nimport mpl_toolkits.axisartist as axisartist\n\nfrom mpl_toolkits.axisartist.grid_helper_curvelinear import \\\n    GridHelperCurveLinear\n\n\ndef setup_axes(fig, rect):\n    \"\"\"Polar projection, but in a rectangular box.\"\"\"\n\n    # see demo_curvelinear_grid.py for details\n    tr = Affine2D().scale(np.pi/180., 1.) + PolarAxes.PolarTransform()\n\n    extreme_finder = angle_helper.ExtremeFinderCycle(20, 20,\n                                                     lon_cycle=360,\n                                                     lat_cycle=None,\n                                                     lon_minmax=None,\n                                                     lat_minmax=(0, np.inf),\n                                                     )\n\n    grid_locator1 = angle_helper.LocatorDMS(12)\n    grid_locator2 = grid_finder.MaxNLocator(5)\n\n    tick_formatter1 = angle_helper.FormatterDMS()\n\n    grid_helper = GridHelperCurveLinear(tr,\n                                        extreme_finder=extreme_finder,\n                                        grid_locator1=grid_locator1,\n                                        grid_locator2=grid_locator2,\n                                        tick_formatter1=tick_formatter1\n                                        )\n\n    ax1 = axisartist.Subplot(fig, rect, grid_helper=grid_helper)\n    ax1.axis[:].toggle(ticklabels=False)\n\n    fig.add_subplot(ax1)\n\n    ax1.set_aspect(1.)\n    ax1.set_xlim(-5, 12)\n    ax1.set_ylim(-5, 10)\n\n    return ax1\n\n\ndef add_floating_axis1(ax1):\n    ax1.axis[\"lat\"] = axis = ax1.new_floating_axis(0, 30)\n    axis.label.set_text(r\"$\\theta = 30^{\\circ}$\")\n    axis.label.set_visible(True)\n\n    return axis\n\n\ndef add_floating_axis2(ax1):\n    ax1.axis[\"lon\"] = axis = ax1.new_floating_axis(1, 6)\n    axis.label.set_text(r\"$r = 6$\")\n    axis.label.set_visible(True)\n\n    return axis\n\n\nfig = plt.figure(figsize=(8, 4))\nfig.subplots_adjust(left=0.01, right=0.99, bottom=0.01, top=0.99,\n                    wspace=0.01, hspace=0.01)\n\nfor i, d in enumerate([\"bottom\", \"left\", \"top\", \"right\"]):\n    ax1 = setup_axes(fig, rect=241++i)\n    axis = add_floating_axis1(ax1)\n    axis.set_axis_direction(d)\n    ax1.annotate(d, (0, 1), (5, -5),\n                 xycoords=\"axes fraction\", textcoords=\"offset points\",\n                 va=\"top\", ha=\"left\")\n\nfor i, d in enumerate([\"bottom\", \"left\", \"top\", \"right\"]):\n    ax1 = setup_axes(fig, rect=245++i)\n    axis = add_floating_axis2(ax1)\n    axis.set_axis_direction(d)\n    ax1.annotate(d, (0, 1), (5, -5),\n                 xycoords=\"axes fraction\", textcoords=\"offset points\",\n                 va=\"top\", ha=\"left\")\n\nplt.show()"
      ]
    }
  ],
  "metadata": {
    "kernelspec": {
      "display_name": "Python 3",
      "language": "python",
      "name": "python3"
    },
    "language_info": {
      "codemirror_mode": {
        "name": "ipython",
        "version": 3
      },
      "file_extension": ".py",
      "mimetype": "text/x-python",
      "name": "python",
      "nbconvert_exporter": "python",
      "pygments_lexer": "ipython3",
      "version": "3.8.2"
    }
  },
  "nbformat": 4,
  "nbformat_minor": 0
}