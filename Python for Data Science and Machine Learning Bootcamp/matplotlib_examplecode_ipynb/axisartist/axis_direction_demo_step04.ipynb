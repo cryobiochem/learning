{
  "cells": [
    {
      "cell_type": "code",
      "execution_count": null,
      "metadata": {
        "collapsed": false
      },
      "outputs": [],
      "source": [
        "%matplotlib inline"
      ]
    },
    {
      "cell_type": "markdown",
      "metadata": {},
      "source": [
        "\n# Axis Direction Demo Step04\n\n"
      ]
    },
    {
      "cell_type": "code",
      "execution_count": null,
      "metadata": {
        "collapsed": false
      },
      "outputs": [],
      "source": [
        "import matplotlib.pyplot as plt\nimport mpl_toolkits.axisartist as axisartist\n\n\ndef setup_axes(fig, rect):\n    ax = axisartist.Subplot(fig, rect)\n    fig.add_axes(ax)\n\n    ax.set_ylim(-0.1, 1.5)\n    ax.set_yticks([0, 1])\n\n    ax.axis[:].set_visible(False)\n\n    ax.axis[\"x1\"] = ax.new_floating_axis(1, 0.3)\n    ax.axis[\"x1\"].set_axisline_style(\"->\", size=1.5)\n\n    ax.axis[\"x2\"] = ax.new_floating_axis(1, 0.7)\n    ax.axis[\"x2\"].set_axisline_style(\"->\", size=1.5)\n\n    return ax\n\n\nfig = plt.figure(figsize=(6, 2.5))\nfig.subplots_adjust(bottom=0.2, top=0.8)\n\nax1 = setup_axes(fig, \"121\")\nax1.axis[\"x1\"].label.set_text(\"rotation=0\")\nax1.axis[\"x1\"].toggle(ticklabels=False)\n\nax1.axis[\"x2\"].label.set_text(\"rotation=10\")\nax1.axis[\"x2\"].label.set_rotation(10)\nax1.axis[\"x2\"].toggle(ticklabels=False)\n\nax1.annotate(\"label direction=$+$\", (0.5, 0), xycoords=\"axes fraction\",\n             xytext=(0, -10), textcoords=\"offset points\",\n             va=\"top\", ha=\"center\")\n\nax2 = setup_axes(fig, \"122\")\n\nax2.axis[\"x1\"].set_axislabel_direction(\"-\")\nax2.axis[\"x2\"].set_axislabel_direction(\"-\")\n\nax2.axis[\"x1\"].label.set_text(\"rotation=0\")\nax2.axis[\"x1\"].toggle(ticklabels=False)\n\nax2.axis[\"x2\"].label.set_text(\"rotation=10\")\nax2.axis[\"x2\"].label.set_rotation(10)\nax2.axis[\"x2\"].toggle(ticklabels=False)\n\nax2.annotate(\"label direction=$-$\", (0.5, 0), xycoords=\"axes fraction\",\n             xytext=(0, -10), textcoords=\"offset points\",\n             va=\"top\", ha=\"center\")\n\nplt.show()"
      ]
    }
  ],
  "metadata": {
    "kernelspec": {
      "display_name": "Python 3",
      "language": "python",
      "name": "python3"
    },
    "language_info": {
      "codemirror_mode": {
        "name": "ipython",
        "version": 3
      },
      "file_extension": ".py",
      "mimetype": "text/x-python",
      "name": "python",
      "nbconvert_exporter": "python",
      "pygments_lexer": "ipython3",
      "version": "3.8.2"
    }
  },
  "nbformat": 4,
  "nbformat_minor": 0
}