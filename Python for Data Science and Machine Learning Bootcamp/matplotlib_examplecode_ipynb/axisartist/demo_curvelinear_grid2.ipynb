{
  "cells": [
    {
      "cell_type": "code",
      "execution_count": null,
      "metadata": {
        "collapsed": false
      },
      "outputs": [],
      "source": [
        "%matplotlib inline"
      ]
    },
    {
      "cell_type": "markdown",
      "metadata": {},
      "source": [
        "\n# Demo Curvelinear Grid2\n\n\nCustom grid and ticklines.\n\nThis example demonstrates how to use GridHelperCurveLinear to define\ncustom grids and ticklines by applying a transformation on the grid.\nAs showcase on the plot, a 5x5 matrix is displayed on the axes.\n"
      ]
    },
    {
      "cell_type": "code",
      "execution_count": null,
      "metadata": {
        "collapsed": false
      },
      "outputs": [],
      "source": [
        "import numpy as np\nimport matplotlib.pyplot as plt\n\nfrom mpl_toolkits.axisartist.grid_helper_curvelinear import \\\n    GridHelperCurveLinear\nfrom mpl_toolkits.axisartist.grid_finder import MaxNLocator\nfrom mpl_toolkits.axisartist.axislines import Subplot\n\nimport mpl_toolkits.axisartist.angle_helper as angle_helper\n\n\ndef curvelinear_test1(fig):\n    \"\"\"Grid for custom transform.\"\"\"\n\n    def tr(x, y):\n        sgn = np.sign(x)\n        x, y = np.abs(np.asarray(x)), np.asarray(y)\n        return sgn*x**.5, y\n\n    def inv_tr(x, y):\n        sgn = np.sign(x)\n        x, y = np.asarray(x), np.asarray(y)\n        return sgn*x**2, y\n\n    extreme_finder = angle_helper.ExtremeFinderCycle(20, 20,\n                                                     lon_cycle=None,\n                                                     lat_cycle=None,\n                                                     # (0, np.inf),\n                                                     lon_minmax=None,\n                                                     lat_minmax=None,\n                                                     )\n\n    grid_helper = GridHelperCurveLinear((tr, inv_tr),\n                                        extreme_finder=extreme_finder,\n                                        # better tick density\n                                        grid_locator1=MaxNLocator(nbins=6),\n                                        grid_locator2=MaxNLocator(nbins=6))\n\n    ax1 = Subplot(fig, 111, grid_helper=grid_helper)\n    # ax1 will have a ticks and gridlines defined by the given\n    # transform (+ transData of the Axes). Note that the transform of\n    # the Axes itself (i.e., transData) is not affected by the given\n    # transform.\n\n    fig.add_subplot(ax1)\n\n    ax1.imshow(np.arange(25).reshape(5, 5),\n               vmax=50, cmap=plt.cm.gray_r,\n               interpolation=\"nearest\",\n               origin=\"lower\")\n\n\nif __name__ == \"__main__\":\n    fig = plt.figure(figsize=(7, 4))\n    curvelinear_test1(fig)\n    plt.show()"
      ]
    }
  ],
  "metadata": {
    "kernelspec": {
      "display_name": "Python 3",
      "language": "python",
      "name": "python3"
    },
    "language_info": {
      "codemirror_mode": {
        "name": "ipython",
        "version": 3
      },
      "file_extension": ".py",
      "mimetype": "text/x-python",
      "name": "python",
      "nbconvert_exporter": "python",
      "pygments_lexer": "ipython3",
      "version": "3.8.2"
    }
  },
  "nbformat": 4,
  "nbformat_minor": 0
}