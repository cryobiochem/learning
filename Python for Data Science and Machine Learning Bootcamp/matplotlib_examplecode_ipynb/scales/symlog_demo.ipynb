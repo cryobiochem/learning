{
  "cells": [
    {
      "cell_type": "code",
      "execution_count": null,
      "metadata": {
        "collapsed": false
      },
      "outputs": [],
      "source": [
        "%matplotlib inline"
      ]
    },
    {
      "cell_type": "markdown",
      "metadata": {},
      "source": [
        "\n# Symlog Demo\n\n\nExample use of symlog (symmetric log) axis scaling.\n"
      ]
    },
    {
      "cell_type": "code",
      "execution_count": null,
      "metadata": {
        "collapsed": false
      },
      "outputs": [],
      "source": [
        "import matplotlib.pyplot as plt\nimport numpy as np\n\ndt = 0.01\nx = np.arange(-50.0, 50.0, dt)\ny = np.arange(0, 100.0, dt)\n\nplt.subplot(311)\nplt.plot(x, y)\nplt.xscale('symlog')\nplt.ylabel('symlogx')\nplt.grid(True)\nplt.gca().xaxis.grid(True, which='minor')  # minor grid on too\n\nplt.subplot(312)\nplt.plot(y, x)\nplt.yscale('symlog')\nplt.ylabel('symlogy')\n\nplt.subplot(313)\nplt.plot(x, np.sin(x / 3.0))\nplt.xscale('symlog')\nplt.yscale('symlog', linthreshy=0.015)\nplt.grid(True)\nplt.ylabel('symlog both')\n\nplt.tight_layout()\nplt.show()"
      ]
    }
  ],
  "metadata": {
    "kernelspec": {
      "display_name": "Python 3",
      "language": "python",
      "name": "python3"
    },
    "language_info": {
      "codemirror_mode": {
        "name": "ipython",
        "version": 3
      },
      "file_extension": ".py",
      "mimetype": "text/x-python",
      "name": "python",
      "nbconvert_exporter": "python",
      "pygments_lexer": "ipython3",
      "version": "3.8.2"
    }
  },
  "nbformat": 4,
  "nbformat_minor": 0
}