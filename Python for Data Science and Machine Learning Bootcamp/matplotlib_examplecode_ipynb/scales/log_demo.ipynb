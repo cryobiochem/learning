{
  "cells": [
    {
      "cell_type": "code",
      "execution_count": null,
      "metadata": {
        "collapsed": false
      },
      "outputs": [],
      "source": [
        "%matplotlib inline"
      ]
    },
    {
      "cell_type": "markdown",
      "metadata": {},
      "source": [
        "\n# Log Demo\n\n\nExamples of plots with logarithmic axes.\n"
      ]
    },
    {
      "cell_type": "code",
      "execution_count": null,
      "metadata": {
        "collapsed": false
      },
      "outputs": [],
      "source": [
        "import numpy as np\nimport matplotlib.pyplot as plt\n\n# Data for plotting\nt = np.arange(0.01, 20.0, 0.01)\n\n# Create figure\nfig, ((ax1, ax2), (ax3, ax4)) = plt.subplots(2, 2)\n\n# log y axis\nax1.semilogy(t, np.exp(-t / 5.0))\nax1.set(title='semilogy')\nax1.grid()\n\n# log x axis\nax2.semilogx(t, np.sin(2 * np.pi * t))\nax2.set(title='semilogx')\nax2.grid()\n\n# log x and y axis\nax3.loglog(t, 20 * np.exp(-t / 10.0), basex=2)\nax3.set(title='loglog base 2 on x')\nax3.grid()\n\n# With errorbars: clip non-positive values\n# Use new data for plotting\nx = 10.0**np.linspace(0.0, 2.0, 20)\ny = x**2.0\n\nax4.set_xscale(\"log\", nonposx='clip')\nax4.set_yscale(\"log\", nonposy='clip')\nax4.set(title='Errorbars go negative')\nax4.errorbar(x, y, xerr=0.1 * x, yerr=5.0 + 0.75 * y)\n# ylim must be set after errorbar to allow errorbar to autoscale limits\nax4.set_ylim(bottom=0.1)\n\nfig.tight_layout()\nplt.show()"
      ]
    }
  ],
  "metadata": {
    "kernelspec": {
      "display_name": "Python 3",
      "language": "python",
      "name": "python3"
    },
    "language_info": {
      "codemirror_mode": {
        "name": "ipython",
        "version": 3
      },
      "file_extension": ".py",
      "mimetype": "text/x-python",
      "name": "python",
      "nbconvert_exporter": "python",
      "pygments_lexer": "ipython3",
      "version": "3.8.2"
    }
  },
  "nbformat": 4,
  "nbformat_minor": 0
}