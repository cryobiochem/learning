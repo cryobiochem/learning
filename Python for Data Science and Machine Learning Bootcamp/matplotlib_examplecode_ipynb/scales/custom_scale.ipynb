{
  "cells": [
    {
      "cell_type": "code",
      "execution_count": null,
      "metadata": {
        "collapsed": false
      },
      "outputs": [],
      "source": [
        "%matplotlib inline"
      ]
    },
    {
      "cell_type": "markdown",
      "metadata": {},
      "source": [
        "\n# Custom scale\n\n\nCreate a custom scale, by implementing the scaling use for latitude data in a\nMercator Projection.\n\nUnless you are making special use of the `~.Transform` class, you probably\ndon't need to use this verbose method, and instead can use\n`~.matplotlib.scale.FuncScale` and the ``'function'`` option of\n`~.matplotlib.axes.Axes.set_xscale` and `~.matplotlib.axes.Axes.set_yscale`.\nSee the last example in :doc:`/gallery/scales/scales`.\n"
      ]
    },
    {
      "cell_type": "code",
      "execution_count": null,
      "metadata": {
        "collapsed": false
      },
      "outputs": [],
      "source": [
        "import numpy as np\nfrom numpy import ma\nfrom matplotlib import scale as mscale\nfrom matplotlib import transforms as mtransforms\nfrom matplotlib.ticker import Formatter, FixedLocator\nfrom matplotlib import rcParams\n\n\n# BUG: this example fails with any other setting of axisbelow\nrcParams['axes.axisbelow'] = False\n\n\nclass MercatorLatitudeScale(mscale.ScaleBase):\n    \"\"\"\n    Scales data in range -pi/2 to pi/2 (-90 to 90 degrees) using\n    the system used to scale latitudes in a Mercator projection.\n\n    The scale function:\n      ln(tan(y) + sec(y))\n\n    The inverse scale function:\n      atan(sinh(y))\n\n    Since the Mercator scale tends to infinity at +/- 90 degrees,\n    there is user-defined threshold, above and below which nothing\n    will be plotted.  This defaults to +/- 85 degrees.\n\n    source:\n    http://en.wikipedia.org/wiki/Mercator_projection\n    \"\"\"\n\n    # The scale class must have a member ``name`` that defines the string used\n    # to select the scale.  For example, ``gca().set_yscale(\"mercator\")`` would\n    # be used to select this scale.\n    name = 'mercator'\n\n    def __init__(self, axis, *, thresh=np.deg2rad(85), **kwargs):\n        \"\"\"\n        Any keyword arguments passed to ``set_xscale`` and ``set_yscale`` will\n        be passed along to the scale's constructor.\n\n        thresh: The degree above which to crop the data.\n        \"\"\"\n        super().__init__(axis)\n        if thresh >= np.pi / 2:\n            raise ValueError(\"thresh must be less than pi/2\")\n        self.thresh = thresh\n\n    def get_transform(self):\n        \"\"\"\n        Override this method to return a new instance that does the\n        actual transformation of the data.\n\n        The MercatorLatitudeTransform class is defined below as a\n        nested class of this one.\n        \"\"\"\n        return self.MercatorLatitudeTransform(self.thresh)\n\n    def set_default_locators_and_formatters(self, axis):\n        \"\"\"\n        Override to set up the locators and formatters to use with the\n        scale.  This is only required if the scale requires custom\n        locators and formatters.  Writing custom locators and\n        formatters is rather outside the scope of this example, but\n        there are many helpful examples in ``ticker.py``.\n\n        In our case, the Mercator example uses a fixed locator from\n        -90 to 90 degrees and a custom formatter class to put convert\n        the radians to degrees and put a degree symbol after the\n        value::\n        \"\"\"\n        class DegreeFormatter(Formatter):\n            def __call__(self, x, pos=None):\n                return \"%d\\N{DEGREE SIGN}\" % np.degrees(x)\n\n        axis.set_major_locator(FixedLocator(\n            np.radians(np.arange(-90, 90, 10))))\n        axis.set_major_formatter(DegreeFormatter())\n        axis.set_minor_formatter(DegreeFormatter())\n\n    def limit_range_for_scale(self, vmin, vmax, minpos):\n        \"\"\"\n        Override to limit the bounds of the axis to the domain of the\n        transform.  In the case of Mercator, the bounds should be\n        limited to the threshold that was passed in.  Unlike the\n        autoscaling provided by the tick locators, this range limiting\n        will always be adhered to, whether the axis range is set\n        manually, determined automatically or changed through panning\n        and zooming.\n        \"\"\"\n        return max(vmin, -self.thresh), min(vmax, self.thresh)\n\n    class MercatorLatitudeTransform(mtransforms.Transform):\n        # There are two value members that must be defined.\n        # ``input_dims`` and ``output_dims`` specify number of input\n        # dimensions and output dimensions to the transformation.\n        # These are used by the transformation framework to do some\n        # error checking and prevent incompatible transformations from\n        # being connected together.  When defining transforms for a\n        # scale, which are, by definition, separable and have only one\n        # dimension, these members should always be set to 1.\n        input_dims = output_dims = 1\n\n        def __init__(self, thresh):\n            mtransforms.Transform.__init__(self)\n            self.thresh = thresh\n\n        def transform_non_affine(self, a):\n            \"\"\"\n            This transform takes an Nx1 ``numpy`` array and returns a\n            transformed copy.  Since the range of the Mercator scale\n            is limited by the user-specified threshold, the input\n            array must be masked to contain only valid values.\n            ``matplotlib`` will handle masked arrays and remove the\n            out-of-range data from the plot.  Importantly, the\n            ``transform`` method *must* return an array that is the\n            same shape as the input array, since these values need to\n            remain synchronized with values in the other dimension.\n            \"\"\"\n            masked = ma.masked_where((a < -self.thresh) | (a > self.thresh), a)\n            if masked.mask.any():\n                return ma.log(np.abs(ma.tan(masked) + 1.0 / ma.cos(masked)))\n            else:\n                return np.log(np.abs(np.tan(a) + 1.0 / np.cos(a)))\n\n        def inverted(self):\n            \"\"\"\n            Override this method so matplotlib knows how to get the\n            inverse transform for this transform.\n            \"\"\"\n            return MercatorLatitudeScale.InvertedMercatorLatitudeTransform(\n                self.thresh)\n\n    class InvertedMercatorLatitudeTransform(mtransforms.Transform):\n        input_dims = output_dims = 1\n\n        def __init__(self, thresh):\n            mtransforms.Transform.__init__(self)\n            self.thresh = thresh\n\n        def transform_non_affine(self, a):\n            return np.arctan(np.sinh(a))\n\n        def inverted(self):\n            return MercatorLatitudeScale.MercatorLatitudeTransform(self.thresh)\n\n\n# Now that the Scale class has been defined, it must be registered so\n# that ``matplotlib`` can find it.\nmscale.register_scale(MercatorLatitudeScale)\n\n\nif __name__ == '__main__':\n    import matplotlib.pyplot as plt\n\n    t = np.arange(-180.0, 180.0, 0.1)\n    s = np.radians(t)/2.\n\n    plt.plot(t, s, '-', lw=2)\n    plt.gca().set_yscale('mercator')\n\n    plt.xlabel('Longitude')\n    plt.ylabel('Latitude')\n    plt.title('Mercator: Projection of the Oppressor')\n    plt.grid(True)\n\n    plt.show()"
      ]
    }
  ],
  "metadata": {
    "kernelspec": {
      "display_name": "Python 3",
      "language": "python",
      "name": "python3"
    },
    "language_info": {
      "codemirror_mode": {
        "name": "ipython",
        "version": 3
      },
      "file_extension": ".py",
      "mimetype": "text/x-python",
      "name": "python",
      "nbconvert_exporter": "python",
      "pygments_lexer": "ipython3",
      "version": "3.8.2"
    }
  },
  "nbformat": 4,
  "nbformat_minor": 0
}