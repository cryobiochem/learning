{
  "cells": [
    {
      "cell_type": "code",
      "execution_count": null,
      "metadata": {
        "collapsed": false
      },
      "outputs": [],
      "source": [
        "%matplotlib inline"
      ]
    },
    {
      "cell_type": "markdown",
      "metadata": {},
      "source": [
        "\n# Pgf Texsystem\n\n"
      ]
    },
    {
      "cell_type": "code",
      "execution_count": null,
      "metadata": {
        "collapsed": false
      },
      "outputs": [],
      "source": [
        "import matplotlib.pyplot as plt\nplt.rcParams.update({\n    \"pgf.texsystem\": \"pdflatex\",\n    \"pgf.preamble\": [\n         r\"\\usepackage[utf8x]{inputenc}\",\n         r\"\\usepackage[T1]{fontenc}\",\n         r\"\\usepackage{cmbright}\",\n         ]\n})\n\nplt.figure(figsize=(4.5, 2.5))\nplt.plot(range(5))\nplt.text(0.5, 3., \"serif\", family=\"serif\")\nplt.text(0.5, 2., \"monospace\", family=\"monospace\")\nplt.text(2.5, 2., \"sans-serif\", family=\"sans-serif\")\nplt.xlabel(r\"\u00b5 is not $\\mu$\")\nplt.tight_layout(.5)\n\nplt.savefig(\"pgf_texsystem.pdf\")\nplt.savefig(\"pgf_texsystem.png\")"
      ]
    }
  ],
  "metadata": {
    "kernelspec": {
      "display_name": "Python 3",
      "language": "python",
      "name": "python3"
    },
    "language_info": {
      "codemirror_mode": {
        "name": "ipython",
        "version": 3
      },
      "file_extension": ".py",
      "mimetype": "text/x-python",
      "name": "python",
      "nbconvert_exporter": "python",
      "pygments_lexer": "ipython3",
      "version": "3.8.2"
    }
  },
  "nbformat": 4,
  "nbformat_minor": 0
}