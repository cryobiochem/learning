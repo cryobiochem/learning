{
  "cells": [
    {
      "cell_type": "code",
      "execution_count": null,
      "metadata": {
        "collapsed": false
      },
      "outputs": [],
      "source": [
        "%matplotlib inline"
      ]
    },
    {
      "cell_type": "markdown",
      "metadata": {},
      "source": [
        "\n# Custom Boxstyle01\n\n"
      ]
    },
    {
      "cell_type": "code",
      "execution_count": null,
      "metadata": {
        "collapsed": false
      },
      "outputs": [],
      "source": [
        "from matplotlib.path import Path\n\n\ndef custom_box_style(x0, y0, width, height, mutation_size, mutation_aspect=1):\n    \"\"\"\n    Given the location and size of the box, return the path of\n    the box around it.\n\n     - *x0*, *y0*, *width*, *height* : location and size of the box\n     - *mutation_size* : a reference scale for the mutation.\n     - *aspect_ratio* : aspect-ration for the mutation.\n    \"\"\"\n\n    # note that we are ignoring mutation_aspect. This is okay in general.\n\n    # padding\n    mypad = 0.3\n    pad = mutation_size * mypad\n\n    # width and height with padding added.\n    width = width + 2 * pad\n    height = height + 2 * pad\n\n    # boundary of the padded box\n    x0, y0 = x0 - pad, y0 - pad\n    x1, y1 = x0 + width, y0 + height\n\n    cp = [(x0, y0),\n          (x1, y0), (x1, y1), (x0, y1),\n          (x0-pad, (y0+y1)/2.), (x0, y0),\n          (x0, y0)]\n\n    com = [Path.MOVETO,\n           Path.LINETO, Path.LINETO, Path.LINETO,\n           Path.LINETO, Path.LINETO,\n           Path.CLOSEPOLY]\n\n    path = Path(cp, com)\n\n    return path\n\n\nimport matplotlib.pyplot as plt\n\nfig, ax = plt.subplots(figsize=(3, 3))\nax.text(0.5, 0.5, \"Test\", size=30, va=\"center\", ha=\"center\",\n        bbox=dict(boxstyle=custom_box_style, alpha=0.2))\n\nplt.show()"
      ]
    }
  ],
  "metadata": {
    "kernelspec": {
      "display_name": "Python 3",
      "language": "python",
      "name": "python3"
    },
    "language_info": {
      "codemirror_mode": {
        "name": "ipython",
        "version": 3
      },
      "file_extension": ".py",
      "mimetype": "text/x-python",
      "name": "python",
      "nbconvert_exporter": "python",
      "pygments_lexer": "ipython3",
      "version": "3.8.2"
    }
  },
  "nbformat": 4,
  "nbformat_minor": 0
}