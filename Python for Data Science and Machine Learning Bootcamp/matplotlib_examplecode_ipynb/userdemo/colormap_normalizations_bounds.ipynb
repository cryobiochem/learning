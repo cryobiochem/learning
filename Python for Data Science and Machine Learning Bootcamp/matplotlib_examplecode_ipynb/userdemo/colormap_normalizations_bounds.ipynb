{
  "cells": [
    {
      "cell_type": "code",
      "execution_count": null,
      "metadata": {
        "collapsed": false
      },
      "outputs": [],
      "source": [
        "%matplotlib inline"
      ]
    },
    {
      "cell_type": "markdown",
      "metadata": {},
      "source": [
        "\n# Colormap Normalizations Bounds\n\n\nDemonstration of using norm to map colormaps onto data in non-linear ways.\n"
      ]
    },
    {
      "cell_type": "code",
      "execution_count": null,
      "metadata": {
        "collapsed": false
      },
      "outputs": [],
      "source": [
        "import numpy as np\nimport matplotlib.pyplot as plt\nimport matplotlib.colors as colors\n\nN = 100\nX, Y = np.mgrid[-3:3:complex(0, N), -2:2:complex(0, N)]\nZ1 = np.exp(-X**2 - Y**2)\nZ2 = np.exp(-(X - 1)**2 - (Y - 1)**2)\nZ = (Z1 - Z2) * 2\n\n'''\nBoundaryNorm: For this one you provide the boundaries for your colors,\nand the Norm puts the first color in between the first pair, the\nsecond color between the second pair, etc.\n'''\n\nfig, ax = plt.subplots(3, 1, figsize=(8, 8))\nax = ax.flatten()\n# even bounds gives a contour-like effect\nbounds = np.linspace(-1, 1, 10)\nnorm = colors.BoundaryNorm(boundaries=bounds, ncolors=256)\npcm = ax[0].pcolormesh(X, Y, Z,\n                       norm=norm,\n                       cmap='RdBu_r')\nfig.colorbar(pcm, ax=ax[0], extend='both', orientation='vertical')\n\n# uneven bounds changes the colormapping:\nbounds = np.array([-0.25, -0.125, 0, 0.5, 1])\nnorm = colors.BoundaryNorm(boundaries=bounds, ncolors=256)\npcm = ax[1].pcolormesh(X, Y, Z, norm=norm, cmap='RdBu_r')\nfig.colorbar(pcm, ax=ax[1], extend='both', orientation='vertical')\n\npcm = ax[2].pcolormesh(X, Y, Z, cmap='RdBu_r', vmin=-np.max(Z))\nfig.colorbar(pcm, ax=ax[2], extend='both', orientation='vertical')\n\nplt.show()"
      ]
    }
  ],
  "metadata": {
    "kernelspec": {
      "display_name": "Python 3",
      "language": "python",
      "name": "python3"
    },
    "language_info": {
      "codemirror_mode": {
        "name": "ipython",
        "version": 3
      },
      "file_extension": ".py",
      "mimetype": "text/x-python",
      "name": "python",
      "nbconvert_exporter": "python",
      "pygments_lexer": "ipython3",
      "version": "3.8.2"
    }
  },
  "nbformat": 4,
  "nbformat_minor": 0
}