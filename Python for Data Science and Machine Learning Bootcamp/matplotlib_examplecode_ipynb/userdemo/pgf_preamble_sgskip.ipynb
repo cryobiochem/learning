{
  "cells": [
    {
      "cell_type": "code",
      "execution_count": null,
      "metadata": {
        "collapsed": false
      },
      "outputs": [],
      "source": [
        "%matplotlib inline"
      ]
    },
    {
      "cell_type": "markdown",
      "metadata": {},
      "source": [
        "\n# Pgf Preamble\n\n"
      ]
    },
    {
      "cell_type": "code",
      "execution_count": null,
      "metadata": {
        "collapsed": false
      },
      "outputs": [],
      "source": [
        "import matplotlib as mpl\nmpl.use(\"pgf\")\nimport matplotlib.pyplot as plt\nplt.rcParams.update({\n    \"font.family\": \"serif\",  # use serif/main font for text elements\n    \"text.usetex\": True,     # use inline math for ticks\n    \"pgf.rcfonts\": False,    # don't setup fonts from rc parameters\n    \"pgf.preamble\": [\n         \"\\\\usepackage{units}\",          # load additional packages\n         \"\\\\usepackage{metalogo}\",\n         \"\\\\usepackage{unicode-math}\",   # unicode math setup\n         r\"\\setmathfont{xits-math.otf}\",\n         r\"\\setmainfont{DejaVu Serif}\",  # serif font via preamble\n         ]\n})\n\nplt.figure(figsize=(4.5, 2.5))\nplt.plot(range(5))\nplt.xlabel(\"unicode text: \u044f, \u03c8, \u20ac, \u00fc, \\\\unitfrac[10]{\u00b0}{\u00b5m}\")\nplt.ylabel(\"\\\\XeLaTeX\")\nplt.legend([\"unicode math: $\u03bb=\u2211_i^\u221e \u03bc_i^2$\"])\nplt.tight_layout(.5)\n\nplt.savefig(\"pgf_preamble.pdf\")\nplt.savefig(\"pgf_preamble.png\")"
      ]
    }
  ],
  "metadata": {
    "kernelspec": {
      "display_name": "Python 3",
      "language": "python",
      "name": "python3"
    },
    "language_info": {
      "codemirror_mode": {
        "name": "ipython",
        "version": 3
      },
      "file_extension": ".py",
      "mimetype": "text/x-python",
      "name": "python",
      "nbconvert_exporter": "python",
      "pygments_lexer": "ipython3",
      "version": "3.8.2"
    }
  },
  "nbformat": 4,
  "nbformat_minor": 0
}