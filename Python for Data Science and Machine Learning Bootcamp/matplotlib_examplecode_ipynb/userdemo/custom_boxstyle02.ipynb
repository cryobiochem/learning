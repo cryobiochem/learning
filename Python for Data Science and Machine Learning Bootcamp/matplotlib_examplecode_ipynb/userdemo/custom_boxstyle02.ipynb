{
  "cells": [
    {
      "cell_type": "code",
      "execution_count": null,
      "metadata": {
        "collapsed": false
      },
      "outputs": [],
      "source": [
        "%matplotlib inline"
      ]
    },
    {
      "cell_type": "markdown",
      "metadata": {},
      "source": [
        "\n# Custom Boxstyle02\n\n"
      ]
    },
    {
      "cell_type": "code",
      "execution_count": null,
      "metadata": {
        "collapsed": false
      },
      "outputs": [],
      "source": [
        "from matplotlib.path import Path\nfrom matplotlib.patches import BoxStyle\nimport matplotlib.pyplot as plt\n\n\n# we may derive from matplotlib.patches.BoxStyle._Base class.\n# You need to override transmute method in this case.\nclass MyStyle(BoxStyle._Base):\n    \"\"\"\n    A simple box.\n    \"\"\"\n\n    def __init__(self, pad=0.3):\n        \"\"\"\n        The arguments need to be floating numbers and need to have\n        default values.\n\n         *pad*\n            amount of padding\n        \"\"\"\n\n        self.pad = pad\n        super().__init__()\n\n    def transmute(self, x0, y0, width, height, mutation_size):\n        \"\"\"\n        Given the location and size of the box, return the path of\n        the box around it.\n\n         - *x0*, *y0*, *width*, *height* : location and size of the box\n         - *mutation_size* : a reference scale for the mutation.\n\n        Often, the *mutation_size* is the font size of the text.\n        You don't need to worry about the rotation as it is\n        automatically taken care of.\n        \"\"\"\n\n        # padding\n        pad = mutation_size * self.pad\n\n        # width and height with padding added.\n        width, height = width + 2.*pad, \\\n                        height + 2.*pad,\n\n        # boundary of the padded box\n        x0, y0 = x0-pad, y0-pad,\n        x1, y1 = x0+width, y0 + height\n\n        cp = [(x0, y0),\n              (x1, y0), (x1, y1), (x0, y1),\n              (x0-pad, (y0+y1)/2.), (x0, y0),\n              (x0, y0)]\n\n        com = [Path.MOVETO,\n               Path.LINETO, Path.LINETO, Path.LINETO,\n               Path.LINETO, Path.LINETO,\n               Path.CLOSEPOLY]\n\n        path = Path(cp, com)\n\n        return path\n\n\n# register the custom style\nBoxStyle._style_list[\"angled\"] = MyStyle\n\nfig, ax = plt.subplots(figsize=(3, 3))\nax.text(0.5, 0.5, \"Test\", size=30, va=\"center\", ha=\"center\", rotation=30,\n        bbox=dict(boxstyle=\"angled,pad=0.5\", alpha=0.2))\n\ndel BoxStyle._style_list[\"angled\"]\n\nplt.show()"
      ]
    }
  ],
  "metadata": {
    "kernelspec": {
      "display_name": "Python 3",
      "language": "python",
      "name": "python3"
    },
    "language_info": {
      "codemirror_mode": {
        "name": "ipython",
        "version": 3
      },
      "file_extension": ".py",
      "mimetype": "text/x-python",
      "name": "python",
      "nbconvert_exporter": "python",
      "pygments_lexer": "ipython3",
      "version": "3.8.2"
    }
  },
  "nbformat": 4,
  "nbformat_minor": 0
}