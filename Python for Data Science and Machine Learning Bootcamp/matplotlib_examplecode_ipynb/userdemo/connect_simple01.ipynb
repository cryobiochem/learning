{
  "cells": [
    {
      "cell_type": "code",
      "execution_count": null,
      "metadata": {
        "collapsed": false
      },
      "outputs": [],
      "source": [
        "%matplotlib inline"
      ]
    },
    {
      "cell_type": "markdown",
      "metadata": {},
      "source": [
        "\n# Connect Simple01\n\n\nA `.ConnectionPatch` can be used to draw a line (possibly with arrow head)\nbetween points defined in different coordinate systems and/or axes.\n"
      ]
    },
    {
      "cell_type": "code",
      "execution_count": null,
      "metadata": {
        "collapsed": false
      },
      "outputs": [],
      "source": [
        "from matplotlib.patches import ConnectionPatch\nimport matplotlib.pyplot as plt\n\nfig, (ax1, ax2) = plt.subplots(1, 2, figsize=(6, 3))\n\n# Draw a simple arrow between two points in axes coordinates\n# within a single axes.\nxyA = (0.2, 0.2)\nxyB = (0.8, 0.8)\ncoordsA = \"data\"\ncoordsB = \"data\"\ncon = ConnectionPatch(xyA, xyB, coordsA, coordsB,\n                      arrowstyle=\"-|>\", shrinkA=5, shrinkB=5,\n                      mutation_scale=20, fc=\"w\")\nax1.plot([xyA[0], xyB[0]], [xyA[1], xyB[1]], \"o\")\nax1.add_artist(con)\n\n# Draw an arrow between the same point in data coordinates,\n# but in different axes.\nxy = (0.3, 0.2)\ncon = ConnectionPatch(\n    xyA=xy, coordsA=ax2.transData,\n    xyB=xy, coordsB=ax1.transData,\n    arrowstyle=\"->\", shrinkB=5)\nax2.add_artist(con)\n\n# Draw a line between the different points, defined in different coordinate\n# systems.\ncon = ConnectionPatch(\n    # in axes coordinates\n    xyA=(0.6, 1.0), coordsA=ax2.transAxes,\n    # x in axes coordinates, y in data coordinates\n    xyB=(0.0, 0.2), coordsB=ax2.get_yaxis_transform(),\n    arrowstyle=\"-\")\nax2.add_artist(con)\n\nax1.set_xlim(0, 1)\nax1.set_ylim(0, 1)\nax2.set_xlim(0, .5)\nax2.set_ylim(0, .5)\n\nplt.show()"
      ]
    }
  ],
  "metadata": {
    "kernelspec": {
      "display_name": "Python 3",
      "language": "python",
      "name": "python3"
    },
    "language_info": {
      "codemirror_mode": {
        "name": "ipython",
        "version": 3
      },
      "file_extension": ".py",
      "mimetype": "text/x-python",
      "name": "python",
      "nbconvert_exporter": "python",
      "pygments_lexer": "ipython3",
      "version": "3.8.2"
    }
  },
  "nbformat": 4,
  "nbformat_minor": 0
}