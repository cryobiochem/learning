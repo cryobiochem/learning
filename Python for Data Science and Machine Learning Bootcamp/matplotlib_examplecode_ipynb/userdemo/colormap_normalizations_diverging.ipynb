{
  "cells": [
    {
      "cell_type": "code",
      "execution_count": null,
      "metadata": {
        "collapsed": false
      },
      "outputs": [],
      "source": [
        "%matplotlib inline"
      ]
    },
    {
      "cell_type": "markdown",
      "metadata": {},
      "source": [
        "\n# TwoSlopeNorm colormap normalization\n\n\nSometimes we want to have a different colormap on either side of a\nconceptual center point, and we want those two colormaps to have\ndifferent linear scales.  An example is a topographic map where the land\nand ocean have a center at zero, but land typically has a greater\nelevation range than the water has depth range, and they are often\nrepresented by a different colormap.\n"
      ]
    },
    {
      "cell_type": "code",
      "execution_count": null,
      "metadata": {
        "collapsed": false
      },
      "outputs": [],
      "source": [
        "import numpy as np\nimport matplotlib.pyplot as plt\nimport matplotlib.cbook as cbook\nimport matplotlib.colors as colors\n\nfilename = cbook.get_sample_data('topobathy.npz', asfileobj=False)\nwith np.load(filename) as dem:\n    topo = dem['topo']\n    longitude = dem['longitude']\n    latitude = dem['latitude']\n\nfig, ax = plt.subplots(constrained_layout=True)\n# make a colormap that has land and ocean clearly delineated and of the\n# same length (256 + 256)\ncolors_undersea = plt.cm.terrain(np.linspace(0, 0.17, 256))\ncolors_land = plt.cm.terrain(np.linspace(0.25, 1, 256))\nall_colors = np.vstack((colors_undersea, colors_land))\nterrain_map = colors.LinearSegmentedColormap.from_list('terrain_map',\n    all_colors)\n\n# make the norm:  Note the center is offset so that the land has more\n# dynamic range:\ndivnorm = colors.TwoSlopeNorm(vmin=-500, vcenter=0, vmax=4000)\n\npcm = ax.pcolormesh(longitude, latitude, topo, rasterized=True, norm=divnorm,\n    cmap=terrain_map,)\nax.set_xlabel('Lon $[^o E]$')\nax.set_ylabel('Lat $[^o N]$')\nax.set_aspect(1 / np.cos(np.deg2rad(49)))\nfig.colorbar(pcm, shrink=0.6, extend='both', label='Elevation [m]')\nplt.show()"
      ]
    }
  ],
  "metadata": {
    "kernelspec": {
      "display_name": "Python 3",
      "language": "python",
      "name": "python3"
    },
    "language_info": {
      "codemirror_mode": {
        "name": "ipython",
        "version": 3
      },
      "file_extension": ".py",
      "mimetype": "text/x-python",
      "name": "python",
      "nbconvert_exporter": "python",
      "pygments_lexer": "ipython3",
      "version": "3.8.2"
    }
  },
  "nbformat": 4,
  "nbformat_minor": 0
}