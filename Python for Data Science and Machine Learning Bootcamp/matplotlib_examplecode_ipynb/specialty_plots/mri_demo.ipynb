{
  "cells": [
    {
      "cell_type": "code",
      "execution_count": null,
      "metadata": {
        "collapsed": false
      },
      "outputs": [],
      "source": [
        "%matplotlib inline"
      ]
    },
    {
      "cell_type": "markdown",
      "metadata": {},
      "source": [
        "\n# MRI\n\n\nThis example illustrates how to read an image (of an MRI) into a NumPy\narray, and display it in greyscale using `~.axes.Axes.imshow`.\n"
      ]
    },
    {
      "cell_type": "code",
      "execution_count": null,
      "metadata": {
        "collapsed": false
      },
      "outputs": [],
      "source": [
        "import matplotlib.pyplot as plt\nimport matplotlib.cbook as cbook\nimport numpy as np\n\n\n# Data are 256x256 16 bit integers.\nwith cbook.get_sample_data('s1045.ima.gz') as dfile:\n    im = np.frombuffer(dfile.read(), np.uint16).reshape((256, 256))\n\nfig, ax = plt.subplots(num=\"MRI_demo\")\nax.imshow(im, cmap=\"gray\")\nax.axis('off')\n\nplt.show()"
      ]
    }
  ],
  "metadata": {
    "kernelspec": {
      "display_name": "Python 3",
      "language": "python",
      "name": "python3"
    },
    "language_info": {
      "codemirror_mode": {
        "name": "ipython",
        "version": 3
      },
      "file_extension": ".py",
      "mimetype": "text/x-python",
      "name": "python",
      "nbconvert_exporter": "python",
      "pygments_lexer": "ipython3",
      "version": "3.8.2"
    }
  },
  "nbformat": 4,
  "nbformat_minor": 0
}