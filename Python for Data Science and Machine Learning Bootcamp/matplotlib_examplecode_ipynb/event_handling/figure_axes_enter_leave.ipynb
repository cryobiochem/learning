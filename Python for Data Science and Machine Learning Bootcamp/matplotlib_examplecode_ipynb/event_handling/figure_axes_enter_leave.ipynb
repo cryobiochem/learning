{
  "cells": [
    {
      "cell_type": "code",
      "execution_count": null,
      "metadata": {
        "collapsed": false
      },
      "outputs": [],
      "source": [
        "%matplotlib inline"
      ]
    },
    {
      "cell_type": "markdown",
      "metadata": {},
      "source": [
        "\n# Figure Axes Enter Leave\n\n\nIllustrate the figure and axes enter and leave events by changing the\nframe colors on enter and leave\n"
      ]
    },
    {
      "cell_type": "code",
      "execution_count": null,
      "metadata": {
        "collapsed": false
      },
      "outputs": [],
      "source": [
        "import matplotlib.pyplot as plt\n\n\ndef enter_axes(event):\n    print('enter_axes', event.inaxes)\n    event.inaxes.patch.set_facecolor('yellow')\n    event.canvas.draw()\n\n\ndef leave_axes(event):\n    print('leave_axes', event.inaxes)\n    event.inaxes.patch.set_facecolor('white')\n    event.canvas.draw()\n\n\ndef enter_figure(event):\n    print('enter_figure', event.canvas.figure)\n    event.canvas.figure.patch.set_facecolor('red')\n    event.canvas.draw()\n\n\ndef leave_figure(event):\n    print('leave_figure', event.canvas.figure)\n    event.canvas.figure.patch.set_facecolor('grey')\n    event.canvas.draw()"
      ]
    },
    {
      "cell_type": "code",
      "execution_count": null,
      "metadata": {
        "collapsed": false
      },
      "outputs": [],
      "source": [
        "fig1, (ax, ax2) = plt.subplots(2, 1)\nfig1.suptitle('mouse hover over figure or axes to trigger events')\n\nfig1.canvas.mpl_connect('figure_enter_event', enter_figure)\nfig1.canvas.mpl_connect('figure_leave_event', leave_figure)\nfig1.canvas.mpl_connect('axes_enter_event', enter_axes)\nfig1.canvas.mpl_connect('axes_leave_event', leave_axes)"
      ]
    },
    {
      "cell_type": "code",
      "execution_count": null,
      "metadata": {
        "collapsed": false
      },
      "outputs": [],
      "source": [
        "fig2, (ax, ax2) = plt.subplots(2, 1)\nfig2.suptitle('mouse hover over figure or axes to trigger events')\n\nfig2.canvas.mpl_connect('figure_enter_event', enter_figure)\nfig2.canvas.mpl_connect('figure_leave_event', leave_figure)\nfig2.canvas.mpl_connect('axes_enter_event', enter_axes)\nfig2.canvas.mpl_connect('axes_leave_event', leave_axes)\n\nplt.show()"
      ]
    }
  ],
  "metadata": {
    "kernelspec": {
      "display_name": "Python 3",
      "language": "python",
      "name": "python3"
    },
    "language_info": {
      "codemirror_mode": {
        "name": "ipython",
        "version": 3
      },
      "file_extension": ".py",
      "mimetype": "text/x-python",
      "name": "python",
      "nbconvert_exporter": "python",
      "pygments_lexer": "ipython3",
      "version": "3.8.2"
    }
  },
  "nbformat": 4,
  "nbformat_minor": 0
}