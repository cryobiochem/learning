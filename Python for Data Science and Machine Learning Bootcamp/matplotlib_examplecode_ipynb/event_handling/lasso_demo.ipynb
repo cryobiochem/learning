{
  "cells": [
    {
      "cell_type": "code",
      "execution_count": null,
      "metadata": {
        "collapsed": false
      },
      "outputs": [],
      "source": [
        "%matplotlib inline"
      ]
    },
    {
      "cell_type": "markdown",
      "metadata": {},
      "source": [
        "\n# Lasso Demo\n\n\nShow how to use a lasso to select a set of points and get the indices\nof the selected points.  A callback is used to change the color of the\nselected points\n\nThis is currently a proof-of-concept implementation (though it is\nusable as is).  There will be some refinement of the API.\n"
      ]
    },
    {
      "cell_type": "code",
      "execution_count": null,
      "metadata": {
        "collapsed": false
      },
      "outputs": [],
      "source": [
        "from matplotlib import colors as mcolors, path\nfrom matplotlib.collections import RegularPolyCollection\nimport matplotlib.pyplot as plt\nfrom matplotlib.widgets import Lasso\nimport numpy as np\n\n\nclass Datum:\n    colorin = mcolors.to_rgba(\"red\")\n    colorout = mcolors.to_rgba(\"blue\")\n\n    def __init__(self, x, y, include=False):\n        self.x = x\n        self.y = y\n        if include:\n            self.color = self.colorin\n        else:\n            self.color = self.colorout\n\n\nclass LassoManager:\n    def __init__(self, ax, data):\n        self.axes = ax\n        self.canvas = ax.figure.canvas\n        self.data = data\n\n        self.Nxy = len(data)\n\n        facecolors = [d.color for d in data]\n        self.xys = [(d.x, d.y) for d in data]\n        self.collection = RegularPolyCollection(\n            6, sizes=(100,),\n            facecolors=facecolors,\n            offsets=self.xys,\n            transOffset=ax.transData)\n\n        ax.add_collection(self.collection)\n\n        self.cid = self.canvas.mpl_connect('button_press_event', self.onpress)\n\n    def callback(self, verts):\n        facecolors = self.collection.get_facecolors()\n        p = path.Path(verts)\n        ind = p.contains_points(self.xys)\n        for i in range(len(self.xys)):\n            if ind[i]:\n                facecolors[i] = Datum.colorin\n            else:\n                facecolors[i] = Datum.colorout\n\n        self.canvas.draw_idle()\n        self.canvas.widgetlock.release(self.lasso)\n        del self.lasso\n\n    def onpress(self, event):\n        if self.canvas.widgetlock.locked():\n            return\n        if event.inaxes is None:\n            return\n        self.lasso = Lasso(event.inaxes,\n                           (event.xdata, event.ydata),\n                           self.callback)\n        # acquire a lock on the widget drawing\n        self.canvas.widgetlock(self.lasso)\n\n\nif __name__ == '__main__':\n\n    np.random.seed(19680801)\n\n    data = [Datum(*xy) for xy in np.random.rand(100, 2)]\n    ax = plt.axes(xlim=(0, 1), ylim=(0, 1), autoscale_on=False)\n    ax.set_title('Lasso points using left mouse button')\n\n    lman = LassoManager(ax, data)\n\n    plt.show()"
      ]
    }
  ],
  "metadata": {
    "kernelspec": {
      "display_name": "Python 3",
      "language": "python",
      "name": "python3"
    },
    "language_info": {
      "codemirror_mode": {
        "name": "ipython",
        "version": 3
      },
      "file_extension": ".py",
      "mimetype": "text/x-python",
      "name": "python",
      "nbconvert_exporter": "python",
      "pygments_lexer": "ipython3",
      "version": "3.8.2"
    }
  },
  "nbformat": 4,
  "nbformat_minor": 0
}