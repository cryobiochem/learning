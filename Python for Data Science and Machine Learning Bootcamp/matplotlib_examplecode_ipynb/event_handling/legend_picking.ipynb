{
  "cells": [
    {
      "cell_type": "code",
      "execution_count": null,
      "metadata": {
        "collapsed": false
      },
      "outputs": [],
      "source": [
        "%matplotlib inline"
      ]
    },
    {
      "cell_type": "markdown",
      "metadata": {},
      "source": [
        "\n# Legend Picking\n\n\nEnable picking on the legend to toggle the original line on and off\n"
      ]
    },
    {
      "cell_type": "code",
      "execution_count": null,
      "metadata": {
        "collapsed": false
      },
      "outputs": [],
      "source": [
        "import numpy as np\nimport matplotlib.pyplot as plt\n\nt = np.arange(0.0, 0.2, 0.1)\ny1 = 2*np.sin(2*np.pi*t)\ny2 = 4*np.sin(2*np.pi*2*t)\n\nfig, ax = plt.subplots()\nax.set_title('Click on legend line to toggle line on/off')\nline1, = ax.plot(t, y1, lw=2, label='1 HZ')\nline2, = ax.plot(t, y2, lw=2, label='2 HZ')\nleg = ax.legend(loc='upper left', fancybox=True, shadow=True)\nleg.get_frame().set_alpha(0.4)\n\n\n# we will set up a dict mapping legend line to orig line, and enable\n# picking on the legend line\nlines = [line1, line2]\nlined = dict()\nfor legline, origline in zip(leg.get_lines(), lines):\n    legline.set_picker(5)  # 5 pts tolerance\n    lined[legline] = origline\n\n\ndef onpick(event):\n    # on the pick event, find the orig line corresponding to the\n    # legend proxy line, and toggle the visibility\n    legline = event.artist\n    origline = lined[legline]\n    vis = not origline.get_visible()\n    origline.set_visible(vis)\n    # Change the alpha on the line in the legend so we can see what lines\n    # have been toggled\n    if vis:\n        legline.set_alpha(1.0)\n    else:\n        legline.set_alpha(0.2)\n    fig.canvas.draw()\n\nfig.canvas.mpl_connect('pick_event', onpick)\n\nplt.show()"
      ]
    }
  ],
  "metadata": {
    "kernelspec": {
      "display_name": "Python 3",
      "language": "python",
      "name": "python3"
    },
    "language_info": {
      "codemirror_mode": {
        "name": "ipython",
        "version": 3
      },
      "file_extension": ".py",
      "mimetype": "text/x-python",
      "name": "python",
      "nbconvert_exporter": "python",
      "pygments_lexer": "ipython3",
      "version": "3.8.2"
    }
  },
  "nbformat": 4,
  "nbformat_minor": 0
}