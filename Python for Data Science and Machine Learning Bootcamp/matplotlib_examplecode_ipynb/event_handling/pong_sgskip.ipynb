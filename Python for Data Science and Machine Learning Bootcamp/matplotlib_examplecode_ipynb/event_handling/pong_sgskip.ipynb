{
  "cells": [
    {
      "cell_type": "code",
      "execution_count": null,
      "metadata": {
        "collapsed": false
      },
      "outputs": [],
      "source": [
        "%matplotlib inline"
      ]
    },
    {
      "cell_type": "markdown",
      "metadata": {},
      "source": [
        "\n# Pong\n\n\nA small game demo using Matplotlib.\n\n.. only:: builder_html\n\n   This example requires :download:`pipong.py <pipong.py>`\n"
      ]
    },
    {
      "cell_type": "code",
      "execution_count": null,
      "metadata": {
        "collapsed": false
      },
      "outputs": [],
      "source": [
        "import time\n\n\nimport matplotlib.pyplot as plt\nimport pipong\n\n\nfig, ax = plt.subplots()\ncanvas = ax.figure.canvas\nanimation = pipong.Game(ax)\n\n# disable the default key bindings\nif fig.canvas.manager.key_press_handler_id is not None:\n    canvas.mpl_disconnect(fig.canvas.manager.key_press_handler_id)\n\n\n# reset the blitting background on redraw\ndef handle_redraw(event):\n    animation.background = None\n\n\n# bootstrap after the first draw\ndef start_anim(event):\n    canvas.mpl_disconnect(start_anim.cid)\n\n    def local_draw():\n        if animation.ax.get_renderer_cache():\n            animation.draw(None)\n    start_anim.timer.add_callback(local_draw)\n    start_anim.timer.start()\n    canvas.mpl_connect('draw_event', handle_redraw)\n\n\nstart_anim.cid = canvas.mpl_connect('draw_event', start_anim)\nstart_anim.timer = animation.canvas.new_timer()\nstart_anim.timer.interval = 1\n\ntstart = time.time()\n\nplt.show()\nprint('FPS: %f' % (animation.cnt/(time.time() - tstart)))"
      ]
    }
  ],
  "metadata": {
    "kernelspec": {
      "display_name": "Python 3",
      "language": "python",
      "name": "python3"
    },
    "language_info": {
      "codemirror_mode": {
        "name": "ipython",
        "version": 3
      },
      "file_extension": ".py",
      "mimetype": "text/x-python",
      "name": "python",
      "nbconvert_exporter": "python",
      "pygments_lexer": "ipython3",
      "version": "3.8.2"
    }
  },
  "nbformat": 4,
  "nbformat_minor": 0
}