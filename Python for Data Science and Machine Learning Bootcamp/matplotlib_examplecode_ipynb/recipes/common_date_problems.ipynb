{
  "cells": [
    {
      "cell_type": "code",
      "execution_count": null,
      "metadata": {
        "collapsed": false
      },
      "outputs": [],
      "source": [
        "%matplotlib inline"
      ]
    },
    {
      "cell_type": "markdown",
      "metadata": {},
      "source": [
        "\nFixing common date annoyances\n=============================\n\nMatplotlib allows you to natively plots python datetime instances, and\nfor the most part does a good job picking tick locations and string\nformats.  There are a couple of things it does not handle so\ngracefully, and here are some tricks to help you work around them.\nWe'll load up some sample date data which contains datetime.date\nobjects in a numpy record array::\n\n  In [63]: datafile = cbook.get_sample_data('goog.npz')\n\n  In [64]: r = np.load(datafile)['price_data'].view(np.recarray)\n\n  In [65]: r.dtype\n  Out[65]: dtype([('date', '<M8[D]'), ('', '|V4'), ('open', '<f8'),\n                  ('high', '<f8'), ('low', '<f8'), ('close', '<f8'),\n                  ('volume', '<i8'),  ('adj_close', '<f8')])\n\n  In [66]: r.date\n  Out[66]:\n  array(['2004-08-19', '2004-08-20', '2004-08-23', ..., '2008-10-10',\n         '2008-10-13', '2008-10-14'], dtype='datetime64[D]')\n\nThe dtype of the NumPy record array for the field ``date`` is ``datetime64[D]``\nwhich means it is a 64-bit `numpy.datetime64` in 'day' units. While this format\nis more portable, Matplotlib cannot plot this format natively yet. We can plot\nthis data by changing the dates to `datetime.date` instances instead, which can\nbe achieved by converting to an object array::\n\n  In [67]: r.date.astype('O')\n  array([datetime.date(2004, 8, 19), datetime.date(2004, 8, 20),\n         datetime.date(2004, 8, 23), ..., datetime.date(2008, 10, 10),\n         datetime.date(2008, 10, 13), datetime.date(2008, 10, 14)],\n        dtype=object)\n\nThe dtype of this converted array is now ``object`` and it is filled with\ndatetime.date instances instead.\n\nIf you plot the data, ::\n\n  In [67]: plot(r.date.astype('O'), r.close)\n  Out[67]: [<matplotlib.lines.Line2D object at 0x92a6b6c>]\n\nyou will see that the x tick labels are all squashed together.\n"
      ]
    },
    {
      "cell_type": "code",
      "execution_count": null,
      "metadata": {
        "collapsed": false
      },
      "outputs": [],
      "source": [
        "import matplotlib.cbook as cbook\nimport matplotlib.dates as mdates\nimport numpy as np\nimport matplotlib.pyplot as plt\n\nwith cbook.get_sample_data('goog.npz') as datafile:\n    r = np.load(datafile)['price_data'].view(np.recarray)\n\n# Matplotlib prefers datetime instead of np.datetime64.\ndate = r.date.astype('O')\nfig, ax = plt.subplots()\nax.plot(date, r.close)\nax.set_title('Default date handling can cause overlapping labels')"
      ]
    },
    {
      "cell_type": "markdown",
      "metadata": {},
      "source": [
        "Another annoyance is that if you hover the mouse over the window and\nlook in the lower right corner of the matplotlib toolbar\n(`navigation-toolbar`) at the x and y coordinates, you see that\nthe x locations are formatted the same way the tick labels are, e.g.,\n\"Dec 2004\".\n\nWhat we'd like is for the location in the toolbar to have\na higher degree of precision, e.g., giving us the exact date out mouse is\nhovering over.  To fix the first problem, we can use\n:func:`matplotlib.figure.Figure.autofmt_xdate` and to fix the second\nproblem we can use the ``ax.fmt_xdata`` attribute which can be set to\nany function that takes a scalar and returns a string.  matplotlib has\na number of date formatters built in, so we'll use one of those.\n\n"
      ]
    },
    {
      "cell_type": "code",
      "execution_count": null,
      "metadata": {
        "collapsed": false
      },
      "outputs": [],
      "source": [
        "fig, ax = plt.subplots()\nax.plot(date, r.close)\n\n# rotate and align the tick labels so they look better\nfig.autofmt_xdate()\n\n# use a more precise date string for the x axis locations in the\n# toolbar\nax.fmt_xdata = mdates.DateFormatter('%Y-%m-%d')\nax.set_title('fig.autofmt_xdate fixes the labels')"
      ]
    },
    {
      "cell_type": "markdown",
      "metadata": {},
      "source": [
        "Now when you hover your mouse over the plotted data, you'll see date\nformat strings like 2004-12-01 in the toolbar.\n\n"
      ]
    },
    {
      "cell_type": "code",
      "execution_count": null,
      "metadata": {
        "collapsed": false
      },
      "outputs": [],
      "source": [
        "plt.show()"
      ]
    }
  ],
  "metadata": {
    "kernelspec": {
      "display_name": "Python 3",
      "language": "python",
      "name": "python3"
    },
    "language_info": {
      "codemirror_mode": {
        "name": "ipython",
        "version": 3
      },
      "file_extension": ".py",
      "mimetype": "text/x-python",
      "name": "python",
      "nbconvert_exporter": "python",
      "pygments_lexer": "ipython3",
      "version": "3.8.2"
    }
  },
  "nbformat": 4,
  "nbformat_minor": 0
}