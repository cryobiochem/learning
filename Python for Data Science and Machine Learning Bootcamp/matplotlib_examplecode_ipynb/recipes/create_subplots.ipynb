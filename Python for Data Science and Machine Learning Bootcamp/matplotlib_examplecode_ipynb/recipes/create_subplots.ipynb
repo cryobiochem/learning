{
  "cells": [
    {
      "cell_type": "code",
      "execution_count": null,
      "metadata": {
        "collapsed": false
      },
      "outputs": [],
      "source": [
        "%matplotlib inline"
      ]
    },
    {
      "cell_type": "markdown",
      "metadata": {},
      "source": [
        "\nEasily creating subplots\n========================\n\nIn early versions of matplotlib, if you wanted to use the pythonic API\nand create a figure instance and from that create a grid of subplots,\npossibly with shared axes, it involved a fair amount of boilerplate\ncode.  e.g.\n"
      ]
    },
    {
      "cell_type": "code",
      "execution_count": null,
      "metadata": {
        "collapsed": false
      },
      "outputs": [],
      "source": [
        "import matplotlib.pyplot as plt\nimport numpy as np\n\nx = np.random.randn(50)\n\n# old style\nfig = plt.figure()\nax1 = fig.add_subplot(221)\nax2 = fig.add_subplot(222, sharex=ax1, sharey=ax1)\nax3 = fig.add_subplot(223, sharex=ax1, sharey=ax1)\nax3 = fig.add_subplot(224, sharex=ax1, sharey=ax1)"
      ]
    },
    {
      "cell_type": "markdown",
      "metadata": {},
      "source": [
        "Fernando Perez has provided a nice top level method in\n:func:`~matplotlib.pyplot.subplots` (note the \"s\" at the end) to create\neverything at once, and turn on x and y sharing for the whole bunch.\nYou can either unpack the axes individually...\n\n"
      ]
    },
    {
      "cell_type": "code",
      "execution_count": null,
      "metadata": {
        "collapsed": false
      },
      "outputs": [],
      "source": [
        "# new style method 1; unpack the axes\nfig, ((ax1, ax2), (ax3, ax4)) = plt.subplots(2, 2, sharex=True, sharey=True)\nax1.plot(x)"
      ]
    },
    {
      "cell_type": "markdown",
      "metadata": {},
      "source": [
        "or get them back as a numrows x numcolumns object array which supports\nnumpy indexing\n\n"
      ]
    },
    {
      "cell_type": "code",
      "execution_count": null,
      "metadata": {
        "collapsed": false
      },
      "outputs": [],
      "source": [
        "# new style method 2; use an axes array\nfig, axs = plt.subplots(2, 2, sharex=True, sharey=True)\naxs[0, 0].plot(x)\n\nplt.show()"
      ]
    }
  ],
  "metadata": {
    "kernelspec": {
      "display_name": "Python 3",
      "language": "python",
      "name": "python3"
    },
    "language_info": {
      "codemirror_mode": {
        "name": "ipython",
        "version": 3
      },
      "file_extension": ".py",
      "mimetype": "text/x-python",
      "name": "python",
      "nbconvert_exporter": "python",
      "pygments_lexer": "ipython3",
      "version": "3.8.2"
    }
  },
  "nbformat": 4,
  "nbformat_minor": 0
}